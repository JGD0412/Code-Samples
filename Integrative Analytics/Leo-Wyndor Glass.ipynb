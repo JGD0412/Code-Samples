{
 "cells": [
  {
   "cell_type": "code",
   "execution_count": 1,
   "metadata": {
    "cell_id": "00000-da934ae5-9544-4efb-a3b3-2d2cf24ca110",
    "deepnote_cell_type": "code",
    "deepnote_to_be_reexecuted": false,
    "execution_millis": 0,
    "execution_start": 1619223149126,
    "source_hash": "346daabf"
   },
   "outputs": [],
   "source": [
    "import numpy as np\n",
    "import pandas as pd\n",
    "import statsmodels.api as sm\n",
    "from matplotlib import pyplot as plt\n",
    "from pyomo.environ import *\n",
    "from pyomo.opt import SolverFactory"
   ]
  },
  {
   "cell_type": "code",
   "execution_count": 2,
   "metadata": {
    "cell_id": "00001-97ce1687-e265-46e1-b2c0-5e5b522f6608",
    "deepnote_cell_type": "code",
    "deepnote_to_be_reexecuted": false,
    "execution_millis": 6,
    "execution_start": 1619223149524,
    "source_hash": "cdf7079a"
   },
   "outputs": [],
   "source": [
    "df=pd.read_csv('Advertising1.csv')"
   ]
  },
  {
   "cell_type": "code",
   "execution_count": 3,
   "metadata": {
    "cell_id": "00002-1fdff390-ecc8-4e2a-a3d6-0f8ccdbb2a94",
    "deepnote_cell_type": "code",
    "deepnote_to_be_reexecuted": false,
    "execution_millis": 3,
    "execution_start": 1619223149706,
    "source_hash": "cd7fa5ed"
   },
   "outputs": [],
   "source": [
    "df.drop(columns='Unnamed: 0',inplace=True)\n",
    "df.drop(columns='Newspaper',inplace=True)"
   ]
  },
  {
   "cell_type": "code",
   "execution_count": 4,
   "metadata": {
    "cell_id": "00003-10138208-a362-4927-9e3f-937f25eb10a0",
    "deepnote_cell_type": "code",
    "deepnote_to_be_reexecuted": false,
    "execution_millis": 27,
    "execution_start": 1619223150004,
    "source_hash": "f804c160"
   },
   "outputs": [
    {
     "data": {
      "text/html": [
       "<div>\n",
       "<style scoped>\n",
       "    .dataframe tbody tr th:only-of-type {\n",
       "        vertical-align: middle;\n",
       "    }\n",
       "\n",
       "    .dataframe tbody tr th {\n",
       "        vertical-align: top;\n",
       "    }\n",
       "\n",
       "    .dataframe thead th {\n",
       "        text-align: right;\n",
       "    }\n",
       "</style>\n",
       "<table border=\"1\" class=\"dataframe\">\n",
       "  <thead>\n",
       "    <tr style=\"text-align: right;\">\n",
       "      <th></th>\n",
       "      <th>TV</th>\n",
       "      <th>Radio</th>\n",
       "      <th>Sales</th>\n",
       "    </tr>\n",
       "  </thead>\n",
       "  <tbody>\n",
       "    <tr>\n",
       "      <th>0</th>\n",
       "      <td>230.1</td>\n",
       "      <td>37.8</td>\n",
       "      <td>22.1</td>\n",
       "    </tr>\n",
       "    <tr>\n",
       "      <th>1</th>\n",
       "      <td>44.5</td>\n",
       "      <td>39.3</td>\n",
       "      <td>10.4</td>\n",
       "    </tr>\n",
       "    <tr>\n",
       "      <th>2</th>\n",
       "      <td>17.2</td>\n",
       "      <td>45.9</td>\n",
       "      <td>9.3</td>\n",
       "    </tr>\n",
       "    <tr>\n",
       "      <th>3</th>\n",
       "      <td>151.5</td>\n",
       "      <td>41.3</td>\n",
       "      <td>18.5</td>\n",
       "    </tr>\n",
       "    <tr>\n",
       "      <th>4</th>\n",
       "      <td>180.8</td>\n",
       "      <td>10.8</td>\n",
       "      <td>12.9</td>\n",
       "    </tr>\n",
       "    <tr>\n",
       "      <th>...</th>\n",
       "      <td>...</td>\n",
       "      <td>...</td>\n",
       "      <td>...</td>\n",
       "    </tr>\n",
       "    <tr>\n",
       "      <th>195</th>\n",
       "      <td>38.2</td>\n",
       "      <td>3.7</td>\n",
       "      <td>7.6</td>\n",
       "    </tr>\n",
       "    <tr>\n",
       "      <th>196</th>\n",
       "      <td>94.2</td>\n",
       "      <td>4.9</td>\n",
       "      <td>9.7</td>\n",
       "    </tr>\n",
       "    <tr>\n",
       "      <th>197</th>\n",
       "      <td>177.0</td>\n",
       "      <td>9.3</td>\n",
       "      <td>12.8</td>\n",
       "    </tr>\n",
       "    <tr>\n",
       "      <th>198</th>\n",
       "      <td>283.6</td>\n",
       "      <td>42.0</td>\n",
       "      <td>25.5</td>\n",
       "    </tr>\n",
       "    <tr>\n",
       "      <th>199</th>\n",
       "      <td>232.1</td>\n",
       "      <td>8.6</td>\n",
       "      <td>13.4</td>\n",
       "    </tr>\n",
       "  </tbody>\n",
       "</table>\n",
       "<p>200 rows × 3 columns</p>\n",
       "</div>"
      ],
      "text/plain": [
       "        TV  Radio  Sales\n",
       "0    230.1   37.8   22.1\n",
       "1     44.5   39.3   10.4\n",
       "2     17.2   45.9    9.3\n",
       "3    151.5   41.3   18.5\n",
       "4    180.8   10.8   12.9\n",
       "..     ...    ...    ...\n",
       "195   38.2    3.7    7.6\n",
       "196   94.2    4.9    9.7\n",
       "197  177.0    9.3   12.8\n",
       "198  283.6   42.0   25.5\n",
       "199  232.1    8.6   13.4\n",
       "\n",
       "[200 rows x 3 columns]"
      ]
     },
     "execution_count": 4,
     "metadata": {},
     "output_type": "execute_result"
    }
   ],
   "source": [
    "df"
   ]
  },
  {
   "cell_type": "markdown",
   "metadata": {},
   "source": [
    "## Linear Regression"
   ]
  },
  {
   "cell_type": "code",
   "execution_count": 5,
   "metadata": {
    "cell_id": "00004-69ae44e2-aeeb-426c-a5de-ce27f1ad2292",
    "deepnote_cell_type": "code",
    "deepnote_to_be_reexecuted": false,
    "execution_millis": 3,
    "execution_start": 1619223151199,
    "source_hash": "460eeb63"
   },
   "outputs": [],
   "source": [
    "from sklearn.linear_model import LinearRegression\n",
    "from sklearn.model_selection import train_test_split"
   ]
  },
  {
   "cell_type": "code",
   "execution_count": 6,
   "metadata": {
    "cell_id": "00005-9f869d23-c0ea-4297-a0bf-cac17e6dddba",
    "deepnote_cell_type": "code",
    "deepnote_to_be_reexecuted": false,
    "execution_millis": 2,
    "execution_start": 1619223151584,
    "source_hash": "e37f1cf3"
   },
   "outputs": [],
   "source": [
    "y=df.Sales.copy()\n",
    "df.drop(columns='Sales',inplace=True)"
   ]
  },
  {
   "cell_type": "code",
   "execution_count": 7,
   "metadata": {
    "cell_id": "00006-78743a54-76ff-4690-bfad-442f64c349b6",
    "deepnote_cell_type": "code",
    "deepnote_to_be_reexecuted": false,
    "execution_millis": 3,
    "execution_start": 1619223153111,
    "source_hash": "60215592"
   },
   "outputs": [],
   "source": [
    "# Random 100 samples\n",
    "# x_train,x_test,y_train,y_test = train_test_split(df,y,\n",
    "#                                                  test_size=0.5,\n",
    "#                                                  random_state=0)"
   ]
  },
  {
   "cell_type": "code",
   "execution_count": 8,
   "metadata": {},
   "outputs": [],
   "source": [
    "# First 100 samples\n",
    "x_train = df.iloc[0:100,:]\n",
    "x_test = df.iloc[100:,:]\n",
    "y_train = y[:100]\n",
    "y_test = y[100:]"
   ]
  },
  {
   "cell_type": "code",
   "execution_count": 9,
   "metadata": {
    "cell_id": "00009-f9060f9b-546b-4ec1-82ea-737c82d2d819",
    "deepnote_cell_type": "code",
    "deepnote_to_be_reexecuted": false,
    "execution_millis": 2,
    "execution_start": 1619223153934,
    "source_hash": "169e658c"
   },
   "outputs": [],
   "source": [
    "m1 = LinearRegression().fit(x_train,y_train)\n",
    "y_train_pred = m1.predict(x_train)"
   ]
  },
  {
   "cell_type": "code",
   "execution_count": 57,
   "metadata": {},
   "outputs": [
    {
     "data": {
      "text/plain": [
       "array([0.04585391, 0.18412361])"
      ]
     },
     "execution_count": 57,
     "metadata": {},
     "output_type": "execute_result"
    }
   ],
   "source": [
    "m1.coef_"
   ]
  },
  {
   "cell_type": "code",
   "execution_count": 58,
   "metadata": {},
   "outputs": [
    {
     "data": {
      "text/plain": [
       "3.146986251809624"
      ]
     },
     "execution_count": 58,
     "metadata": {},
     "output_type": "execute_result"
    }
   ],
   "source": [
    "m1.intercept_"
   ]
  },
  {
   "cell_type": "code",
   "execution_count": 10,
   "metadata": {
    "cell_id": "00010-14638c7b-bf85-459a-acd8-76da10c8a17b",
    "deepnote_cell_type": "code",
    "deepnote_to_be_reexecuted": false,
    "execution_millis": 1,
    "execution_start": 1619223154544,
    "source_hash": "d6ca3a9"
   },
   "outputs": [],
   "source": [
    "train_set=pd.DataFrame(x_train)\n",
    "train_set['y']=y_train.values\n",
    "train_set[\"Predict\"]=y_train_pred"
   ]
  },
  {
   "cell_type": "code",
   "execution_count": 11,
   "metadata": {
    "cell_id": "00011-5b961c94-f254-4624-9771-32f890dd5609",
    "deepnote_cell_type": "code",
    "deepnote_to_be_reexecuted": false,
    "execution_millis": 1,
    "execution_start": 1619223155074,
    "source_hash": "7e886ec9"
   },
   "outputs": [],
   "source": [
    "train_set['res']=train_set['y']-train_set[\"Predict\"]"
   ]
  },
  {
   "cell_type": "code",
   "execution_count": 62,
   "metadata": {
    "cell_id": "00012-975a6906-bb97-42df-86c9-555eca9350e0",
    "deepnote_cell_type": "code",
    "deepnote_to_be_reexecuted": false,
    "execution_millis": 5,
    "execution_start": 1619223157725,
    "source_hash": "c8a88089"
   },
   "outputs": [
    {
     "data": {
      "image/png": "[encoded data removed]",
      "text/plain": [
       "<Figure size 432x288 with 1 Axes>"
      ]
     },
     "metadata": {
      "needs_background": "light"
     },
     "output_type": "display_data"
    }
   ],
   "source": [
    "sm.qqplot(train_set['res'],fit=True, line=\"45\")\n",
    "plt.show()\n",
    "plt.title()"
   ]
  },
  {
   "cell_type": "code",
   "execution_count": 13,
   "metadata": {},
   "outputs": [
    {
     "data": {
      "text/plain": [
       "<AxesSubplot:>"
      ]
     },
     "execution_count": 13,
     "metadata": {},
     "output_type": "execute_result"
    },
    {
     "data": {
      "image/png": "[encoded data removed]",
      "text/plain": [
       "<Figure size 432x288 with 1 Axes>"
      ]
     },
     "metadata": {
      "needs_background": "light"
     },
     "output_type": "display_data"
    }
   ],
   "source": [
    "train_set['res'].hist()"
   ]
  },
  {
   "cell_type": "code",
   "execution_count": 14,
   "metadata": {},
   "outputs": [
    {
     "data": {
      "text/html": [
       "<div>\n",
       "<style scoped>\n",
       "    .dataframe tbody tr th:only-of-type {\n",
       "        vertical-align: middle;\n",
       "    }\n",
       "\n",
       "    .dataframe tbody tr th {\n",
       "        vertical-align: top;\n",
       "    }\n",
       "\n",
       "    .dataframe thead th {\n",
       "        text-align: right;\n",
       "    }\n",
       "</style>\n",
       "<table border=\"1\" class=\"dataframe\">\n",
       "  <thead>\n",
       "    <tr style=\"text-align: right;\">\n",
       "      <th></th>\n",
       "      <th>res</th>\n",
       "    </tr>\n",
       "  </thead>\n",
       "  <tbody>\n",
       "    <tr>\n",
       "      <th>5</th>\n",
       "      <td>-5.349560</td>\n",
       "    </tr>\n",
       "    <tr>\n",
       "      <th>35</th>\n",
       "      <td>-4.431625</td>\n",
       "    </tr>\n",
       "    <tr>\n",
       "      <th>25</th>\n",
       "      <td>-3.846413</td>\n",
       "    </tr>\n",
       "    <tr>\n",
       "      <th>78</th>\n",
       "      <td>-3.599893</td>\n",
       "    </tr>\n",
       "    <tr>\n",
       "      <th>75</th>\n",
       "      <td>-3.268119</td>\n",
       "    </tr>\n",
       "    <tr>\n",
       "      <th>...</th>\n",
       "      <td>...</td>\n",
       "    </tr>\n",
       "    <tr>\n",
       "      <th>36</th>\n",
       "      <td>1.949990</td>\n",
       "    </tr>\n",
       "    <tr>\n",
       "      <th>60</th>\n",
       "      <td>2.131582</td>\n",
       "    </tr>\n",
       "    <tr>\n",
       "      <th>76</th>\n",
       "      <td>2.197433</td>\n",
       "    </tr>\n",
       "    <tr>\n",
       "      <th>55</th>\n",
       "      <td>2.336964</td>\n",
       "    </tr>\n",
       "    <tr>\n",
       "      <th>91</th>\n",
       "      <td>2.565406</td>\n",
       "    </tr>\n",
       "  </tbody>\n",
       "</table>\n",
       "<p>100 rows × 1 columns</p>\n",
       "</div>"
      ],
      "text/plain": [
       "         res\n",
       "5  -5.349560\n",
       "35 -4.431625\n",
       "25 -3.846413\n",
       "78 -3.599893\n",
       "75 -3.268119\n",
       "..       ...\n",
       "36  1.949990\n",
       "60  2.131582\n",
       "76  2.197433\n",
       "55  2.336964\n",
       "91  2.565406\n",
       "\n",
       "[100 rows x 1 columns]"
      ]
     },
     "execution_count": 14,
     "metadata": {},
     "output_type": "execute_result"
    }
   ],
   "source": [
    "pd.DataFrame(train_set['res'].sort_values())"
   ]
  },
  {
   "cell_type": "code",
   "execution_count": 15,
   "metadata": {},
   "outputs": [],
   "source": [
    "#remove outliers in training set\n",
    "train_set = train_set.drop([5,91])"
   ]
  },
  {
   "cell_type": "code",
   "execution_count": 16,
   "metadata": {},
   "outputs": [],
   "source": [
    "y_test_pred = m1.predict(x_test)\n",
    "test_set=pd.DataFrame(x_test)\n",
    "test_set['y']=y_test.values\n",
    "test_set[\"Predict\"]=y_test_pred"
   ]
  },
  {
   "cell_type": "code",
   "execution_count": 17,
   "metadata": {},
   "outputs": [],
   "source": [
    "test_set['res']=test_set['y']-test_set[\"Predict\"]"
   ]
  },
  {
   "cell_type": "code",
   "execution_count": 18,
   "metadata": {},
   "outputs": [
    {
     "data": {
      "text/plain": [
       "<AxesSubplot:>"
      ]
     },
     "execution_count": 18,
     "metadata": {},
     "output_type": "execute_result"
    },
    {
     "data": {
      "image/png": "[encoded data removed]",
      "text/plain": [
       "<Figure size 432x288 with 1 Axes>"
      ]
     },
     "metadata": {
      "needs_background": "light"
     },
     "output_type": "display_data"
    }
   ],
   "source": [
    "test_set['res'].hist()"
   ]
  },
  {
   "cell_type": "code",
   "execution_count": 19,
   "metadata": {},
   "outputs": [
    {
     "data": {
      "image/png": "[encoded data removed]",
      "text/plain": [
       "<Figure size 432x288 with 1 Axes>"
      ]
     },
     "metadata": {
      "needs_background": "light"
     },
     "output_type": "display_data"
    }
   ],
   "source": [
    "fig = sm.qqplot(test_set['res'],fit=True, line=\"45\")\n",
    "plt.show()"
   ]
  },
  {
   "cell_type": "code",
   "execution_count": 20,
   "metadata": {},
   "outputs": [
    {
     "data": {
      "text/html": [
       "<div>\n",
       "<style scoped>\n",
       "    .dataframe tbody tr th:only-of-type {\n",
       "        vertical-align: middle;\n",
       "    }\n",
       "\n",
       "    .dataframe tbody tr th {\n",
       "        vertical-align: top;\n",
       "    }\n",
       "\n",
       "    .dataframe thead th {\n",
       "        text-align: right;\n",
       "    }\n",
       "</style>\n",
       "<table border=\"1\" class=\"dataframe\">\n",
       "  <thead>\n",
       "    <tr style=\"text-align: right;\">\n",
       "      <th></th>\n",
       "      <th>res</th>\n",
       "    </tr>\n",
       "  </thead>\n",
       "  <tbody>\n",
       "    <tr>\n",
       "      <th>130</th>\n",
       "      <td>-8.870379</td>\n",
       "    </tr>\n",
       "    <tr>\n",
       "      <th>178</th>\n",
       "      <td>-4.458248</td>\n",
       "    </tr>\n",
       "    <tr>\n",
       "      <th>126</th>\n",
       "      <td>-4.067055</td>\n",
       "    </tr>\n",
       "    <tr>\n",
       "      <th>158</th>\n",
       "      <td>-3.177638</td>\n",
       "    </tr>\n",
       "    <tr>\n",
       "      <th>131</th>\n",
       "      <td>-3.141402</td>\n",
       "    </tr>\n",
       "    <tr>\n",
       "      <th>...</th>\n",
       "      <td>...</td>\n",
       "    </tr>\n",
       "    <tr>\n",
       "      <th>195</th>\n",
       "      <td>2.020137</td>\n",
       "    </tr>\n",
       "    <tr>\n",
       "      <th>147</th>\n",
       "      <td>2.079285</td>\n",
       "    </tr>\n",
       "    <tr>\n",
       "      <th>175</th>\n",
       "      <td>2.152421</td>\n",
       "    </tr>\n",
       "    <tr>\n",
       "      <th>128</th>\n",
       "      <td>2.429340</td>\n",
       "    </tr>\n",
       "    <tr>\n",
       "      <th>117</th>\n",
       "      <td>2.602476</td>\n",
       "    </tr>\n",
       "  </tbody>\n",
       "</table>\n",
       "<p>100 rows × 1 columns</p>\n",
       "</div>"
      ],
      "text/plain": [
       "          res\n",
       "130 -8.870379\n",
       "178 -4.458248\n",
       "126 -4.067055\n",
       "158 -3.177638\n",
       "131 -3.141402\n",
       "..        ...\n",
       "195  2.020137\n",
       "147  2.079285\n",
       "175  2.152421\n",
       "128  2.429340\n",
       "117  2.602476\n",
       "\n",
       "[100 rows x 1 columns]"
      ]
     },
     "execution_count": 20,
     "metadata": {},
     "output_type": "execute_result"
    }
   ],
   "source": [
    "pd.DataFrame(test_set['res'].sort_values())"
   ]
  },
  {
   "cell_type": "code",
   "execution_count": 21,
   "metadata": {},
   "outputs": [],
   "source": [
    "#remove outliers in testing set\n",
    "test_set = test_set.drop([130,128,117])"
   ]
  },
  {
   "cell_type": "code",
   "execution_count": 22,
   "metadata": {},
   "outputs": [
    {
     "data": {
      "text/html": [
       "<div>\n",
       "<style scoped>\n",
       "    .dataframe tbody tr th:only-of-type {\n",
       "        vertical-align: middle;\n",
       "    }\n",
       "\n",
       "    .dataframe tbody tr th {\n",
       "        vertical-align: top;\n",
       "    }\n",
       "\n",
       "    .dataframe thead th {\n",
       "        text-align: right;\n",
       "    }\n",
       "</style>\n",
       "<table border=\"1\" class=\"dataframe\">\n",
       "  <thead>\n",
       "    <tr style=\"text-align: right;\">\n",
       "      <th></th>\n",
       "      <th>TV</th>\n",
       "      <th>Radio</th>\n",
       "      <th>y</th>\n",
       "      <th>Predict</th>\n",
       "      <th>res</th>\n",
       "    </tr>\n",
       "  </thead>\n",
       "  <tbody>\n",
       "    <tr>\n",
       "      <th>0</th>\n",
       "      <td>230.1</td>\n",
       "      <td>37.8</td>\n",
       "      <td>22.1</td>\n",
       "      <td>20.657844</td>\n",
       "      <td>1.442156</td>\n",
       "    </tr>\n",
       "    <tr>\n",
       "      <th>1</th>\n",
       "      <td>44.5</td>\n",
       "      <td>39.3</td>\n",
       "      <td>10.4</td>\n",
       "      <td>12.423543</td>\n",
       "      <td>-2.023543</td>\n",
       "    </tr>\n",
       "    <tr>\n",
       "      <th>2</th>\n",
       "      <td>17.2</td>\n",
       "      <td>45.9</td>\n",
       "      <td>9.3</td>\n",
       "      <td>12.386947</td>\n",
       "      <td>-3.086947</td>\n",
       "    </tr>\n",
       "    <tr>\n",
       "      <th>3</th>\n",
       "      <td>151.5</td>\n",
       "      <td>41.3</td>\n",
       "      <td>18.5</td>\n",
       "      <td>17.698159</td>\n",
       "      <td>0.801841</td>\n",
       "    </tr>\n",
       "    <tr>\n",
       "      <th>4</th>\n",
       "      <td>180.8</td>\n",
       "      <td>10.8</td>\n",
       "      <td>12.9</td>\n",
       "      <td>13.425909</td>\n",
       "      <td>-0.525909</td>\n",
       "    </tr>\n",
       "    <tr>\n",
       "      <th>...</th>\n",
       "      <td>...</td>\n",
       "      <td>...</td>\n",
       "      <td>...</td>\n",
       "      <td>...</td>\n",
       "      <td>...</td>\n",
       "    </tr>\n",
       "    <tr>\n",
       "      <th>95</th>\n",
       "      <td>163.3</td>\n",
       "      <td>31.6</td>\n",
       "      <td>16.9</td>\n",
       "      <td>16.453236</td>\n",
       "      <td>0.446764</td>\n",
       "    </tr>\n",
       "    <tr>\n",
       "      <th>96</th>\n",
       "      <td>197.6</td>\n",
       "      <td>3.5</td>\n",
       "      <td>11.7</td>\n",
       "      <td>12.852152</td>\n",
       "      <td>-1.152152</td>\n",
       "    </tr>\n",
       "    <tr>\n",
       "      <th>97</th>\n",
       "      <td>184.9</td>\n",
       "      <td>21.0</td>\n",
       "      <td>15.5</td>\n",
       "      <td>15.491971</td>\n",
       "      <td>0.008029</td>\n",
       "    </tr>\n",
       "    <tr>\n",
       "      <th>98</th>\n",
       "      <td>289.7</td>\n",
       "      <td>42.3</td>\n",
       "      <td>25.4</td>\n",
       "      <td>24.219294</td>\n",
       "      <td>1.180706</td>\n",
       "    </tr>\n",
       "    <tr>\n",
       "      <th>99</th>\n",
       "      <td>135.2</td>\n",
       "      <td>41.7</td>\n",
       "      <td>17.2</td>\n",
       "      <td>17.024390</td>\n",
       "      <td>0.175610</td>\n",
       "    </tr>\n",
       "  </tbody>\n",
       "</table>\n",
       "<p>98 rows × 5 columns</p>\n",
       "</div>"
      ],
      "text/plain": [
       "       TV  Radio     y    Predict       res\n",
       "0   230.1   37.8  22.1  20.657844  1.442156\n",
       "1    44.5   39.3  10.4  12.423543 -2.023543\n",
       "2    17.2   45.9   9.3  12.386947 -3.086947\n",
       "3   151.5   41.3  18.5  17.698159  0.801841\n",
       "4   180.8   10.8  12.9  13.425909 -0.525909\n",
       "..    ...    ...   ...        ...       ...\n",
       "95  163.3   31.6  16.9  16.453236  0.446764\n",
       "96  197.6    3.5  11.7  12.852152 -1.152152\n",
       "97  184.9   21.0  15.5  15.491971  0.008029\n",
       "98  289.7   42.3  25.4  24.219294  1.180706\n",
       "99  135.2   41.7  17.2  17.024390  0.175610\n",
       "\n",
       "[98 rows x 5 columns]"
      ]
     },
     "execution_count": 22,
     "metadata": {},
     "output_type": "execute_result"
    }
   ],
   "source": [
    "train_set"
   ]
  },
  {
   "cell_type": "code",
   "execution_count": 23,
   "metadata": {},
   "outputs": [],
   "source": [
    "m2 = LinearRegression().fit(train_set[['TV','Radio']],train_set['y'])"
   ]
  },
  {
   "cell_type": "code",
   "execution_count": 24,
   "metadata": {
    "cell_id": "00013-605029b8-29f9-46d4-a313-5d4cf0c638c6",
    "deepnote_cell_type": "code",
    "deepnote_to_be_reexecuted": false,
    "execution_millis": 4,
    "execution_start": 1619223158044,
    "source_hash": "f31ae328"
   },
   "outputs": [],
   "source": [
    "from scipy import stats"
   ]
  },
  {
   "cell_type": "code",
   "execution_count": 25,
   "metadata": {
    "cell_id": "00018-7b68cb73-b397-4913-9858-c6ad6691863a",
    "deepnote_cell_type": "code",
    "deepnote_to_be_reexecuted": false,
    "execution_millis": 12,
    "execution_start": 1619223164093,
    "source_hash": "f1f62586",
    "tags": []
   },
   "outputs": [
    {
     "data": {
      "text/plain": [
       "3.0530461454173565"
      ]
     },
     "execution_count": 25,
     "metadata": {},
     "output_type": "execute_result"
    }
   ],
   "source": [
    "m2.intercept_"
   ]
  },
  {
   "cell_type": "code",
   "execution_count": 26,
   "metadata": {
    "cell_id": "00020-abf936ed-0506-4947-8cd9-f9740f6b0277",
    "deepnote_cell_type": "code",
    "deepnote_to_be_reexecuted": false,
    "execution_millis": 8,
    "execution_start": 1619223164731,
    "source_hash": "db78162f"
   },
   "outputs": [
    {
     "data": {
      "text/plain": [
       "array([0.04498936, 0.19427843])"
      ]
     },
     "execution_count": 26,
     "metadata": {},
     "output_type": "execute_result"
    }
   ],
   "source": [
    "m2.coef_"
   ]
  },
  {
   "cell_type": "code",
   "execution_count": 27,
   "metadata": {},
   "outputs": [],
   "source": [
    "beta0 = m2.intercept_\n",
    "beta1 = m2.coef_[0]\n",
    "beta2 = m2.coef_[1]"
   ]
  },
  {
   "cell_type": "markdown",
   "metadata": {
    "cell_id": "00032-2e2bc3b7-c665-487a-879e-6d7c346d6abb",
    "deepnote_cell_type": "markdown",
    "tags": []
   },
   "source": [
    "## Deterministic LP"
   ]
  },
  {
   "cell_type": "code",
   "execution_count": 28,
   "metadata": {
    "cell_id": "00033-6a1914a3-286c-4c92-90b7-61b09739a4f1",
    "deepnote_cell_type": "code",
    "deepnote_to_be_reexecuted": false,
    "execution_millis": 8,
    "execution_start": 1619223174132,
    "source_hash": "d796f257",
    "tags": []
   },
   "outputs": [
    {
     "name": "stdout",
     "output_type": "stream",
     "text": [
      "x1 bounds: (5.4, 293.6)\n",
      "x2 bounds: (1.4, 49.6)\n"
     ]
    }
   ],
   "source": [
    "L_x1 = min(train_set['TV'])\n",
    "U_x1 = max(train_set['TV'])\n",
    "L_x2 = min(train_set['Radio'])\n",
    "U_x2 = max(train_set['Radio'])\n",
    "x1_bounds = (L_x1, U_x1)\n",
    "x2_bounds = (L_x2, U_x2)\n",
    "bounds = [x1_bounds, x2_bounds]\n",
    "print('x1 bounds:', bounds[0])\n",
    "print('x2 bounds:', bounds[1])"
   ]
  },
  {
   "cell_type": "code",
   "execution_count": 29,
   "metadata": {
    "cell_id": "00034-651b209c-a875-4349-84e9-da6028ddfcb7",
    "deepnote_cell_type": "code",
    "deepnote_to_be_reexecuted": false,
    "execution_millis": 4,
    "execution_start": 1619223176395,
    "source_hash": "c95a1592",
    "tags": []
   },
   "outputs": [],
   "source": [
    "# declare model\n",
    "m_det = ConcreteModel()\n",
    "\n",
    "# declare variables\n",
    "def bounds_rule(m, i):\n",
    "    return bounds[i-1]\n",
    "\n",
    "m_det.x = Var([1,2], domain = NonNegativeReals, bounds = bounds_rule)\n",
    "\n",
    "m_det.yA = Var(domain = NonNegativeReals)\n",
    "m_det.yB = Var(domain = NonNegativeReals)\n",
    "\n",
    "#Objective\n",
    "m_det.obj = Objective(expr = -0.1*m_det.x[1]-0.5*m_det.x[2]+3*m_det.yA+5*m_det.yB, sense=maximize)\n",
    "\n",
    "#Constraints\n",
    "m_det.c1 = Constraint(expr = m_det.x[1]+m_det.x[2]<=200)\n",
    "m_det.c2 = Constraint(expr = m_det.x[1]-0.5*m_det.x[2]>=0)\n",
    "m_det.c3 = Constraint(expr = m_det.yA<=8)\n",
    "m_det.c4 = Constraint(expr = m_det.yB<=12)\n",
    "m_det.c5 = Constraint(expr = 3*m_det.yA+2*m_det.yB<=36)\n",
    "m_det.c6 = Constraint(expr = -beta1*m_det.x[1]-beta2*m_det.x[2]+m_det.yA+m_det.yB<=beta0)"
   ]
  },
  {
   "cell_type": "code",
   "execution_count": 30,
   "metadata": {},
   "outputs": [
    {
     "data": {
      "text/plain": [
       "{'Problem': [{'Name': 'unknown', 'Lower bound': 41.4189639878442, 'Upper bound': 41.4189639878442, 'Number of objectives': 1, 'Number of constraints': 7, 'Number of variables': 5, 'Number of nonzeros': 13, 'Sense': 'maximize'}], 'Solver': [{'Status': 'ok', 'Termination condition': 'optimal', 'Statistics': {'Branch and bound': {'Number of bounded subproblems': 0, 'Number of created subproblems': 0}}, 'Error rc': 0, 'Time': 0.01555013656616211}], 'Solution': [OrderedDict([('number of solutions', 0), ('number of solutions displayed', 0)])]}"
      ]
     },
     "execution_count": 30,
     "metadata": {},
     "output_type": "execute_result"
    }
   ],
   "source": [
    "SolverFactory('glpk').solve(m_det)"
   ]
  },
  {
   "cell_type": "code",
   "execution_count": 31,
   "metadata": {},
   "outputs": [],
   "source": [
    "x1_det = m_det.x.extract_values()[1]\n",
    "x2_det = m_det.x.extract_values()[2]"
   ]
  },
  {
   "cell_type": "code",
   "execution_count": 32,
   "metadata": {},
   "outputs": [
    {
     "name": "stdout",
     "output_type": "stream",
     "text": [
      "173.54740996961 26.4525900303895\n"
     ]
    }
   ],
   "source": [
    "print(x1_det,x2_det)"
   ]
  },
  {
   "cell_type": "code",
   "execution_count": 33,
   "metadata": {},
   "outputs": [
    {
     "data": {
      "text/plain": [
       "41.41896398784425"
      ]
     },
     "execution_count": 33,
     "metadata": {},
     "output_type": "execute_result"
    }
   ],
   "source": [
    "m_det.obj()"
   ]
  },
  {
   "cell_type": "code",
   "execution_count": 34,
   "metadata": {
    "cell_id": "00035-ca00ce4f-ebcc-4777-8617-091de4bcdcd3",
    "deepnote_cell_type": "code",
    "deepnote_to_be_reexecuted": false,
    "execution_millis": 7,
    "execution_start": 1619223181243,
    "source_hash": "b772e464",
    "tags": []
   },
   "outputs": [],
   "source": [
    "test_set['Res_val']=y_test-beta0-beta1*x_test['TV']-beta2*x_test['Radio']\n",
    "test_set['Demand_val']=beta0 + beta1*x1_det + beta2*x2_det + test_set['Res_val']"
   ]
  },
  {
   "cell_type": "code",
   "execution_count": 35,
   "metadata": {
    "cell_id": "00037-0e302e6e-9de2-4013-864c-1a2e822f9a2b",
    "deepnote_cell_type": "code",
    "deepnote_to_be_reexecuted": false,
    "execution_millis": 2,
    "execution_start": 1619223185109,
    "source_hash": "28e4ebf6",
    "tags": []
   },
   "outputs": [],
   "source": [
    "train_set = train_set.reset_index()\n",
    "test_set = test_set.reset_index()"
   ]
  },
  {
   "cell_type": "code",
   "execution_count": 36,
   "metadata": {},
   "outputs": [
    {
     "data": {
      "text/html": [
       "<div>\n",
       "<style scoped>\n",
       "    .dataframe tbody tr th:only-of-type {\n",
       "        vertical-align: middle;\n",
       "    }\n",
       "\n",
       "    .dataframe tbody tr th {\n",
       "        vertical-align: top;\n",
       "    }\n",
       "\n",
       "    .dataframe thead th {\n",
       "        text-align: right;\n",
       "    }\n",
       "</style>\n",
       "<table border=\"1\" class=\"dataframe\">\n",
       "  <thead>\n",
       "    <tr style=\"text-align: right;\">\n",
       "      <th></th>\n",
       "      <th>index</th>\n",
       "      <th>TV</th>\n",
       "      <th>Radio</th>\n",
       "      <th>y</th>\n",
       "      <th>Predict</th>\n",
       "      <th>res</th>\n",
       "      <th>Res_val</th>\n",
       "      <th>Demand_val</th>\n",
       "    </tr>\n",
       "  </thead>\n",
       "  <tbody>\n",
       "    <tr>\n",
       "      <th>0</th>\n",
       "      <td>100</td>\n",
       "      <td>222.4</td>\n",
       "      <td>4.3</td>\n",
       "      <td>11.7</td>\n",
       "      <td>14.136628</td>\n",
       "      <td>-2.436628</td>\n",
       "      <td>-2.194076</td>\n",
       "      <td>13.805924</td>\n",
       "    </tr>\n",
       "    <tr>\n",
       "      <th>1</th>\n",
       "      <td>101</td>\n",
       "      <td>296.4</td>\n",
       "      <td>36.3</td>\n",
       "      <td>23.8</td>\n",
       "      <td>23.421773</td>\n",
       "      <td>0.378227</td>\n",
       "      <td>0.359802</td>\n",
       "      <td>16.359802</td>\n",
       "    </tr>\n",
       "    <tr>\n",
       "      <th>2</th>\n",
       "      <td>102</td>\n",
       "      <td>280.2</td>\n",
       "      <td>10.1</td>\n",
       "      <td>14.8</td>\n",
       "      <td>17.854901</td>\n",
       "      <td>-3.054901</td>\n",
       "      <td>-2.821276</td>\n",
       "      <td>13.178724</td>\n",
       "    </tr>\n",
       "    <tr>\n",
       "      <th>3</th>\n",
       "      <td>103</td>\n",
       "      <td>187.9</td>\n",
       "      <td>17.2</td>\n",
       "      <td>14.7</td>\n",
       "      <td>14.929863</td>\n",
       "      <td>-0.229863</td>\n",
       "      <td>-0.148135</td>\n",
       "      <td>15.851865</td>\n",
       "    </tr>\n",
       "    <tr>\n",
       "      <th>4</th>\n",
       "      <td>104</td>\n",
       "      <td>238.2</td>\n",
       "      <td>34.3</td>\n",
       "      <td>20.7</td>\n",
       "      <td>20.384828</td>\n",
       "      <td>0.315172</td>\n",
       "      <td>0.266739</td>\n",
       "      <td>16.266739</td>\n",
       "    </tr>\n",
       "    <tr>\n",
       "      <th>...</th>\n",
       "      <td>...</td>\n",
       "      <td>...</td>\n",
       "      <td>...</td>\n",
       "      <td>...</td>\n",
       "      <td>...</td>\n",
       "      <td>...</td>\n",
       "      <td>...</td>\n",
       "      <td>...</td>\n",
       "    </tr>\n",
       "    <tr>\n",
       "      <th>92</th>\n",
       "      <td>195</td>\n",
       "      <td>38.2</td>\n",
       "      <td>3.7</td>\n",
       "      <td>7.6</td>\n",
       "      <td>5.579863</td>\n",
       "      <td>2.020137</td>\n",
       "      <td>2.109530</td>\n",
       "      <td>18.109530</td>\n",
       "    </tr>\n",
       "    <tr>\n",
       "      <th>93</th>\n",
       "      <td>196</td>\n",
       "      <td>94.2</td>\n",
       "      <td>4.9</td>\n",
       "      <td>9.7</td>\n",
       "      <td>8.368631</td>\n",
       "      <td>1.331369</td>\n",
       "      <td>1.456992</td>\n",
       "      <td>17.456992</td>\n",
       "    </tr>\n",
       "    <tr>\n",
       "      <th>94</th>\n",
       "      <td>197</td>\n",
       "      <td>177.0</td>\n",
       "      <td>9.3</td>\n",
       "      <td>12.8</td>\n",
       "      <td>12.975478</td>\n",
       "      <td>-0.175478</td>\n",
       "      <td>-0.022952</td>\n",
       "      <td>15.977048</td>\n",
       "    </tr>\n",
       "    <tr>\n",
       "      <th>95</th>\n",
       "      <td>198</td>\n",
       "      <td>283.6</td>\n",
       "      <td>42.0</td>\n",
       "      <td>25.5</td>\n",
       "      <td>23.884348</td>\n",
       "      <td>1.615652</td>\n",
       "      <td>1.528278</td>\n",
       "      <td>17.528278</td>\n",
       "    </tr>\n",
       "    <tr>\n",
       "      <th>96</th>\n",
       "      <td>199</td>\n",
       "      <td>232.1</td>\n",
       "      <td>8.6</td>\n",
       "      <td>13.4</td>\n",
       "      <td>15.373142</td>\n",
       "      <td>-1.973142</td>\n",
       "      <td>-1.765870</td>\n",
       "      <td>14.234130</td>\n",
       "    </tr>\n",
       "  </tbody>\n",
       "</table>\n",
       "<p>97 rows × 8 columns</p>\n",
       "</div>"
      ],
      "text/plain": [
       "    index     TV  Radio     y    Predict       res   Res_val  Demand_val\n",
       "0     100  222.4    4.3  11.7  14.136628 -2.436628 -2.194076   13.805924\n",
       "1     101  296.4   36.3  23.8  23.421773  0.378227  0.359802   16.359802\n",
       "2     102  280.2   10.1  14.8  17.854901 -3.054901 -2.821276   13.178724\n",
       "3     103  187.9   17.2  14.7  14.929863 -0.229863 -0.148135   15.851865\n",
       "4     104  238.2   34.3  20.7  20.384828  0.315172  0.266739   16.266739\n",
       "..    ...    ...    ...   ...        ...       ...       ...         ...\n",
       "92    195   38.2    3.7   7.6   5.579863  2.020137  2.109530   18.109530\n",
       "93    196   94.2    4.9   9.7   8.368631  1.331369  1.456992   17.456992\n",
       "94    197  177.0    9.3  12.8  12.975478 -0.175478 -0.022952   15.977048\n",
       "95    198  283.6   42.0  25.5  23.884348  1.615652  1.528278   17.528278\n",
       "96    199  232.1    8.6  13.4  15.373142 -1.973142 -1.765870   14.234130\n",
       "\n",
       "[97 rows x 8 columns]"
      ]
     },
     "execution_count": 36,
     "metadata": {},
     "output_type": "execute_result"
    }
   ],
   "source": [
    "test_set"
   ]
  },
  {
   "cell_type": "code",
   "execution_count": 37,
   "metadata": {
    "cell_id": "00037-a619e193-ea08-42e3-a8bd-da4df1ed47cd",
    "deepnote_cell_type": "code",
    "deepnote_to_be_reexecuted": false,
    "execution_millis": 4,
    "execution_start": 1619223185772,
    "source_hash": "4bb9efa7",
    "tags": []
   },
   "outputs": [],
   "source": [
    "train_set['Res_trn']=train_set['y']-beta0-beta1*train_set['TV']-beta2*train_set['Radio']"
   ]
  },
  {
   "cell_type": "code",
   "execution_count": 38,
   "metadata": {},
   "outputs": [
    {
     "data": {
      "text/html": [
       "<div>\n",
       "<style scoped>\n",
       "    .dataframe tbody tr th:only-of-type {\n",
       "        vertical-align: middle;\n",
       "    }\n",
       "\n",
       "    .dataframe tbody tr th {\n",
       "        vertical-align: top;\n",
       "    }\n",
       "\n",
       "    .dataframe thead th {\n",
       "        text-align: right;\n",
       "    }\n",
       "</style>\n",
       "<table border=\"1\" class=\"dataframe\">\n",
       "  <thead>\n",
       "    <tr style=\"text-align: right;\">\n",
       "      <th></th>\n",
       "      <th>index</th>\n",
       "      <th>TV</th>\n",
       "      <th>Radio</th>\n",
       "      <th>y</th>\n",
       "      <th>Predict</th>\n",
       "      <th>res</th>\n",
       "      <th>Res_trn</th>\n",
       "    </tr>\n",
       "  </thead>\n",
       "  <tbody>\n",
       "    <tr>\n",
       "      <th>0</th>\n",
       "      <td>0</td>\n",
       "      <td>230.1</td>\n",
       "      <td>37.8</td>\n",
       "      <td>22.1</td>\n",
       "      <td>20.657844</td>\n",
       "      <td>1.442156</td>\n",
       "      <td>1.351178</td>\n",
       "    </tr>\n",
       "    <tr>\n",
       "      <th>1</th>\n",
       "      <td>1</td>\n",
       "      <td>44.5</td>\n",
       "      <td>39.3</td>\n",
       "      <td>10.4</td>\n",
       "      <td>12.423543</td>\n",
       "      <td>-2.023543</td>\n",
       "      <td>-2.290215</td>\n",
       "    </tr>\n",
       "    <tr>\n",
       "      <th>2</th>\n",
       "      <td>2</td>\n",
       "      <td>17.2</td>\n",
       "      <td>45.9</td>\n",
       "      <td>9.3</td>\n",
       "      <td>12.386947</td>\n",
       "      <td>-3.086947</td>\n",
       "      <td>-3.444243</td>\n",
       "    </tr>\n",
       "    <tr>\n",
       "      <th>3</th>\n",
       "      <td>3</td>\n",
       "      <td>151.5</td>\n",
       "      <td>41.3</td>\n",
       "      <td>18.5</td>\n",
       "      <td>17.698159</td>\n",
       "      <td>0.801841</td>\n",
       "      <td>0.607367</td>\n",
       "    </tr>\n",
       "    <tr>\n",
       "      <th>4</th>\n",
       "      <td>4</td>\n",
       "      <td>180.8</td>\n",
       "      <td>10.8</td>\n",
       "      <td>12.9</td>\n",
       "      <td>13.425909</td>\n",
       "      <td>-0.525909</td>\n",
       "      <td>-0.385329</td>\n",
       "    </tr>\n",
       "    <tr>\n",
       "      <th>...</th>\n",
       "      <td>...</td>\n",
       "      <td>...</td>\n",
       "      <td>...</td>\n",
       "      <td>...</td>\n",
       "      <td>...</td>\n",
       "      <td>...</td>\n",
       "      <td>...</td>\n",
       "    </tr>\n",
       "    <tr>\n",
       "      <th>93</th>\n",
       "      <td>95</td>\n",
       "      <td>163.3</td>\n",
       "      <td>31.6</td>\n",
       "      <td>16.9</td>\n",
       "      <td>16.453236</td>\n",
       "      <td>0.446764</td>\n",
       "      <td>0.360994</td>\n",
       "    </tr>\n",
       "    <tr>\n",
       "      <th>94</th>\n",
       "      <td>96</td>\n",
       "      <td>197.6</td>\n",
       "      <td>3.5</td>\n",
       "      <td>11.7</td>\n",
       "      <td>12.852152</td>\n",
       "      <td>-1.152152</td>\n",
       "      <td>-0.922917</td>\n",
       "    </tr>\n",
       "    <tr>\n",
       "      <th>95</th>\n",
       "      <td>97</td>\n",
       "      <td>184.9</td>\n",
       "      <td>21.0</td>\n",
       "      <td>15.5</td>\n",
       "      <td>15.491971</td>\n",
       "      <td>0.008029</td>\n",
       "      <td>0.048575</td>\n",
       "    </tr>\n",
       "    <tr>\n",
       "      <th>96</th>\n",
       "      <td>98</td>\n",
       "      <td>289.7</td>\n",
       "      <td>42.3</td>\n",
       "      <td>25.4</td>\n",
       "      <td>24.219294</td>\n",
       "      <td>1.180706</td>\n",
       "      <td>1.095560</td>\n",
       "    </tr>\n",
       "    <tr>\n",
       "      <th>97</th>\n",
       "      <td>99</td>\n",
       "      <td>135.2</td>\n",
       "      <td>41.7</td>\n",
       "      <td>17.2</td>\n",
       "      <td>17.024390</td>\n",
       "      <td>0.175610</td>\n",
       "      <td>-0.037018</td>\n",
       "    </tr>\n",
       "  </tbody>\n",
       "</table>\n",
       "<p>98 rows × 7 columns</p>\n",
       "</div>"
      ],
      "text/plain": [
       "    index     TV  Radio     y    Predict       res   Res_trn\n",
       "0       0  230.1   37.8  22.1  20.657844  1.442156  1.351178\n",
       "1       1   44.5   39.3  10.4  12.423543 -2.023543 -2.290215\n",
       "2       2   17.2   45.9   9.3  12.386947 -3.086947 -3.444243\n",
       "3       3  151.5   41.3  18.5  17.698159  0.801841  0.607367\n",
       "4       4  180.8   10.8  12.9  13.425909 -0.525909 -0.385329\n",
       "..    ...    ...    ...   ...        ...       ...       ...\n",
       "93     95  163.3   31.6  16.9  16.453236  0.446764  0.360994\n",
       "94     96  197.6    3.5  11.7  12.852152 -1.152152 -0.922917\n",
       "95     97  184.9   21.0  15.5  15.491971  0.008029  0.048575\n",
       "96     98  289.7   42.3  25.4  24.219294  1.180706  1.095560\n",
       "97     99  135.2   41.7  17.2  17.024390  0.175610 -0.037018\n",
       "\n",
       "[98 rows x 7 columns]"
      ]
     },
     "execution_count": 38,
     "metadata": {},
     "output_type": "execute_result"
    }
   ],
   "source": [
    "train_set"
   ]
  },
  {
   "cell_type": "markdown",
   "metadata": {
    "cell_id": "00031-52ae278a-5610-438e-bed4-55d34c60d396",
    "deepnote_cell_type": "markdown",
    "tags": []
   },
   "source": [
    "# SLP with SAA"
   ]
  },
  {
   "cell_type": "code",
   "execution_count": 39,
   "metadata": {
    "cell_id": "00033-3d9c94a2-916c-483c-8246-bc99f791513f",
    "deepnote_cell_type": "code",
    "deepnote_to_be_reexecuted": false,
    "execution_millis": 13,
    "execution_start": 1619218857781,
    "source_hash": "d796f257",
    "tags": []
   },
   "outputs": [
    {
     "name": "stdout",
     "output_type": "stream",
     "text": [
      "x1 bounds: (5.4, 293.6)\n",
      "x2 bounds: (1.4, 49.6)\n"
     ]
    }
   ],
   "source": [
    "L_x1 = min(train_set['TV'])\n",
    "U_x1 = max(train_set['TV'])\n",
    "L_x2 = min(train_set['Radio'])\n",
    "U_x2 = max(train_set['Radio'])\n",
    "x1_bounds = (L_x1, U_x1)\n",
    "x2_bounds = (L_x2, U_x2)\n",
    "bounds = [x1_bounds, x2_bounds]\n",
    "print('x1 bounds:', bounds[0])\n",
    "print('x2 bounds:', bounds[1])"
   ]
  },
  {
   "cell_type": "code",
   "execution_count": 40,
   "metadata": {
    "cell_id": "00034-45af66a6-59ca-4409-beec-cb39150f484e",
    "deepnote_cell_type": "code",
    "deepnote_to_be_reexecuted": false,
    "execution_millis": 0,
    "execution_start": 1619224890034,
    "source_hash": "b158edda",
    "tags": []
   },
   "outputs": [
    {
     "data": {
      "text/plain": [
       "{'Problem': [{'Name': 'unknown', 'Lower bound': 40.6975426049546, 'Upper bound': 40.6975426049546, 'Number of objectives': 1, 'Number of constraints': 395, 'Number of variables': 199, 'Number of nonzeros': 789, 'Sense': 'maximize'}], 'Solver': [{'Status': 'ok', 'Termination condition': 'optimal', 'Statistics': {'Branch and bound': {'Number of bounded subproblems': 0, 'Number of created subproblems': 0}}, 'Error rc': 0, 'Time': 0.02692389488220215}], 'Solution': [OrderedDict([('number of solutions', 0), ('number of solutions displayed', 0)])]}"
      ]
     },
     "execution_count": 40,
     "metadata": {},
     "output_type": "execute_result"
    }
   ],
   "source": [
    "# declare model\n",
    "N = train_set.shape[0]\n",
    "error = train_set['Res_trn']\n",
    "m_slp = ConcreteModel()\n",
    "m_slp.idx = RangeSet(1,N)\n",
    "\n",
    "# declare variables\n",
    "def bounds_rule(m, i):\n",
    "    return bounds[i-1]\n",
    "\n",
    "m_slp.x = Var([1,2], domain = NonNegativeReals, bounds = bounds_rule)\n",
    "\n",
    "m_slp.yA = Var(m_slp.idx, domain = NonNegativeReals)\n",
    "m_slp.yB = Var(m_slp.idx, domain = NonNegativeReals)\n",
    "\n",
    "#Objective\n",
    "m_slp.obj = Objective(expr = -0.1*m_slp.x[1]-0.5*m_slp.x[2]+(1/N)*(\n",
    "    sum(3*m_slp.yA[i]+5*m_slp.yB[i] for i in m_slp.idx)), sense=maximize)\n",
    "\n",
    "#Constraints\n",
    "m_slp.c1 = Constraint(expr = m_slp.x[1]+m_slp.x[2]<=200)\n",
    "m_slp.c2 = Constraint(expr = m_slp.x[1]-0.5*m_slp.x[2]>=0)\n",
    "\n",
    "def c3(m,i):\n",
    "    return m.yA[i]<=8\n",
    "m_slp.c3 = Constraint(m_slp.idx, rule=c3)\n",
    "\n",
    "def c4(m,i):\n",
    "    return m.yB[i]<=12\n",
    "m_slp.c4 = Constraint(m_slp.idx, rule=c4)\n",
    "\n",
    "def c5(m,i):\n",
    "    return 3*m.yA[i]+2*m.yB[i]<=36\n",
    "m_slp.c5 = Constraint(m_slp.idx, rule=c5)\n",
    "\n",
    "\n",
    "def c6(m,i):\n",
    "    return -beta1*m.x[1]-beta2*m.x[2]+m.yA[i]+m.yB[i]<= beta0 + error[i-1]\n",
    "m_slp.c6 = Constraint(m_slp.idx, rule=c6)\n",
    "\n",
    "SolverFactory('glpk').solve(m_slp)\n",
    "\n",
    "#slp_result[str(N)] = [m_slp.obj(), m_slp.x.extract_values()[1],m_slp.x.extract_values()[2]]"
   ]
  },
  {
   "cell_type": "code",
   "execution_count": 41,
   "metadata": {},
   "outputs": [],
   "source": [
    "x1_slp = m_slp.x.extract_values()[1]\n",
    "x2_slp = m_slp.x.extract_values()[2]"
   ]
  },
  {
   "cell_type": "code",
   "execution_count": 42,
   "metadata": {},
   "outputs": [
    {
     "name": "stdout",
     "output_type": "stream",
     "text": [
      "182.495813513201 17.504186486799\n"
     ]
    }
   ],
   "source": [
    "print(x1_slp,x2_slp)"
   ]
  },
  {
   "cell_type": "code",
   "execution_count": 43,
   "metadata": {},
   "outputs": [
    {
     "data": {
      "text/plain": [
       "40.69754260495456"
      ]
     },
     "execution_count": 43,
     "metadata": {},
     "output_type": "execute_result"
    }
   ],
   "source": [
    "m_slp.obj()"
   ]
  },
  {
   "cell_type": "code",
   "execution_count": 44,
   "metadata": {},
   "outputs": [],
   "source": [
    "# declare model\n",
    "def validation(w):\n",
    "    m = ConcreteModel()\n",
    "    #m.idx = RangeSet(1,N)\n",
    "\n",
    "    m.yA = Var(domain = NonNegativeReals)\n",
    "    m.yB = Var(domain = NonNegativeReals)\n",
    "\n",
    "    #Objective\n",
    "    m.obj = Objective(expr = 3*m.yA + 5*m.yB, sense=maximize)\n",
    "\n",
    "    #Constraints\n",
    "    m.c1 = Constraint(expr = m.yA<=8)\n",
    "    m.c2 = Constraint(expr = m.yB<=12)\n",
    "    m.c3 = Constraint(expr = 3*m.yA+2*m.yB<=36)\n",
    "    m.c4 = Constraint(expr = m.yA + m.yB <= w)\n",
    "    \n",
    "    SolverFactory('glpk').solve(m)\n",
    "    \n",
    "    return m"
   ]
  },
  {
   "cell_type": "code",
   "execution_count": 45,
   "metadata": {},
   "outputs": [],
   "source": [
    "objective_det = []\n",
    "for i in test_set['Demand_val']:\n",
    "    demand = i\n",
    "    obj = validation(demand).obj()\n",
    "    objective_det.append(obj)"
   ]
  },
  {
   "cell_type": "code",
   "execution_count": 46,
   "metadata": {},
   "outputs": [],
   "source": [
    "# objective_det = []\n",
    "# T = 2000\n",
    "\n",
    "# for t in range(T):\n",
    "#     demand = np.random.choice(test_set['Demand_val'])\n",
    "#     obj = validation(demand).obj()\n",
    "#     objective_det.append(obj)"
   ]
  },
  {
   "cell_type": "code",
   "execution_count": 47,
   "metadata": {},
   "outputs": [
    {
     "name": "stdout",
     "output_type": "stream",
     "text": [
      "173.54740996961 26.4525900303895\n"
     ]
    }
   ],
   "source": [
    "print(x1_det,x2_det)"
   ]
  },
  {
   "cell_type": "code",
   "execution_count": 48,
   "metadata": {},
   "outputs": [
    {
     "data": {
      "text/plain": [
       "41.41896398784425"
      ]
     },
     "execution_count": 48,
     "metadata": {},
     "output_type": "execute_result"
    }
   ],
   "source": [
    "m_det.obj()"
   ]
  },
  {
   "cell_type": "code",
   "execution_count": 49,
   "metadata": {},
   "outputs": [
    {
     "name": "stdout",
     "output_type": "stream",
     "text": [
      "39.263284936908505 38.591395330650656 39.935174543166355\n"
     ]
    }
   ],
   "source": [
    "obj_mean = np.array(objective_det).mean()-0.1*x1_det-0.5*x2_det\n",
    "se = np.array(objective_det).std()/sqrt(len(objective_det))\n",
    "print(obj_mean, obj_mean-1.96*se,obj_mean+1.96*se)"
   ]
  },
  {
   "cell_type": "code",
   "execution_count": 50,
   "metadata": {},
   "outputs": [],
   "source": [
    "test_set['Demand_val_slp'] = beta0 + beta1*x1_slp + beta2*x2_slp + test_set['Res_val']"
   ]
  },
  {
   "cell_type": "code",
   "execution_count": 52,
   "metadata": {},
   "outputs": [],
   "source": [
    "objective_slp = []\n",
    "for i in test_set['Demand_val_slp']:\n",
    "    demand = i\n",
    "    obj = validation(demand).obj()\n",
    "    objective_slp.append(obj) "
   ]
  },
  {
   "cell_type": "code",
   "execution_count": 53,
   "metadata": {},
   "outputs": [
    {
     "name": "stdout",
     "output_type": "stream",
     "text": [
      "39.904406762488364 38.986747531168184 40.82206599380854\n"
     ]
    }
   ],
   "source": [
    "obj_mean = np.array(objective_slp).mean() - 0.1*x1_slp-0.5*x2_slp\n",
    "se = np.array(objective_slp).std()/sqrt(len(objective_slp))\n",
    "print(obj_mean, obj_mean-1.96*se,obj_mean+1.96*se )"
   ]
  },
  {
   "cell_type": "code",
   "execution_count": 54,
   "metadata": {},
   "outputs": [
    {
     "name": "stdout",
     "output_type": "stream",
     "text": [
      "182.495813513201 17.504186486799\n"
     ]
    }
   ],
   "source": [
    "print(x1_slp,x2_slp)"
   ]
  },
  {
   "cell_type": "code",
   "execution_count": 55,
   "metadata": {},
   "outputs": [
    {
     "data": {
      "text/plain": [
       "40.69754260495456"
      ]
     },
     "execution_count": 55,
     "metadata": {},
     "output_type": "execute_result"
    }
   ],
   "source": [
    "m_slp.obj()"
   ]
  }
 ],
 "metadata": {
  "deepnote": {},
  "deepnote_execution_queue": [],
  "deepnote_notebook_id": "4365db03-94e3-443d-bbc3-505d25486019",
  "kernelspec": {
   "display_name": "Python 3",
   "language": "python",
   "name": "python3"
  },
  "language_info": {
   "codemirror_mode": {
    "name": "ipython",
    "version": 3
   },
   "file_extension": ".py",
   "mimetype": "text/x-python",
   "name": "python",
   "nbconvert_exporter": "python",
   "pygments_lexer": "ipython3",
   "version": "3.8.5"
  }
 },
 "nbformat": 4,
 "nbformat_minor": 2
}
