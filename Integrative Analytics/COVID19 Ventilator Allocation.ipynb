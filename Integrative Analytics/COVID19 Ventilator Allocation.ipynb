{
 "cells": [
  {
   "cell_type": "code",
   "execution_count": 1,
   "metadata": {},
   "outputs": [],
   "source": [
    "import pandas as pd\n",
    "import os\n",
    "import glob\n",
    "import pandas as pd\n",
    "import numpy as np\n",
    "import matplotlib.pyplot as plt\n",
    "from collections import defaultdict\n",
    "from math import ceil\n",
    "from datetime import timedelta\n",
    "from datetime import datetime\n",
    "import os\n",
    "from pyomo.core import *\n",
    "from pyomo.pysp.annotations import StochasticConstraintBoundsAnnotation\n",
    "from pyomo.environ import RangeSet\n",
    "from pyomo.opt import SolverFactory"
   ]
  },
  {
   "cell_type": "markdown",
   "metadata": {},
   "source": [
    "## Prepare dataset"
   ]
  },
  {
   "cell_type": "code",
   "execution_count": 2,
   "metadata": {},
   "outputs": [],
   "source": [
    "path = 'project 4 dataset/prediction'\n",
    "folders = os.listdir(path)\n",
    "folders.sort()\n",
    "datasets = []\n",
    "\n",
    "for folder in folders[1:11]:      # ignor .DS_Store file\n",
    "    list_ = os.listdir(path + '/'+ folder)\n",
    "    list_.sort()\n",
    "    print(folder)\n",
    "    for file in list_:\n",
    "        print(file)\n",
    "        if file == '.DS_Store':\n",
    "            continue\n",
    "        else:\n",
    "            df = pd.read_csv(path + '/' + folder + '/' + file)\n",
    "            df = df.iloc[:7,:]\n",
    "            df['state'] = str(file)[:-4]\n",
    "            datasets.append(df)"
   ]
  },
  {
   "cell_type": "code",
   "execution_count": 5,
   "metadata": {},
   "outputs": [],
   "source": [
    "demands = pd.concat(datasets)"
   ]
  },
  {
   "cell_type": "code",
   "execution_count": 8,
   "metadata": {},
   "outputs": [],
   "source": [
    "demands = demands.reset_index()"
   ]
  },
  {
   "cell_type": "code",
   "execution_count": 10,
   "metadata": {},
   "outputs": [],
   "source": [
    "for i in range(raw.shape[0]):\n",
    "    for j in range(demands.shape[0]):\n",
    "        if demands.iloc[j]['state'] == raw.iloc[i]['State']:\n",
    "            demands.loc[demands.index==j, 'StateCode'] = raw.iloc[i]['StateCode']"
   ]
  },
  {
   "cell_type": "code",
   "execution_count": 14,
   "metadata": {},
   "outputs": [],
   "source": [
    "demands.date = pd.to_datetime(demands.date).dt.strftime('%m/%d/%Y')"
   ]
  },
  {
   "cell_type": "code",
   "execution_count": 15,
   "metadata": {},
   "outputs": [],
   "source": [
    "demands = demands.sort_values(by = ['StateCode','date'])"
   ]
  },
  {
   "cell_type": "code",
   "execution_count": 16,
   "metadata": {},
   "outputs": [],
   "source": [
    "# move DC to the end\n",
    "DC = demands[demands['StateCode'] == 'DC']\n",
    "demands = pd.concat([demands,DC],ignore_index=True)\n",
    "demands = demands.drop([i for i in range(490,560)])"
   ]
  },
  {
   "cell_type": "code",
   "execution_count": 17,
   "metadata": {},
   "outputs": [],
   "source": [
    "demands = demands.reset_index()"
   ]
  },
  {
   "cell_type": "code",
   "execution_count": 18,
   "metadata": {},
   "outputs": [],
   "source": [
    "#demands.to_csv('predict demand.csv')"
   ]
  },
  {
   "cell_type": "code",
   "execution_count": 20,
   "metadata": {},
   "outputs": [],
   "source": [
    "demands = demands.iloc[:,3:]"
   ]
  },
  {
   "cell_type": "code",
   "execution_count": 129,
   "metadata": {},
   "outputs": [
    {
     "data": {
      "text/html": [
       "<div>\n",
       "<style scoped>\n",
       "    .dataframe tbody tr th:only-of-type {\n",
       "        vertical-align: middle;\n",
       "    }\n",
       "\n",
       "    .dataframe tbody tr th {\n",
       "        vertical-align: top;\n",
       "    }\n",
       "\n",
       "    .dataframe thead th {\n",
       "        text-align: right;\n",
       "    }\n",
       "</style>\n",
       "<table border=\"1\" class=\"dataframe\">\n",
       "  <thead>\n",
       "    <tr style=\"text-align: right;\">\n",
       "      <th></th>\n",
       "      <th>date</th>\n",
       "      <th>InvVen_upper</th>\n",
       "      <th>InvVen_mean</th>\n",
       "      <th>InvVen_lower</th>\n",
       "      <th>state</th>\n",
       "      <th>StateCode</th>\n",
       "    </tr>\n",
       "  </thead>\n",
       "  <tbody>\n",
       "    <tr>\n",
       "      <th>0</th>\n",
       "      <td>03/25/2020</td>\n",
       "      <td>2.451250</td>\n",
       "      <td>0.233400</td>\n",
       "      <td>0.00000</td>\n",
       "      <td>Alaska</td>\n",
       "      <td>AK</td>\n",
       "    </tr>\n",
       "    <tr>\n",
       "      <th>1</th>\n",
       "      <td>03/26/2020</td>\n",
       "      <td>3.700000</td>\n",
       "      <td>0.464050</td>\n",
       "      <td>0.00000</td>\n",
       "      <td>Alaska</td>\n",
       "      <td>AK</td>\n",
       "    </tr>\n",
       "    <tr>\n",
       "      <th>2</th>\n",
       "      <td>03/27/2020</td>\n",
       "      <td>5.050000</td>\n",
       "      <td>0.794950</td>\n",
       "      <td>0.00000</td>\n",
       "      <td>Alaska</td>\n",
       "      <td>AK</td>\n",
       "    </tr>\n",
       "    <tr>\n",
       "      <th>3</th>\n",
       "      <td>03/28/2020</td>\n",
       "      <td>6.400000</td>\n",
       "      <td>1.244350</td>\n",
       "      <td>0.00000</td>\n",
       "      <td>Alaska</td>\n",
       "      <td>AK</td>\n",
       "    </tr>\n",
       "    <tr>\n",
       "      <th>4</th>\n",
       "      <td>03/29/2020</td>\n",
       "      <td>8.103750</td>\n",
       "      <td>1.836650</td>\n",
       "      <td>0.00000</td>\n",
       "      <td>Alaska</td>\n",
       "      <td>AK</td>\n",
       "    </tr>\n",
       "    <tr>\n",
       "      <th>...</th>\n",
       "      <td>...</td>\n",
       "      <td>...</td>\n",
       "      <td>...</td>\n",
       "      <td>...</td>\n",
       "      <td>...</td>\n",
       "      <td>...</td>\n",
       "    </tr>\n",
       "    <tr>\n",
       "      <th>3565</th>\n",
       "      <td>05/29/2020</td>\n",
       "      <td>76.055263</td>\n",
       "      <td>50.404995</td>\n",
       "      <td>35.79500</td>\n",
       "      <td>District of Columbia</td>\n",
       "      <td>DC</td>\n",
       "    </tr>\n",
       "    <tr>\n",
       "      <th>3566</th>\n",
       "      <td>05/30/2020</td>\n",
       "      <td>73.268421</td>\n",
       "      <td>48.422750</td>\n",
       "      <td>33.64875</td>\n",
       "      <td>District of Columbia</td>\n",
       "      <td>DC</td>\n",
       "    </tr>\n",
       "    <tr>\n",
       "      <th>3567</th>\n",
       "      <td>05/31/2020</td>\n",
       "      <td>71.638158</td>\n",
       "      <td>46.402608</td>\n",
       "      <td>31.19625</td>\n",
       "      <td>District of Columbia</td>\n",
       "      <td>DC</td>\n",
       "    </tr>\n",
       "    <tr>\n",
       "      <th>3568</th>\n",
       "      <td>06/01/2020</td>\n",
       "      <td>69.165789</td>\n",
       "      <td>44.266487</td>\n",
       "      <td>29.24375</td>\n",
       "      <td>District of Columbia</td>\n",
       "      <td>DC</td>\n",
       "    </tr>\n",
       "    <tr>\n",
       "      <th>3569</th>\n",
       "      <td>06/02/2020</td>\n",
       "      <td>66.476316</td>\n",
       "      <td>42.054418</td>\n",
       "      <td>27.29750</td>\n",
       "      <td>District of Columbia</td>\n",
       "      <td>DC</td>\n",
       "    </tr>\n",
       "  </tbody>\n",
       "</table>\n",
       "<p>3570 rows × 6 columns</p>\n",
       "</div>"
      ],
      "text/plain": [
       "            date  InvVen_upper  InvVen_mean  InvVen_lower  \\\n",
       "0     03/25/2020      2.451250     0.233400       0.00000   \n",
       "1     03/26/2020      3.700000     0.464050       0.00000   \n",
       "2     03/27/2020      5.050000     0.794950       0.00000   \n",
       "3     03/28/2020      6.400000     1.244350       0.00000   \n",
       "4     03/29/2020      8.103750     1.836650       0.00000   \n",
       "...          ...           ...          ...           ...   \n",
       "3565  05/29/2020     76.055263    50.404995      35.79500   \n",
       "3566  05/30/2020     73.268421    48.422750      33.64875   \n",
       "3567  05/31/2020     71.638158    46.402608      31.19625   \n",
       "3568  06/01/2020     69.165789    44.266487      29.24375   \n",
       "3569  06/02/2020     66.476316    42.054418      27.29750   \n",
       "\n",
       "                     state StateCode  \n",
       "0                   Alaska        AK  \n",
       "1                   Alaska        AK  \n",
       "2                   Alaska        AK  \n",
       "3                   Alaska        AK  \n",
       "4                   Alaska        AK  \n",
       "...                    ...       ...  \n",
       "3565  District of Columbia        DC  \n",
       "3566  District of Columbia        DC  \n",
       "3567  District of Columbia        DC  \n",
       "3568  District of Columbia        DC  \n",
       "3569  District of Columbia        DC  \n",
       "\n",
       "[3570 rows x 6 columns]"
      ]
     },
     "execution_count": 129,
     "metadata": {},
     "output_type": "execute_result"
    }
   ],
   "source": [
    "demands"
   ]
  },
  {
   "cell_type": "markdown",
   "metadata": {},
   "source": [
    "## Set parameters"
   ]
  },
  {
   "cell_type": "code",
   "execution_count": 21,
   "metadata": {},
   "outputs": [],
   "source": [
    "# Cerdit to Jiajun's Github (structure and logic) https://github.com/jjxu217/COVID-code/tree/main/SR\n",
    "first_date = '2020/03/25'\n",
    "t = 7\n",
    "S = 51\n",
    "lbd = 0.5\n",
    "init_ratio = 0.6\n",
    "flow_bound_ratio = 0.2\n",
    "stock_bound_ratio = 0.6\n",
    "prev_date = pd.to_datetime(first_date) - timedelta(t)\n",
    "raw = pd.read_csv('project 4 dataset/init_data.csv', header=0, index_col=0)\n",
    "data = raw.rename(columns={'Available capacity': \"stock_self\"})\n",
    "data['stock_self'] = round(init_ratio * data['stock_self'])\n",
    "data['stock_nb'] = None\n",
    "for i in range(S):\n",
    "    data.loc[i, 'stock_nb'] = str([0 for _ in eval(data.loc[i, 'nb'])])\n",
    "data['stock_sns'] = [0 for _ in range(S+1)]\n",
    "#data.to_csv('firstweek.csv')"
   ]
  },
  {
   "cell_type": "code",
   "execution_count": 22,
   "metadata": {},
   "outputs": [],
   "source": [
    "# # Cerdit to Jiajun's Github (structure and logic) https://github.com/jjxu217/COVID-code/tree/main/SR\n",
    "# # read data\n",
    "t = 7\n",
    "date = pd.to_datetime(first_date)\n",
    "prev_date = date - timedelta(t)\n",
    "#data = pd.read_csv('firstweek.csv',header=0, index_col=0)\n",
    "\n",
    "idx = 0\n",
    "flow_mapping = {}\n",
    "flow_mapping_rev = {}\n",
    "out_flow = defaultdict(list)\n",
    "in_flow = defaultdict(list)\n",
    "\n",
    "for i in range(51):\n",
    "    nbs = eval(data.iloc[i, 3])\n",
    "    out_flow[i] = nbs\n",
    "    for n in nbs:\n",
    "        flow_mapping[(i, n)] = idx\n",
    "        flow_mapping_rev[idx] = (i, n)\n",
    "        in_flow[n].append(i)\n",
    "        idx += 1\n",
    "\n",
    "in_flow[51] = []\n",
    "out_flow[51] = list(range(51))\n",
    "for n in range(51):\n",
    "    flow_mapping[(51, n)] = idx\n",
    "    flow_mapping_rev[idx] = (51, n)\n",
    "    idx += 1"
   ]
  },
  {
   "cell_type": "code",
   "execution_count": 25,
   "metadata": {},
   "outputs": [],
   "source": [
    "# Cerdit to Jiajun's Github (structure and logic) https://github.com/jjxu217/COVID-code/tree/main/SR\n",
    "def covid19(ini_self, ini_nb, week):\n",
    "    #\n",
    "    # Model\n",
    "    #\n",
    "    model = ConcreteModel()\n",
    "    #\n",
    "    # Sets\n",
    "    #\n",
    "    t = 7\n",
    "    S = 51\n",
    "    F = idx\n",
    "    model.path = ['InvVen_upper','InvVen_mean','InvVen_lower']\n",
    "    model.time_set = list(range(1, t + 1))\n",
    "    model.state_set = list(range(S))\n",
    "    model.state_p_set = list(range(S + 1))\n",
    "    model.flow_set = list(range(F))\n",
    "    model.flow_no_sns_set = list(range(F - S))\n",
    "\n",
    "    model.U = [round(flow_bound_ratio * ini_self[flow_mapping_rev[j][0]]) for j in model.flow_set] \n",
    "    model.G = [round(stock_bound_ratio * i) for i in ini_self]\n",
    "\n",
    "    # first-stage variables\n",
    "    model.s0 = Var(model.state_p_set, within=NonNegativeReals)\n",
    "    model.s0_nb = Var(model.flow_set, within=NonNegativeReals)\n",
    "    model.x = Var(model.flow_set, within=Reals)\n",
    "\n",
    "    # second-stage variables\n",
    "    model.delta1 = Var(model.state_set, model.time_set, within=NonNegativeReals)\n",
    "    model.delta2 = Var(model.state_set, model.time_set, within=NonNegativeReals)\n",
    "    model.delta3 = Var(model.state_set, model.time_set, within=NonNegativeReals)\n",
    "\n",
    "    # always define the objective as the sum of the stage costs\n",
    "    model.FirstStageCost = Expression(initialize=(lbd*sum(model.s0_nb[i] for i in model.flow_set)))\n",
    "    model.SecondStageCost1 = Expression(initialize=(sum(model.delta1[s, t] for s in model.state_set for t in model.time_set)))\n",
    "    model.SecondStageCost2 = Expression(initialize=(sum(model.delta2[s, t] for s in model.state_set for t in model.time_set))) \n",
    "    model.SecondStageCost3 = Expression(initialize=(sum(model.delta3[s, t] for s in model.state_set for t in model.time_set)))\n",
    "\n",
    "    # always define the objective as the sum of the stage costs\n",
    "    model.obj = Objective(\n",
    "        expr=model.FirstStageCost + (1/3)*(model.SecondStageCost1+model.SecondStageCost2+model.SecondStageCost3), \n",
    "        sense = minimize)\n",
    "\n",
    "\n",
    "\n",
    "    # first-stage constraints\n",
    "    model.stock_self = Constraint(model.state_set, rule=lambda model, j: model.s0[j] + \\\n",
    "                              sum(model.x[i] for i in out_flow[j]) -\\\n",
    "                              model.x[flow_mapping[(51, j)]]  == ini_self[j])\n",
    "\n",
    "    \n",
    "    model.stock_SNS_self = Constraint(rule=lambda model: model.s0[51] + \\\n",
    "                                      sum(model.x[flow_mapping[(51, i)]] for i in out_flow[51]) == ini_self[51])\n",
    "\n",
    "    model.stock_nb = Constraint(model.flow_set, rule=lambda model, j: model.s0_nb[j] - \\\n",
    "                                sum(model.x[i] for i in in_flow[j]) == ini_nb[j])\n",
    "                                   \n",
    "            \n",
    "\n",
    "    model.s0_bound = Constraint(model.state_p_set, \\\n",
    "                                    rule=lambda model, j: model.s0[j] >= model.G[j])\n",
    "    model.x_bound = Constraint(model.flow_set, \\\n",
    "                                    rule=lambda model, j: model.x[j] <= model.U[j])  \n",
    "    # no ship back to sns\n",
    "    model.x_sns_bound = Constraint(list(range(F - S, F)), \\\n",
    "                                    rule=lambda model, j: model.x[j] >= 0) \n",
    "#     model.ini_nb_bound = Constraint(model.flow_set, \\\n",
    "#                                     rule=lambda model, j: -ini_nb[j] <= model.x[j])\n",
    "#     model.s0_nb_bound = Constraint(list(range(F - S, F)), \\\n",
    "#                                    rule=lambda model, j: model.s0_nb[j] <= model.U[j])\n",
    "\n",
    "\n",
    "\n",
    "    length = 70\n",
    "    model.demand_table = defaultdict(list)\n",
    "    for j in model.state_set:\n",
    "        for t in model.time_set:\n",
    "            for path in model.path:\n",
    "                model.demand_table[j, t].append([demands.loc[\n",
    "                    (demands['state'] == demands['state'].iloc[j*length]) &\n",
    "                    (demands['date'] == demands['date'].iloc[t-1+week])][path][j*length+t-1+week]])\n",
    "\n",
    "    model.delta1_bound = ConstraintList()\n",
    "    model.delta2_bound = ConstraintList()\n",
    "    model.delta3_bound = ConstraintList()\n",
    "\n",
    "    for j in model.state_set:\n",
    "        for tt in model.time_set:\n",
    "            total_stock = model.s0[j] + sum(model.s0_nb[flow_mapping[(i, j)]] for i in out_flow[j])\n",
    "            model.delta1_bound.add(model.delta1[j, tt] + total_stock - model.demand_table[j, tt][0][0] >= 0)\n",
    "\n",
    "    for j in model.state_set:\n",
    "        for tt in model.time_set:\n",
    "            total_stock = model.s0[j] + sum(model.s0_nb[flow_mapping[(i, j)]] for i in out_flow[j])\n",
    "            model.delta2_bound.add(model.delta2[j, tt] + total_stock - model.demand_table[j, tt][1][0] >= 0)\n",
    "\n",
    "    for j in model.state_set:\n",
    "        for tt in model.time_set:\n",
    "            total_stock = model.s0[j] + sum(model.s0_nb[flow_mapping[(i, j)]] for i in out_flow[j])\n",
    "            model.delta3_bound.add(model.delta3[j, tt] + total_stock - model.demand_table[j, tt][2][0] >= 0)\n",
    "\n",
    "    SolverFactory('glpk').solve(model)\n",
    "    \n",
    "    return model"
   ]
  },
  {
   "cell_type": "code",
   "execution_count": 26,
   "metadata": {},
   "outputs": [],
   "source": [
    "ini_self = [round(i) for i in data['stock_self']]\n",
    "\n",
    "\n",
    "#read ini_nb by stock_nb data with flow_set\n",
    "ini_nb = []\n",
    "for i in range(S):\n",
    "    for l in range(len(eval(data['stock_nb'][i]))):\n",
    "        ini_nb.append(eval(data['stock_nb'][i])[l])\n",
    "for i in data['stock_sns'][:-1]:\n",
    "    ini_nb.append(i)"
   ]
  },
  {
   "cell_type": "code",
   "execution_count": 27,
   "metadata": {},
   "outputs": [
    {
     "data": {
      "text/plain": [
       "49772"
      ]
     },
     "execution_count": 27,
     "metadata": {},
     "output_type": "execute_result"
    }
   ],
   "source": [
    "np.sum(ini_self)"
   ]
  },
  {
   "cell_type": "markdown",
   "metadata": {},
   "source": [
    "## Evaluation Data"
   ]
  },
  {
   "cell_type": "code",
   "execution_count": 28,
   "metadata": {},
   "outputs": [],
   "source": [
    "# read eval dataset\n",
    "path = 'project 4 dataset/eval'\n",
    "folders = os.listdir(path)\n",
    "folders.sort()\n",
    "datasets_val = {}\n",
    "\n",
    "for folder in folders[1:]:      # ignor .DS_Store file\n",
    "    df = pd.read_csv(path + '/' + folder, header = None)\n",
    "    df.columns = ['date','real demand']\n",
    "    datasets_val[str(folder)[:-4]] = df\n",
    "    \n",
    "validation = pd.concat(datasets_val)"
   ]
  },
  {
   "cell_type": "markdown",
   "metadata": {},
   "source": [
    "## Calculate unmet Demand"
   ]
  },
  {
   "cell_type": "code",
   "execution_count": 123,
   "metadata": {},
   "outputs": [],
   "source": [
    "def unmet_demand(week,day1,day2):\n",
    "    # load the stock_nb in state order\n",
    "    global nb_list\n",
    "    nb_list=[]\n",
    "    for j in range(51):\n",
    "        sum_nb=0\n",
    "        for i in in_flow[j]:\n",
    "            sum_nb=sum_nb+week.s0_nb.extract_values()[flow_mapping[i,j]]\n",
    "\n",
    "        nb_list.append(sum_nb)\n",
    "    \n",
    "    #load the sns in state order\n",
    "    sns_list=[]\n",
    "    for i in out_flow[51]:\n",
    "        sum_sns=0\n",
    "        sum_sns=sum_sns+week.x.extract_values()[flow_mapping[51,i]]\n",
    "\n",
    "        sns_list.append(sum_sns)\n",
    "    \n",
    "    # calculate the week unmet\n",
    "    global df_week\n",
    "    df_week = pd.DataFrame()\n",
    "\n",
    "    for c,i,j,k,s in zip(list(demands.StateCode.unique()), list(demands.state.unique()),\n",
    "                         list(week.s0.extract_values().values()),nb_list,sns_list):\n",
    "        temp = validation.loc[i][day1:day2]\n",
    "        temp['StateCode'] = c\n",
    "        temp['state'] = i\n",
    "        temp['Stock'] = j\n",
    "        temp['Stock_nb'] = k\n",
    "        temp['SNS'] = s\n",
    "\n",
    "        df_week = pd.concat([df_week,temp])\n",
    "        \n",
    "    df_week['unmet'] = df_week['Stock']+df_week['Stock_nb']-df_week['real demand']\n",
    "#     print(df_week)\n",
    "    unmet = []\n",
    "    for i in df_week['unmet']:\n",
    "        if i<0:\n",
    "            unmet.append(i)\n",
    "\n",
    "    total_unmet = -np.sum(unmet)\n",
    "    \n",
    "    return total_unmet"
   ]
  },
  {
   "cell_type": "markdown",
   "metadata": {},
   "source": [
    "## Results"
   ]
  },
  {
   "cell_type": "code",
   "execution_count": 121,
   "metadata": {},
   "outputs": [],
   "source": [
    "week0 = covid19(ini_self,ini_nb, 0)"
   ]
  },
  {
   "cell_type": "code",
   "execution_count": 127,
   "metadata": {},
   "outputs": [
    {
     "data": {
      "text/plain": [
       "{0: 120.0,\n",
       " 1: 806.0,\n",
       " 2: 300.0,\n",
       " 3: 900.0,\n",
       " 4: 6622.0,\n",
       " 5: 216.0,\n",
       " 6: 600.0,\n",
       " 7: 240.0,\n",
       " 8: 2400.0,\n",
       " 9: 604.000000000001,\n",
       " 10: 320.0,\n",
       " 11: 168.000000000001,\n",
       " 12: 242.0,\n",
       " 13: 957.000000000002,\n",
       " 14: 1156.0,\n",
       " 15: 101.0,\n",
       " 16: 780.000000000001,\n",
       " 17: 653.98985918826,\n",
       " 18: 840.0,\n",
       " 19: 577.239436619721,\n",
       " 20: 149.0,\n",
       " 21: 1707.9875,\n",
       " 22: 830.000000000001,\n",
       " 23: 970.461658841944,\n",
       " 24: 239.999999999999,\n",
       " 25: 196.0,\n",
       " 26: 1276.0,\n",
       " 27: 245.0,\n",
       " 28: 216.0,\n",
       " 29: 600.0,\n",
       " 30: 988.810035211268,\n",
       " 31: 332.422535211269,\n",
       " 32: 435.134585289512,\n",
       " 33: 2760.0,\n",
       " 34: 1637.0,\n",
       " 35: 432.507042253519,\n",
       " 36: 480.0,\n",
       " 37: 1200.0,\n",
       " 38: 213.106416275427,\n",
       " 39: 686.023474178399,\n",
       " 40: 315.0,\n",
       " 41: 569.999999999998,\n",
       " 42: 5245.0,\n",
       " 43: 384.320813771515,\n",
       " 44: 1520.0,\n",
       " 45: 233.2783333,\n",
       " 46: 720.0,\n",
       " 47: 223.0,\n",
       " 48: 344.128325508607,\n",
       " 49: 108.0,\n",
       " 50: 264.0,\n",
       " 51: 4320.0}"
      ]
     },
     "execution_count": 127,
     "metadata": {},
     "output_type": "execute_result"
    }
   ],
   "source": [
    "week0.s0.extract_values()"
   ]
  },
  {
   "cell_type": "code",
   "execution_count": 124,
   "metadata": {},
   "outputs": [
    {
     "data": {
      "text/plain": [
       "878.131455399056"
      ]
     },
     "execution_count": 124,
     "metadata": {},
     "output_type": "execute_result"
    }
   ],
   "source": [
    "unmet_demand(week0,0,7)"
   ]
  },
  {
   "cell_type": "code",
   "execution_count": 125,
   "metadata": {},
   "outputs": [],
   "source": [
    "#df_week.to_csv('week1.csv')"
   ]
  },
  {
   "cell_type": "code",
   "execution_count": 78,
   "metadata": {},
   "outputs": [
    {
     "data": {
      "text/plain": [
       "49772.00000000001"
      ]
     },
     "execution_count": 78,
     "metadata": {},
     "output_type": "execute_result"
    }
   ],
   "source": [
    "np.sum(list(week0.s0.extract_values().values())) + np.sum(list(week0.s0_nb.extract_values().values())[:222])"
   ]
  },
  {
   "cell_type": "code",
   "execution_count": 79,
   "metadata": {},
   "outputs": [],
   "source": [
    "week1 = covid19(list(week0.s0.extract_values().values()),list(week0.s0_nb.extract_values().values()),7)"
   ]
  },
  {
   "cell_type": "code",
   "execution_count": 128,
   "metadata": {},
   "outputs": [
    {
     "data": {
      "text/plain": [
       "{0: 120.0,\n",
       " 1: 806.0,\n",
       " 2: 180.0,\n",
       " 3: 900.0,\n",
       " 4: 6358.57064001317,\n",
       " 5: 468.217747398061,\n",
       " 6: 599.999999999998,\n",
       " 7: 164.689706111718,\n",
       " 8: 2367.65406401557,\n",
       " 9: 604.000000000001,\n",
       " 10: 319.046747972675,\n",
       " 11: 168.000000000001,\n",
       " 12: 145.000000000001,\n",
       " 13: 957.000000000003,\n",
       " 14: 1156.0,\n",
       " 15: 101.0,\n",
       " 16: 780.000000000001,\n",
       " 17: 653.98985918826,\n",
       " 18: 840.0,\n",
       " 19: 603.191036841703,\n",
       " 20: 149.0,\n",
       " 21: 1779.967028,\n",
       " 22: 830.000000000001,\n",
       " 23: 1004.4261847823,\n",
       " 24: 211.399507384423,\n",
       " 25: 195.999999999999,\n",
       " 26: 1276.0,\n",
       " 27: 147.0,\n",
       " 28: 130.000000000001,\n",
       " 29: 600.0,\n",
       " 30: 1009.516393,\n",
       " 31: 198.999999999998,\n",
       " 32: 335.743242455931,\n",
       " 33: 3624.0,\n",
       " 34: 1553.35441466853,\n",
       " 35: 260.0,\n",
       " 36: 480.0,\n",
       " 37: 1200.0,\n",
       " 38: 233.0,\n",
       " 39: 583.023474178399,\n",
       " 40: 315.000000000002,\n",
       " 41: 527.8500912,\n",
       " 42: 5245.0,\n",
       " 43: 279.428811833855,\n",
       " 44: 1520.0,\n",
       " 45: 233.2783333,\n",
       " 46: 688.284380879563,\n",
       " 47: 183.951688579563,\n",
       " 48: 206.0,\n",
       " 49: 108.0,\n",
       " 50: 264.0,\n",
       " 51: 2592.0}"
      ]
     },
     "execution_count": 128,
     "metadata": {},
     "output_type": "execute_result"
    }
   ],
   "source": [
    "week1.s0.extract_values()"
   ]
  },
  {
   "cell_type": "code",
   "execution_count": 80,
   "metadata": {},
   "outputs": [
    {
     "data": {
      "text/plain": [
       "4535.187529800011"
      ]
     },
     "execution_count": 80,
     "metadata": {},
     "output_type": "execute_result"
    }
   ],
   "source": [
    "unmet_demand(week1,7,14)"
   ]
  },
  {
   "cell_type": "code",
   "execution_count": 81,
   "metadata": {},
   "outputs": [],
   "source": [
    "#df_week.to_csv('week2.csv')"
   ]
  },
  {
   "cell_type": "code",
   "execution_count": 82,
   "metadata": {},
   "outputs": [
    {
     "data": {
      "text/plain": [
       "49771.99999999999"
      ]
     },
     "execution_count": 82,
     "metadata": {},
     "output_type": "execute_result"
    }
   ],
   "source": [
    "np.sum(list(week1.s0.extract_values().values())) + np.sum(list(week1.s0_nb.extract_values().values())[:222])"
   ]
  },
  {
   "cell_type": "code",
   "execution_count": 117,
   "metadata": {},
   "outputs": [],
   "source": [
    "week2 = covid19(list(week1.s0.extract_values().values()),list(week1.s0_nb.extract_values().values()),14)"
   ]
  },
  {
   "cell_type": "code",
   "execution_count": 118,
   "metadata": {},
   "outputs": [
    {
     "data": {
      "text/plain": [
       "4785.829922999941"
      ]
     },
     "execution_count": 118,
     "metadata": {},
     "output_type": "execute_result"
    }
   ],
   "source": [
    "unmet_demand(week2,14,21)"
   ]
  },
  {
   "cell_type": "code",
   "execution_count": 119,
   "metadata": {},
   "outputs": [],
   "source": [
    "#df_week.to_csv('week3.csv')"
   ]
  },
  {
   "cell_type": "code",
   "execution_count": 86,
   "metadata": {},
   "outputs": [
    {
     "data": {
      "text/plain": [
       "49772.00000000006"
      ]
     },
     "execution_count": 86,
     "metadata": {},
     "output_type": "execute_result"
    }
   ],
   "source": [
    "np.sum(list(week2.s0.extract_values().values())) + np.sum(list(week2.s0_nb.extract_values().values())[:222])"
   ]
  },
  {
   "cell_type": "code",
   "execution_count": 87,
   "metadata": {},
   "outputs": [],
   "source": [
    "week3 = covid19(list(week2.s0.extract_values().values()),list(week2.s0_nb.extract_values().values()),21)"
   ]
  },
  {
   "cell_type": "code",
   "execution_count": 88,
   "metadata": {},
   "outputs": [
    {
     "data": {
      "text/plain": [
       "3456.4414934999504"
      ]
     },
     "execution_count": 88,
     "metadata": {},
     "output_type": "execute_result"
    }
   ],
   "source": [
    "unmet_demand(week3,21,28)"
   ]
  },
  {
   "cell_type": "code",
   "execution_count": 89,
   "metadata": {},
   "outputs": [],
   "source": [
    "#df_week.to_csv('week4.csv')"
   ]
  },
  {
   "cell_type": "code",
   "execution_count": 90,
   "metadata": {},
   "outputs": [
    {
     "data": {
      "text/plain": [
       "49772.000000000044"
      ]
     },
     "execution_count": 90,
     "metadata": {},
     "output_type": "execute_result"
    }
   ],
   "source": [
    "np.sum(list(week3.s0.extract_values().values())) + np.sum(list(week3.s0_nb.extract_values().values())[:222])"
   ]
  },
  {
   "cell_type": "code",
   "execution_count": 91,
   "metadata": {},
   "outputs": [],
   "source": [
    "week4 = covid19(list(week3.s0.extract_values().values()),list(week3.s0_nb.extract_values().values()),28)"
   ]
  },
  {
   "cell_type": "code",
   "execution_count": 92,
   "metadata": {},
   "outputs": [
    {
     "data": {
      "text/plain": [
       "1505.4414934998886"
      ]
     },
     "execution_count": 92,
     "metadata": {},
     "output_type": "execute_result"
    }
   ],
   "source": [
    "unmet_demand(week4,28,35)"
   ]
  },
  {
   "cell_type": "code",
   "execution_count": 93,
   "metadata": {},
   "outputs": [],
   "source": [
    "#df_week.to_csv('week5.csv')"
   ]
  },
  {
   "cell_type": "code",
   "execution_count": 94,
   "metadata": {},
   "outputs": [
    {
     "data": {
      "text/plain": [
       "49772.00000000003"
      ]
     },
     "execution_count": 94,
     "metadata": {},
     "output_type": "execute_result"
    }
   ],
   "source": [
    "np.sum(list(week4.s0.extract_values().values())) + np.sum(list(week4.s0_nb.extract_values().values())[:222])"
   ]
  },
  {
   "cell_type": "code",
   "execution_count": 95,
   "metadata": {},
   "outputs": [],
   "source": [
    "week5 = covid19(list(week4.s0.extract_values().values()),list(week4.s0_nb.extract_values().values()),35)"
   ]
  },
  {
   "cell_type": "code",
   "execution_count": 96,
   "metadata": {},
   "outputs": [
    {
     "data": {
      "text/plain": [
       "713.9984537265066"
      ]
     },
     "execution_count": 96,
     "metadata": {},
     "output_type": "execute_result"
    }
   ],
   "source": [
    "unmet_demand(week5,35,42)"
   ]
  },
  {
   "cell_type": "code",
   "execution_count": 97,
   "metadata": {},
   "outputs": [],
   "source": [
    "#df_week.to_csv('week6.csv')"
   ]
  },
  {
   "cell_type": "code",
   "execution_count": 98,
   "metadata": {},
   "outputs": [],
   "source": [
    "week6 = covid19(list(week5.s0.extract_values().values()),list(week5.s0_nb.extract_values().values()),42)"
   ]
  },
  {
   "cell_type": "code",
   "execution_count": 99,
   "metadata": {},
   "outputs": [
    {
     "data": {
      "text/plain": [
       "-0.0"
      ]
     },
     "execution_count": 99,
     "metadata": {},
     "output_type": "execute_result"
    }
   ],
   "source": [
    "unmet_demand(week6,42,49)"
   ]
  },
  {
   "cell_type": "code",
   "execution_count": 100,
   "metadata": {},
   "outputs": [],
   "source": [
    "#df_week.to_csv('week7.csv')"
   ]
  },
  {
   "cell_type": "code",
   "execution_count": 101,
   "metadata": {},
   "outputs": [],
   "source": [
    "week7 = covid19(list(week6.s0.extract_values().values()),list(week6.s0_nb.extract_values().values()),49)"
   ]
  },
  {
   "cell_type": "code",
   "execution_count": 102,
   "metadata": {},
   "outputs": [
    {
     "data": {
      "text/plain": [
       "-0.0"
      ]
     },
     "execution_count": 102,
     "metadata": {},
     "output_type": "execute_result"
    }
   ],
   "source": [
    "unmet_demand(week7,49,56)"
   ]
  },
  {
   "cell_type": "code",
   "execution_count": 103,
   "metadata": {},
   "outputs": [],
   "source": [
    "#df_week.to_csv('week8.csv')"
   ]
  },
  {
   "cell_type": "code",
   "execution_count": 104,
   "metadata": {},
   "outputs": [],
   "source": [
    "week8 = covid19(list(week7.s0.extract_values().values()),list(week7.s0_nb.extract_values().values()),56)"
   ]
  },
  {
   "cell_type": "code",
   "execution_count": 105,
   "metadata": {},
   "outputs": [
    {
     "data": {
      "text/plain": [
       "-0.0"
      ]
     },
     "execution_count": 105,
     "metadata": {},
     "output_type": "execute_result"
    }
   ],
   "source": [
    "unmet_demand(week8,56,63)"
   ]
  },
  {
   "cell_type": "code",
   "execution_count": 106,
   "metadata": {},
   "outputs": [],
   "source": [
    "#df_week.to_csv('week9.csv')"
   ]
  },
  {
   "cell_type": "code",
   "execution_count": 107,
   "metadata": {},
   "outputs": [],
   "source": [
    "week9 = covid19(list(week8.s0.extract_values().values()),list(week8.s0_nb.extract_values().values()),63)"
   ]
  },
  {
   "cell_type": "code",
   "execution_count": 108,
   "metadata": {},
   "outputs": [
    {
     "data": {
      "text/plain": [
       "-0.0"
      ]
     },
     "execution_count": 108,
     "metadata": {},
     "output_type": "execute_result"
    }
   ],
   "source": [
    "unmet_demand(week9,63,70)"
   ]
  },
  {
   "cell_type": "code",
   "execution_count": 109,
   "metadata": {},
   "outputs": [],
   "source": [
    "#df_week.to_csv('week10.csv')"
   ]
  },
  {
   "cell_type": "code",
   "execution_count": 110,
   "metadata": {},
   "outputs": [],
   "source": [
    "unmet_lst = []\n",
    "list_of_datasets = [ week0, week1, week2, week3, week4, week5, week6, week7, week8, week9]\n",
    "\n",
    "for index, dataset in enumerate(list_of_datasets):\n",
    "    unmet_lst.append(unmet_demand(dataset,index*7,(index+1)*7))"
   ]
  },
  {
   "cell_type": "markdown",
   "metadata": {},
   "source": [
    "### Compare with other situation"
   ]
  },
  {
   "cell_type": "code",
   "execution_count": 111,
   "metadata": {},
   "outputs": [],
   "source": [
    "real_d = pd.read_csv('eval_v2.csv')"
   ]
  },
  {
   "cell_type": "code",
   "execution_count": 112,
   "metadata": {},
   "outputs": [],
   "source": [
    "def unmet(weeknum):\n",
    "    real_d0=real_d.loc[real_d['Week']==weeknum]\n",
    "\n",
    "\n",
    "    for i in range(51):\n",
    "        real_d0[str(i)]=real_d0[str(i)]-ini_self[i]\n",
    "        real_d0[str(i)]=real_d0[str(i)].apply(lambda x: max(0,x))\n",
    "    return(real_d0.iloc[:,2:].sum(axis=1).sum(axis = 0))"
   ]
  },
  {
   "cell_type": "code",
   "execution_count": 113,
   "metadata": {},
   "outputs": [
    {
     "name": "stderr",
     "output_type": "stream",
     "text": [
      "<ipython-input-112-b3b46662e351>:6: SettingWithCopyWarning: \n",
      "A value is trying to be set on a copy of a slice from a DataFrame.\n",
      "Try using .loc[row_indexer,col_indexer] = value instead\n",
      "\n",
      "See the caveats in the documentation: https://pandas.pydata.org/pandas-docs/stable/user_guide/indexing.html#returning-a-view-versus-a-copy\n",
      "  real_d0[str(i)]=real_d0[str(i)]-ini_self[i]\n",
      "<ipython-input-112-b3b46662e351>:7: SettingWithCopyWarning: \n",
      "A value is trying to be set on a copy of a slice from a DataFrame.\n",
      "Try using .loc[row_indexer,col_indexer] = value instead\n",
      "\n",
      "See the caveats in the documentation: https://pandas.pydata.org/pandas-docs/stable/user_guide/indexing.html#returning-a-view-versus-a-copy\n",
      "  real_d0[str(i)]=real_d0[str(i)].apply(lambda x: max(0,x))\n",
      "<ipython-input-112-b3b46662e351>:6: SettingWithCopyWarning: \n",
      "A value is trying to be set on a copy of a slice from a DataFrame.\n",
      "Try using .loc[row_indexer,col_indexer] = value instead\n",
      "\n",
      "See the caveats in the documentation: https://pandas.pydata.org/pandas-docs/stable/user_guide/indexing.html#returning-a-view-versus-a-copy\n",
      "  real_d0[str(i)]=real_d0[str(i)]-ini_self[i]\n",
      "<ipython-input-112-b3b46662e351>:7: SettingWithCopyWarning: \n",
      "A value is trying to be set on a copy of a slice from a DataFrame.\n",
      "Try using .loc[row_indexer,col_indexer] = value instead\n",
      "\n",
      "See the caveats in the documentation: https://pandas.pydata.org/pandas-docs/stable/user_guide/indexing.html#returning-a-view-versus-a-copy\n",
      "  real_d0[str(i)]=real_d0[str(i)].apply(lambda x: max(0,x))\n",
      "<ipython-input-112-b3b46662e351>:6: SettingWithCopyWarning: \n",
      "A value is trying to be set on a copy of a slice from a DataFrame.\n",
      "Try using .loc[row_indexer,col_indexer] = value instead\n",
      "\n",
      "See the caveats in the documentation: https://pandas.pydata.org/pandas-docs/stable/user_guide/indexing.html#returning-a-view-versus-a-copy\n",
      "  real_d0[str(i)]=real_d0[str(i)]-ini_self[i]\n",
      "<ipython-input-112-b3b46662e351>:7: SettingWithCopyWarning: \n",
      "A value is trying to be set on a copy of a slice from a DataFrame.\n",
      "Try using .loc[row_indexer,col_indexer] = value instead\n",
      "\n",
      "See the caveats in the documentation: https://pandas.pydata.org/pandas-docs/stable/user_guide/indexing.html#returning-a-view-versus-a-copy\n",
      "  real_d0[str(i)]=real_d0[str(i)].apply(lambda x: max(0,x))\n",
      "<ipython-input-112-b3b46662e351>:6: SettingWithCopyWarning: \n",
      "A value is trying to be set on a copy of a slice from a DataFrame.\n",
      "Try using .loc[row_indexer,col_indexer] = value instead\n",
      "\n",
      "See the caveats in the documentation: https://pandas.pydata.org/pandas-docs/stable/user_guide/indexing.html#returning-a-view-versus-a-copy\n",
      "  real_d0[str(i)]=real_d0[str(i)]-ini_self[i]\n",
      "<ipython-input-112-b3b46662e351>:7: SettingWithCopyWarning: \n",
      "A value is trying to be set on a copy of a slice from a DataFrame.\n",
      "Try using .loc[row_indexer,col_indexer] = value instead\n",
      "\n",
      "See the caveats in the documentation: https://pandas.pydata.org/pandas-docs/stable/user_guide/indexing.html#returning-a-view-versus-a-copy\n",
      "  real_d0[str(i)]=real_d0[str(i)].apply(lambda x: max(0,x))\n",
      "<ipython-input-112-b3b46662e351>:6: SettingWithCopyWarning: \n",
      "A value is trying to be set on a copy of a slice from a DataFrame.\n",
      "Try using .loc[row_indexer,col_indexer] = value instead\n",
      "\n",
      "See the caveats in the documentation: https://pandas.pydata.org/pandas-docs/stable/user_guide/indexing.html#returning-a-view-versus-a-copy\n",
      "  real_d0[str(i)]=real_d0[str(i)]-ini_self[i]\n",
      "<ipython-input-112-b3b46662e351>:7: SettingWithCopyWarning: \n",
      "A value is trying to be set on a copy of a slice from a DataFrame.\n",
      "Try using .loc[row_indexer,col_indexer] = value instead\n",
      "\n",
      "See the caveats in the documentation: https://pandas.pydata.org/pandas-docs/stable/user_guide/indexing.html#returning-a-view-versus-a-copy\n",
      "  real_d0[str(i)]=real_d0[str(i)].apply(lambda x: max(0,x))\n",
      "<ipython-input-112-b3b46662e351>:6: SettingWithCopyWarning: \n",
      "A value is trying to be set on a copy of a slice from a DataFrame.\n",
      "Try using .loc[row_indexer,col_indexer] = value instead\n",
      "\n",
      "See the caveats in the documentation: https://pandas.pydata.org/pandas-docs/stable/user_guide/indexing.html#returning-a-view-versus-a-copy\n",
      "  real_d0[str(i)]=real_d0[str(i)]-ini_self[i]\n",
      "<ipython-input-112-b3b46662e351>:7: SettingWithCopyWarning: \n",
      "A value is trying to be set on a copy of a slice from a DataFrame.\n",
      "Try using .loc[row_indexer,col_indexer] = value instead\n",
      "\n",
      "See the caveats in the documentation: https://pandas.pydata.org/pandas-docs/stable/user_guide/indexing.html#returning-a-view-versus-a-copy\n",
      "  real_d0[str(i)]=real_d0[str(i)].apply(lambda x: max(0,x))\n",
      "<ipython-input-112-b3b46662e351>:6: SettingWithCopyWarning: \n",
      "A value is trying to be set on a copy of a slice from a DataFrame.\n",
      "Try using .loc[row_indexer,col_indexer] = value instead\n",
      "\n",
      "See the caveats in the documentation: https://pandas.pydata.org/pandas-docs/stable/user_guide/indexing.html#returning-a-view-versus-a-copy\n",
      "  real_d0[str(i)]=real_d0[str(i)]-ini_self[i]\n",
      "<ipython-input-112-b3b46662e351>:7: SettingWithCopyWarning: \n",
      "A value is trying to be set on a copy of a slice from a DataFrame.\n",
      "Try using .loc[row_indexer,col_indexer] = value instead\n",
      "\n",
      "See the caveats in the documentation: https://pandas.pydata.org/pandas-docs/stable/user_guide/indexing.html#returning-a-view-versus-a-copy\n",
      "  real_d0[str(i)]=real_d0[str(i)].apply(lambda x: max(0,x))\n",
      "<ipython-input-112-b3b46662e351>:6: SettingWithCopyWarning: \n",
      "A value is trying to be set on a copy of a slice from a DataFrame.\n",
      "Try using .loc[row_indexer,col_indexer] = value instead\n",
      "\n",
      "See the caveats in the documentation: https://pandas.pydata.org/pandas-docs/stable/user_guide/indexing.html#returning-a-view-versus-a-copy\n",
      "  real_d0[str(i)]=real_d0[str(i)]-ini_self[i]\n",
      "<ipython-input-112-b3b46662e351>:7: SettingWithCopyWarning: \n",
      "A value is trying to be set on a copy of a slice from a DataFrame.\n",
      "Try using .loc[row_indexer,col_indexer] = value instead\n",
      "\n",
      "See the caveats in the documentation: https://pandas.pydata.org/pandas-docs/stable/user_guide/indexing.html#returning-a-view-versus-a-copy\n",
      "  real_d0[str(i)]=real_d0[str(i)].apply(lambda x: max(0,x))\n",
      "<ipython-input-112-b3b46662e351>:6: SettingWithCopyWarning: \n",
      "A value is trying to be set on a copy of a slice from a DataFrame.\n",
      "Try using .loc[row_indexer,col_indexer] = value instead\n",
      "\n",
      "See the caveats in the documentation: https://pandas.pydata.org/pandas-docs/stable/user_guide/indexing.html#returning-a-view-versus-a-copy\n",
      "  real_d0[str(i)]=real_d0[str(i)]-ini_self[i]\n",
      "<ipython-input-112-b3b46662e351>:7: SettingWithCopyWarning: \n",
      "A value is trying to be set on a copy of a slice from a DataFrame.\n",
      "Try using .loc[row_indexer,col_indexer] = value instead\n",
      "\n",
      "See the caveats in the documentation: https://pandas.pydata.org/pandas-docs/stable/user_guide/indexing.html#returning-a-view-versus-a-copy\n",
      "  real_d0[str(i)]=real_d0[str(i)].apply(lambda x: max(0,x))\n",
      "<ipython-input-112-b3b46662e351>:6: SettingWithCopyWarning: \n",
      "A value is trying to be set on a copy of a slice from a DataFrame.\n",
      "Try using .loc[row_indexer,col_indexer] = value instead\n",
      "\n",
      "See the caveats in the documentation: https://pandas.pydata.org/pandas-docs/stable/user_guide/indexing.html#returning-a-view-versus-a-copy\n",
      "  real_d0[str(i)]=real_d0[str(i)]-ini_self[i]\n",
      "<ipython-input-112-b3b46662e351>:7: SettingWithCopyWarning: \n",
      "A value is trying to be set on a copy of a slice from a DataFrame.\n",
      "Try using .loc[row_indexer,col_indexer] = value instead\n",
      "\n",
      "See the caveats in the documentation: https://pandas.pydata.org/pandas-docs/stable/user_guide/indexing.html#returning-a-view-versus-a-copy\n",
      "  real_d0[str(i)]=real_d0[str(i)].apply(lambda x: max(0,x))\n"
     ]
    }
   ],
   "source": [
    "no_coor = []\n",
    "for i in range (10):\n",
    "    no_coor.append(unmet(i))"
   ]
  },
  {
   "cell_type": "code",
   "execution_count": 114,
   "metadata": {},
   "outputs": [],
   "source": [
    "deter = pd.read_csv('determ.csv')\n",
    "df_result = pd.DataFrame()\n",
    "df_result['unmet_no_coor'] = no_coor\n",
    "df_result['unmet_determ'] = deter['0']\n",
    "df_result['unmet_SR'] = unmet_lst"
   ]
  },
  {
   "cell_type": "code",
   "execution_count": 115,
   "metadata": {},
   "outputs": [],
   "source": [
    "df_result.index = ['03/25-03/31','04/01-04/07','04/08-04/14','04/15-04/22','04/23-04/29',\n",
    "                  '04/30-05/05','05/06-05/12','05/13-05/19','05/20-05/26','05/27-06/02']"
   ]
  },
  {
   "cell_type": "code",
   "execution_count": 116,
   "metadata": {},
   "outputs": [
    {
     "data": {
      "text/plain": [
       "Text(0, 0.5, 'Unmet demand')"
      ]
     },
     "execution_count": 116,
     "metadata": {},
     "output_type": "execute_result"
    },
    {
     "data": {
      "image/png": "[encoded data removed]",
      "text/plain": [
       "<Figure size 432x288 with 1 Axes>"
      ]
     },
     "metadata": {
      "needs_background": "light"
     },
     "output_type": "display_data"
    }
   ],
   "source": [
    "df_result.plot(kind = 'bar')\n",
    "plt.xticks(rotation=60)\n",
    "plt.title('Unmet demand for different models', fontweight = 'bold', fontsize = 15)\n",
    "plt.xlabel('Weeks',fontweight = 'bold',fontsize = 13)\n",
    "plt.ylabel('Unmet demand',fontweight = 'bold',fontsize = 13)"
   ]
  },
  {
   "cell_type": "code",
   "execution_count": 132,
   "metadata": {},
   "outputs": [
    {
     "data": {
      "text/html": [
       "<div>\n",
       "<style scoped>\n",
       "    .dataframe tbody tr th:only-of-type {\n",
       "        vertical-align: middle;\n",
       "    }\n",
       "\n",
       "    .dataframe tbody tr th {\n",
       "        vertical-align: top;\n",
       "    }\n",
       "\n",
       "    .dataframe thead th {\n",
       "        text-align: right;\n",
       "    }\n",
       "</style>\n",
       "<table border=\"1\" class=\"dataframe\">\n",
       "  <thead>\n",
       "    <tr style=\"text-align: right;\">\n",
       "      <th></th>\n",
       "      <th>unmet_no_coor</th>\n",
       "      <th>unmet_determ</th>\n",
       "      <th>unmet_SR</th>\n",
       "    </tr>\n",
       "  </thead>\n",
       "  <tbody>\n",
       "    <tr>\n",
       "      <th>03/25-03/31</th>\n",
       "      <td>9501</td>\n",
       "      <td>632.000000</td>\n",
       "      <td>878.131455</td>\n",
       "    </tr>\n",
       "    <tr>\n",
       "      <th>04/01-04/07</th>\n",
       "      <td>29295</td>\n",
       "      <td>3978.490215</td>\n",
       "      <td>4535.187530</td>\n",
       "    </tr>\n",
       "    <tr>\n",
       "      <th>04/08-04/14</th>\n",
       "      <td>37710</td>\n",
       "      <td>3847.690524</td>\n",
       "      <td>4785.829923</td>\n",
       "    </tr>\n",
       "    <tr>\n",
       "      <th>04/15-04/22</th>\n",
       "      <td>34076</td>\n",
       "      <td>5496.961083</td>\n",
       "      <td>3456.441493</td>\n",
       "    </tr>\n",
       "    <tr>\n",
       "      <th>04/23-04/29</th>\n",
       "      <td>24742</td>\n",
       "      <td>2708.216000</td>\n",
       "      <td>1505.441493</td>\n",
       "    </tr>\n",
       "    <tr>\n",
       "      <th>04/30-05/05</th>\n",
       "      <td>14458</td>\n",
       "      <td>1690.554174</td>\n",
       "      <td>713.998454</td>\n",
       "    </tr>\n",
       "    <tr>\n",
       "      <th>05/06-05/12</th>\n",
       "      <td>6320</td>\n",
       "      <td>-0.000000</td>\n",
       "      <td>-0.000000</td>\n",
       "    </tr>\n",
       "    <tr>\n",
       "      <th>05/13-05/19</th>\n",
       "      <td>3048</td>\n",
       "      <td>-0.000000</td>\n",
       "      <td>-0.000000</td>\n",
       "    </tr>\n",
       "    <tr>\n",
       "      <th>05/20-05/26</th>\n",
       "      <td>958</td>\n",
       "      <td>-0.000000</td>\n",
       "      <td>-0.000000</td>\n",
       "    </tr>\n",
       "    <tr>\n",
       "      <th>05/27-06/02</th>\n",
       "      <td>19</td>\n",
       "      <td>-0.000000</td>\n",
       "      <td>-0.000000</td>\n",
       "    </tr>\n",
       "  </tbody>\n",
       "</table>\n",
       "</div>"
      ],
      "text/plain": [
       "             unmet_no_coor  unmet_determ     unmet_SR\n",
       "03/25-03/31           9501    632.000000   878.131455\n",
       "04/01-04/07          29295   3978.490215  4535.187530\n",
       "04/08-04/14          37710   3847.690524  4785.829923\n",
       "04/15-04/22          34076   5496.961083  3456.441493\n",
       "04/23-04/29          24742   2708.216000  1505.441493\n",
       "04/30-05/05          14458   1690.554174   713.998454\n",
       "05/06-05/12           6320     -0.000000    -0.000000\n",
       "05/13-05/19           3048     -0.000000    -0.000000\n",
       "05/20-05/26            958     -0.000000    -0.000000\n",
       "05/27-06/02             19     -0.000000    -0.000000"
      ]
     },
     "execution_count": 132,
     "metadata": {},
     "output_type": "execute_result"
    }
   ],
   "source": [
    "df_result"
   ]
  },
  {
   "cell_type": "code",
   "execution_count": 134,
   "metadata": {},
   "outputs": [],
   "source": [
    "total_demand = [38785,80673,107638,114260,108890,98215,86284,74418,63132,53096]"
   ]
  },
  {
   "cell_type": "code",
   "execution_count": 135,
   "metadata": {},
   "outputs": [],
   "source": [
    "df_result['Total demand'] = total_demand"
   ]
  },
  {
   "cell_type": "code",
   "execution_count": 140,
   "metadata": {},
   "outputs": [
    {
     "data": {
      "text/plain": [
       "Text(0, 0.5, 'Total demand')"
      ]
     },
     "execution_count": 140,
     "metadata": {},
     "output_type": "execute_result"
    },
    {
     "data": {
      "image/png": "[encoded data removed]",
      "text/plain": [
       "<Figure size 432x288 with 1 Axes>"
      ]
     },
     "metadata": {
      "needs_background": "light"
     },
     "output_type": "display_data"
    }
   ],
   "source": [
    "df_result['Total demand'].plot(kind = 'bar')\n",
    "plt.xticks(rotation=60)\n",
    "plt.title('Total demand', fontweight = 'bold', fontsize = 15)\n",
    "plt.xlabel('Weeks',fontweight = 'bold',fontsize = 13)\n",
    "plt.ylabel('Total demand',fontweight = 'bold',fontsize = 13)"
   ]
  },
  {
   "cell_type": "code",
   "execution_count": 143,
   "metadata": {},
   "outputs": [
    {
     "data": {
      "text/html": [
       "<div>\n",
       "<style scoped>\n",
       "    .dataframe tbody tr th:only-of-type {\n",
       "        vertical-align: middle;\n",
       "    }\n",
       "\n",
       "    .dataframe tbody tr th {\n",
       "        vertical-align: top;\n",
       "    }\n",
       "\n",
       "    .dataframe thead th {\n",
       "        text-align: right;\n",
       "    }\n",
       "</style>\n",
       "<table border=\"1\" class=\"dataframe\">\n",
       "  <thead>\n",
       "    <tr style=\"text-align: right;\">\n",
       "      <th></th>\n",
       "      <th>unmet_no_coor</th>\n",
       "      <th>unmet_determ</th>\n",
       "      <th>unmet_SR</th>\n",
       "      <th>Total demand</th>\n",
       "    </tr>\n",
       "  </thead>\n",
       "  <tbody>\n",
       "    <tr>\n",
       "      <th>03/25-03/31</th>\n",
       "      <td>9501</td>\n",
       "      <td>632.000000</td>\n",
       "      <td>878.131455</td>\n",
       "      <td>38785</td>\n",
       "    </tr>\n",
       "    <tr>\n",
       "      <th>04/01-04/07</th>\n",
       "      <td>29295</td>\n",
       "      <td>3978.490215</td>\n",
       "      <td>4535.187530</td>\n",
       "      <td>80673</td>\n",
       "    </tr>\n",
       "    <tr>\n",
       "      <th>04/08-04/14</th>\n",
       "      <td>37710</td>\n",
       "      <td>3847.690524</td>\n",
       "      <td>4785.829923</td>\n",
       "      <td>107638</td>\n",
       "    </tr>\n",
       "    <tr>\n",
       "      <th>04/15-04/22</th>\n",
       "      <td>34076</td>\n",
       "      <td>5496.961083</td>\n",
       "      <td>3456.441493</td>\n",
       "      <td>114260</td>\n",
       "    </tr>\n",
       "    <tr>\n",
       "      <th>04/23-04/29</th>\n",
       "      <td>24742</td>\n",
       "      <td>2708.216000</td>\n",
       "      <td>1505.441493</td>\n",
       "      <td>108890</td>\n",
       "    </tr>\n",
       "    <tr>\n",
       "      <th>04/30-05/05</th>\n",
       "      <td>14458</td>\n",
       "      <td>1690.554174</td>\n",
       "      <td>713.998454</td>\n",
       "      <td>98215</td>\n",
       "    </tr>\n",
       "    <tr>\n",
       "      <th>05/06-05/12</th>\n",
       "      <td>6320</td>\n",
       "      <td>-0.000000</td>\n",
       "      <td>-0.000000</td>\n",
       "      <td>86284</td>\n",
       "    </tr>\n",
       "    <tr>\n",
       "      <th>05/13-05/19</th>\n",
       "      <td>3048</td>\n",
       "      <td>-0.000000</td>\n",
       "      <td>-0.000000</td>\n",
       "      <td>74418</td>\n",
       "    </tr>\n",
       "    <tr>\n",
       "      <th>05/20-05/26</th>\n",
       "      <td>958</td>\n",
       "      <td>-0.000000</td>\n",
       "      <td>-0.000000</td>\n",
       "      <td>63132</td>\n",
       "    </tr>\n",
       "    <tr>\n",
       "      <th>05/27-06/02</th>\n",
       "      <td>19</td>\n",
       "      <td>-0.000000</td>\n",
       "      <td>-0.000000</td>\n",
       "      <td>53096</td>\n",
       "    </tr>\n",
       "  </tbody>\n",
       "</table>\n",
       "</div>"
      ],
      "text/plain": [
       "             unmet_no_coor  unmet_determ     unmet_SR  Total demand\n",
       "03/25-03/31           9501    632.000000   878.131455         38785\n",
       "04/01-04/07          29295   3978.490215  4535.187530         80673\n",
       "04/08-04/14          37710   3847.690524  4785.829923        107638\n",
       "04/15-04/22          34076   5496.961083  3456.441493        114260\n",
       "04/23-04/29          24742   2708.216000  1505.441493        108890\n",
       "04/30-05/05          14458   1690.554174   713.998454         98215\n",
       "05/06-05/12           6320     -0.000000    -0.000000         86284\n",
       "05/13-05/19           3048     -0.000000    -0.000000         74418\n",
       "05/20-05/26            958     -0.000000    -0.000000         63132\n",
       "05/27-06/02             19     -0.000000    -0.000000         53096"
      ]
     },
     "execution_count": 143,
     "metadata": {},
     "output_type": "execute_result"
    }
   ],
   "source": [
    "df_result"
   ]
  }
 ],
 "metadata": {
  "kernelspec": {
   "display_name": "Python 3",
   "language": "python",
   "name": "python3"
  },
  "language_info": {
   "codemirror_mode": {
    "name": "ipython",
    "version": 3
   },
   "file_extension": ".py",
   "mimetype": "text/x-python",
   "name": "python",
   "nbconvert_exporter": "python",
   "pygments_lexer": "ipython3",
   "version": "3.8.5"
  }
 },
 "nbformat": 4,
 "nbformat_minor": 4
}
