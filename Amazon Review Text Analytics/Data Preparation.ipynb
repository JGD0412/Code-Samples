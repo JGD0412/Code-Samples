{
 "cells": [
  {
   "cell_type": "code",
   "execution_count": 2,
   "metadata": {},
   "outputs": [],
   "source": [
    "import pandas as pd\n",
    "import numpy as np\n",
    "from sklearn.feature_extraction.text import TfidfVectorizer\n",
    "from sklearn.cluster import KMeans\n",
    "from collections import defaultdict\n",
    "from sklearn.model_selection import train_test_split"
   ]
  },
  {
   "cell_type": "code",
   "execution_count": 3,
   "metadata": {},
   "outputs": [],
   "source": [
    "df = pd.read_csv('data/shirt_review.csv')"
   ]
  },
  {
   "cell_type": "code",
   "execution_count": 4,
   "metadata": {},
   "outputs": [],
   "source": [
    "pd.set_option('display.max_rows',100)"
   ]
  },
  {
   "cell_type": "code",
   "execution_count": 5,
   "metadata": {},
   "outputs": [],
   "source": [
    "top_review = pd.DataFrame(df['asin'].value_counts()).head(10)"
   ]
  },
  {
   "cell_type": "code",
   "execution_count": 6,
   "metadata": {},
   "outputs": [
    {
     "data": {
      "text/plain": [
       "asin    28816\n",
       "dtype: int64"
      ]
     },
     "execution_count": 6,
     "metadata": {},
     "output_type": "execute_result"
    }
   ],
   "source": [
    "top_review[:9].sum()"
   ]
  },
  {
   "cell_type": "code",
   "execution_count": 7,
   "metadata": {},
   "outputs": [
    {
     "data": {
      "text/plain": [
       "Index(['B000BRETA4', 'B009OCZ84I', 'B001OQ67XI', 'B000BRFH1E', 'B00DIX5SVM',\n",
       "       'B009LJW5HM', 'B004IZVE6W', 'B00KC3DANE', 'B008FV74N2', 'B0002FHJ66'],\n",
       "      dtype='object')"
      ]
     },
     "execution_count": 7,
     "metadata": {},
     "output_type": "execute_result"
    }
   ],
   "source": [
    "top_review.index"
   ]
  },
  {
   "cell_type": "code",
   "execution_count": 8,
   "metadata": {},
   "outputs": [],
   "source": [
    "meta = pd.read_csv('data/shirt_meta.csv')"
   ]
  },
  {
   "cell_type": "code",
   "execution_count": 9,
   "metadata": {},
   "outputs": [],
   "source": [
    "title = pd.DataFrame(meta['title'])"
   ]
  },
  {
   "cell_type": "code",
   "execution_count": 10,
   "metadata": {},
   "outputs": [],
   "source": [
    "# 4 is Hanes Women's Wear Around Nightshirt\n",
    "# 7 Vobaga Women's Bird Heart Geometric Print Shor..\n",
    "# 8 Dream USA Men's Casual 3/4 Sleeve Baseball Tsh..."
   ]
  },
  {
   "cell_type": "code",
   "execution_count": 11,
   "metadata": {},
   "outputs": [],
   "source": [
    "asin = ['B000BRETA4', 'B009OCZ84I', 'B001OQ67XI', 'B000BRFH1E','B009LJW5HM', 'B004IZVE6W']"
   ]
  },
  {
   "cell_type": "code",
   "execution_count": 12,
   "metadata": {},
   "outputs": [],
   "source": [
    "sweatshirt = df[df['asin'].isin (asin)]"
   ]
  },
  {
   "cell_type": "code",
   "execution_count": 13,
   "metadata": {},
   "outputs": [],
   "source": [
    "#sweatshirt.to_csv('sweatshirt.csv')"
   ]
  },
  {
   "cell_type": "code",
   "execution_count": 14,
   "metadata": {},
   "outputs": [],
   "source": [
    "sweatshirt = sweatshirt[['overall','vote','asin','style','reviewText']]"
   ]
  },
  {
   "cell_type": "code",
   "execution_count": 15,
   "metadata": {},
   "outputs": [],
   "source": [
    "sweatshirt.index = range(0,sweatshirt.shape[0])"
   ]
  },
  {
   "cell_type": "code",
   "execution_count": 16,
   "metadata": {},
   "outputs": [
    {
     "data": {
      "text/plain": [
       "asin\n",
       "B000BRETA4    4.389073\n",
       "B000BRFH1E    4.396355\n",
       "B001OQ67XI    4.413759\n",
       "B004IZVE6W    4.255738\n",
       "B009LJW5HM    4.407365\n",
       "B009OCZ84I    4.418659\n",
       "Name: overall, dtype: float64"
      ]
     },
     "execution_count": 16,
     "metadata": {},
     "output_type": "execute_result"
    }
   ],
   "source": [
    "sweatshirt.groupby('asin')['overall'].mean()"
   ]
  },
  {
   "cell_type": "code",
   "execution_count": 17,
   "metadata": {},
   "outputs": [],
   "source": [
    "X = sweatshirt[['overall','asin','reviewText']]"
   ]
  },
  {
   "cell_type": "code",
   "execution_count": 18,
   "metadata": {},
   "outputs": [],
   "source": [
    "X = X.dropna()"
   ]
  },
  {
   "cell_type": "code",
   "execution_count": 19,
   "metadata": {
    "scrolled": true
   },
   "outputs": [
    {
     "data": {
      "text/plain": [
       "(21507, 3)"
      ]
     },
     "execution_count": 19,
     "metadata": {},
     "output_type": "execute_result"
    }
   ],
   "source": [
    "X.shape"
   ]
  },
  {
   "cell_type": "code",
   "execution_count": 20,
   "metadata": {},
   "outputs": [],
   "source": [
    "df_X = pd.DataFrame(X)"
   ]
  },
  {
   "cell_type": "code",
   "execution_count": 21,
   "metadata": {},
   "outputs": [],
   "source": [
    "len_100 = []\n",
    "for i in range(df_X.shape[0]):\n",
    "    if len(df_X['reviewText'].iloc[i])>100:\n",
    "        len_100.append(i)\n",
    "    else:\n",
    "        pass"
   ]
  },
  {
   "cell_type": "code",
   "execution_count": 22,
   "metadata": {},
   "outputs": [],
   "source": [
    "#df_X.iloc[len_100].to_csv('sweatshirt_100words.csv')"
   ]
  },
  {
   "cell_type": "code",
   "execution_count": 23,
   "metadata": {},
   "outputs": [],
   "source": [
    "insample,outsample = train_test_split(df, train_size = 1200/df.shape[0],random_state=42)"
   ]
  },
  {
   "cell_type": "code",
   "execution_count": 24,
   "metadata": {},
   "outputs": [],
   "source": [
    "#insample.to_csv('sweatshirt_sample1200.csv')"
   ]
  },
  {
   "cell_type": "markdown",
   "metadata": {},
   "source": [
    "### Choose Categories"
   ]
  },
  {
   "cell_type": "markdown",
   "metadata": {},
   "source": [
    "**TF-IDF with Clustering**"
   ]
  },
  {
   "cell_type": "code",
   "execution_count": 25,
   "metadata": {},
   "outputs": [],
   "source": [
    "vectorizer = TfidfVectorizer(stop_words = 'english')\n",
    "X_vector = vectorizer.fit_transform(X['reviewText'])"
   ]
  },
  {
   "cell_type": "code",
   "execution_count": 26,
   "metadata": {},
   "outputs": [],
   "source": [
    "X_vector = X_vector.toarray()"
   ]
  },
  {
   "cell_type": "markdown",
   "metadata": {},
   "source": [
    "**KMeans by all reviews**"
   ]
  },
  {
   "cell_type": "code",
   "execution_count": 27,
   "metadata": {},
   "outputs": [],
   "source": [
    "kmeans = KMeans(n_clusters=10, random_state=0).fit(X_vector)"
   ]
  },
  {
   "cell_type": "code",
   "execution_count": 28,
   "metadata": {},
   "outputs": [],
   "source": [
    "label = kmeans.labels_"
   ]
  },
  {
   "cell_type": "code",
   "execution_count": 29,
   "metadata": {},
   "outputs": [],
   "source": [
    "df1 = pd.DataFrame(X_vector)"
   ]
  },
  {
   "cell_type": "code",
   "execution_count": 30,
   "metadata": {},
   "outputs": [],
   "source": [
    "df1['label'] = label"
   ]
  },
  {
   "cell_type": "code",
   "execution_count": 37,
   "metadata": {},
   "outputs": [
    {
     "data": {
      "text/plain": [
       "array([[0., 0., 0., ..., 0., 0., 0.],\n",
       "       [0., 0., 0., ..., 0., 0., 0.],\n",
       "       [0., 0., 0., ..., 0., 0., 0.],\n",
       "       ...,\n",
       "       [0., 0., 0., ..., 0., 0., 0.],\n",
       "       [0., 0., 0., ..., 0., 0., 0.],\n",
       "       [0., 0., 0., ..., 0., 0., 0.]])"
      ]
     },
     "execution_count": 37,
     "metadata": {},
     "output_type": "execute_result"
    }
   ],
   "source": [
    "X_vector"
   ]
  },
  {
   "cell_type": "code",
   "execution_count": 31,
   "metadata": {},
   "outputs": [
    {
     "data": {
      "text/plain": [
       "(array([0, 1, 2, 3, 4, 5, 6, 7, 8, 9], dtype=int32),\n",
       " array([10856,  3181,  1046,   992,   960,   770,  1173,  1358,   669,\n",
       "          502]))"
      ]
     },
     "execution_count": 31,
     "metadata": {},
     "output_type": "execute_result"
    }
   ],
   "source": [
    "np.unique(label,return_counts=True)"
   ]
  },
  {
   "cell_type": "code",
   "execution_count": 32,
   "metadata": {},
   "outputs": [],
   "source": [
    "df_feature = pd.DataFrame(vectorizer.get_feature_names())"
   ]
  },
  {
   "cell_type": "code",
   "execution_count": 33,
   "metadata": {},
   "outputs": [],
   "source": [
    "list1 = []\n",
    "for i in range(0,10):\n",
    "    list1.append(df1[df1['label']==i])  # separate each label"
   ]
  },
  {
   "cell_type": "code",
   "execution_count": 34,
   "metadata": {},
   "outputs": [],
   "source": [
    "features = defaultdict(list)\n",
    "for i in range(0,10):\n",
    "    temp = list1[i].drop(columns=['label'])\n",
    "    temp = pd.DataFrame({'tfidf':temp.max()})\n",
    "    temp = temp.sort_values(by='tfidf',ascending=False)\n",
    "    max_tfidf = temp[temp['tfidf']==temp['tfidf'].max()]\n",
    "    for j in max_tfidf.index:\n",
    "        features[i].append(df_feature.iloc[j][0])"
   ]
  },
  {
   "cell_type": "code",
   "execution_count": 38,
   "metadata": {
    "scrolled": true
   },
   "outputs": [
    {
     "data": {
      "text/plain": [
       "['bulky',\n",
       " 'genial',\n",
       " 'thanks',\n",
       " 'right',\n",
       " 'coo',\n",
       " 'thicker',\n",
       " 'hoped',\n",
       " 'returned',\n",
       " 'white',\n",
       " 'thank',\n",
       " 'return',\n",
       " 'add',\n",
       " 'gift',\n",
       " 'hoodie',\n",
       " 'thumbs',\n",
       " 'content',\n",
       " 'hot',\n",
       " 'cool',\n",
       " 'dope',\n",
       " 'wonderful',\n",
       " 'says',\n",
       " 'satisfied',\n",
       " 'amazing',\n",
       " 'alright',\n",
       " 'sweet',\n",
       " 'bs',\n",
       " 'need',\n",
       " 'wish',\n",
       " 'ilikeitalot',\n",
       " 'bueno',\n",
       " 'ripped',\n",
       " 'rip',\n",
       " 'hshshshshsjs',\n",
       " 'advertised',\n",
       " 'noice',\n",
       " 'holes',\n",
       " 'eh',\n",
       " 'want',\n",
       " 'really',\n",
       " 'warming',\n",
       " 'excelent',\n",
       " 'excelente',\n",
       " 'goodb',\n",
       " 'wanted',\n",
       " 'excellence',\n",
       " 'torn',\n",
       " 'excellent',\n",
       " 'comforable',\n",
       " 'vien',\n",
       " 'perefect',\n",
       " 'quality',\n",
       " 'exellent',\n",
       " 'grrreat',\n",
       " 'gusto',\n",
       " 'complaints',\n",
       " 'recomended',\n",
       " 'happy',\n",
       " 'harmless',\n",
       " 'ordering',\n",
       " 'hdufivncvi',\n",
       " 'tthank',\n",
       " 'wavy',\n",
       " 'order',\n",
       " 'orange',\n",
       " 'a1',\n",
       " 'purchase',\n",
       " 'confortable',\n",
       " 'okay',\n",
       " 'buy',\n",
       " 'fuzballs',\n",
       " 'aight',\n",
       " 'awesome',\n",
       " 'lightbweight',\n",
       " 'problems',\n",
       " '10',\n",
       " 'shrink',\n",
       " 'liked',\n",
       " 'soso',\n",
       " 'likes',\n",
       " 'mailbox',\n",
       " 'yup',\n",
       " 'write',\n",
       " 'shrunk',\n",
       " 'wrong',\n",
       " 'soft',\n",
       " 'snuggly',\n",
       " 'shame',\n",
       " 'fits',\n",
       " 'bad',\n",
       " 'dafawsfawsfgsgfg',\n",
       " 'll',\n",
       " 'material',\n",
       " 'prefect',\n",
       " 'decent',\n",
       " 'sizeble',\n",
       " 'lov',\n",
       " 'loved',\n",
       " 'cute',\n",
       " 'short',\n",
       " 'yes',\n",
       " 'described',\n",
       " 'loveit',\n",
       " 'plus',\n",
       " 'kept',\n",
       " 'luv',\n",
       " 'worn',\n",
       " 'just',\n",
       " 'fantastic',\n",
       " 'junkie',\n",
       " 'pleased',\n",
       " 'cozy',\n",
       " 'jhgk',\n",
       " 'fine',\n",
       " 'ssjs',\n",
       " 'worth',\n",
       " 'meh',\n",
       " 'works',\n",
       " 'fit',\n",
       " 'present']"
      ]
     },
     "execution_count": 38,
     "metadata": {},
     "output_type": "execute_result"
    }
   ],
   "source": [
    "features[0] # feature: size, material, comfort,color"
   ]
  },
  {
   "cell_type": "code",
   "execution_count": 39,
   "metadata": {},
   "outputs": [
    {
     "data": {
      "text/plain": [
       "['little', 'large', 'small', 'like', 'big', 'ordered']"
      ]
     },
     "execution_count": 39,
     "metadata": {},
     "output_type": "execute_result"
    }
   ],
   "source": [
    "features[1] # feature: size"
   ]
  },
  {
   "cell_type": "code",
   "execution_count": 40,
   "metadata": {},
   "outputs": [
    {
     "data": {
      "text/plain": [
       "['comfortable', 'warm']"
      ]
     },
     "execution_count": 40,
     "metadata": {},
     "output_type": "execute_result"
    }
   ],
   "source": [
    "features[2] # feature: comfort, warm"
   ]
  },
  {
   "cell_type": "code",
   "execution_count": 41,
   "metadata": {},
   "outputs": [
    {
     "data": {
      "text/plain": [
       "['expected']"
      ]
     },
     "execution_count": 41,
     "metadata": {},
     "output_type": "execute_result"
    }
   ],
   "source": [
    "features[3]"
   ]
  },
  {
   "cell_type": "code",
   "execution_count": 42,
   "metadata": {},
   "outputs": [
    {
     "data": {
      "text/plain": [
       "['nice']"
      ]
     },
     "execution_count": 42,
     "metadata": {},
     "output_type": "execute_result"
    }
   ],
   "source": [
    "features[4]"
   ]
  },
  {
   "cell_type": "code",
   "execution_count": 43,
   "metadata": {},
   "outputs": [
    {
     "data": {
      "text/plain": [
       "['perfect']"
      ]
     },
     "execution_count": 43,
     "metadata": {},
     "output_type": "execute_result"
    }
   ],
   "source": [
    "features[5]"
   ]
  },
  {
   "cell_type": "code",
   "execution_count": 44,
   "metadata": {},
   "outputs": [
    {
     "data": {
      "text/plain": [
       "['good']"
      ]
     },
     "execution_count": 44,
     "metadata": {},
     "output_type": "execute_result"
    }
   ],
   "source": [
    "features[6]"
   ]
  },
  {
   "cell_type": "code",
   "execution_count": 45,
   "metadata": {},
   "outputs": [
    {
     "data": {
      "text/plain": [
       "['great']"
      ]
     },
     "execution_count": 45,
     "metadata": {},
     "output_type": "execute_result"
    }
   ],
   "source": [
    "features[7]"
   ]
  },
  {
   "cell_type": "code",
   "execution_count": 46,
   "metadata": {},
   "outputs": [
    {
     "data": {
      "text/plain": [
       "['comfy', 'ok']"
      ]
     },
     "execution_count": 46,
     "metadata": {},
     "output_type": "execute_result"
    }
   ],
   "source": [
    "features[8]  # feature: comfort"
   ]
  },
  {
   "cell_type": "code",
   "execution_count": 47,
   "metadata": {},
   "outputs": [
    {
     "data": {
      "text/plain": [
       "['love']"
      ]
     },
     "execution_count": 47,
     "metadata": {},
     "output_type": "execute_result"
    }
   ],
   "source": [
    "features[9]"
   ]
  },
  {
   "cell_type": "code",
   "execution_count": null,
   "metadata": {},
   "outputs": [],
   "source": [
    "# features = [size, material, comfort, warm, color]"
   ]
  }
 ],
 "metadata": {
  "kernelspec": {
   "display_name": "Python 3",
   "language": "python",
   "name": "python3"
  },
  "language_info": {
   "codemirror_mode": {
    "name": "ipython",
    "version": 3
   },
   "file_extension": ".py",
   "mimetype": "text/x-python",
   "name": "python",
   "nbconvert_exporter": "python",
   "pygments_lexer": "ipython3",
   "version": "3.7.6"
  }
 },
 "nbformat": 4,
 "nbformat_minor": 4
}
