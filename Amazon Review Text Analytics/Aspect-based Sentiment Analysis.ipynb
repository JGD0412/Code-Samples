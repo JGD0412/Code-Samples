{
 "cells": [
  {
   "cell_type": "code",
   "execution_count": 3,
   "metadata": {},
   "outputs": [],
   "source": [
    "import warnings\n",
    "warnings.filterwarnings(\"ignore\")"
   ]
  },
  {
   "cell_type": "code",
   "execution_count": 110,
   "metadata": {},
   "outputs": [],
   "source": [
    "import pandas as pd\n",
    "import numpy as np\n",
    "from sklearn.feature_extraction.text import TfidfVectorizer\n",
    "from sklearn.cluster import KMeans\n",
    "from collections import defaultdict\n",
    "from sklearn.model_selection import train_test_split, GridSearchCV\n",
    "from sklearn.linear_model import LinearRegression\n",
    "from sklearn.tree import DecisionTreeRegressor\n",
    "from sklearn.ensemble import RandomForestRegressor\n",
    "from sklearn.metrics import mean_squared_error, confusion_matrix, f1_score, hamming_loss, mean_absolute_error\n",
    "from sklearn.metrics import multilabel_confusion_matrix, precision_score, recall_score, accuracy_score\n",
    "import matplotlib.pyplot as plt\n",
    "from vaderSentiment.vaderSentiment import SentimentIntensityAnalyzer\n",
    "import itertools\n",
    "import en_core_web_sm\n",
    "import string\n",
    "from nltk.tag import pos_tag\n",
    "import gensim\n",
    "from gensim.utils import simple_preprocess\n",
    "from gensim.parsing.preprocessing import STOPWORDS\n",
    "from nltk.stem import WordNetLemmatizer, SnowballStemmer\n",
    "import nltk\n",
    "from nltk.tokenize import sent_tokenize, word_tokenize \n",
    "import warnings \n",
    "from gensim.models import Word2Vec\n",
    "import random\n",
    "from scipy import stats"
   ]
  },
  {
   "cell_type": "markdown",
   "metadata": {},
   "source": [
    "### Evaluate the six categories"
   ]
  },
  {
   "cell_type": "code",
   "execution_count": 121,
   "metadata": {},
   "outputs": [],
   "source": [
    "df_1200 = pd.read_csv('data/1200.csv')"
   ]
  },
  {
   "cell_type": "code",
   "execution_count": 17,
   "metadata": {},
   "outputs": [],
   "source": [
    "y = df_1200['overall']\n",
    "X = df_1200.iloc[:,1:7]"
   ]
  },
  {
   "cell_type": "code",
   "execution_count": 112,
   "metadata": {},
   "outputs": [
    {
     "name": "stdout",
     "output_type": "stream",
     "text": [
      "The R square of Linear Regression model is: 0.4882592494730197\n",
      "The MAE of Linear Regression model is: 0.6275222901360613\n"
     ]
    }
   ],
   "source": [
    "lr = LinearRegression()\n",
    "lr.fit(X,y)\n",
    "y_pred = lr.predict(X)\n",
    "R2 = lr.score(X,y)\n",
    "MAE = mean_absolute_error(y, y_pred)\n",
    "print(\"The R square of Linear Regression model is:\", R2)\n",
    "print(\"The MAE of Linear Regression model is:\", MAE)"
   ]
  },
  {
   "cell_type": "code",
   "execution_count": 113,
   "metadata": {},
   "outputs": [
    {
     "name": "stdout",
     "output_type": "stream",
     "text": [
      "{'max_depth': 7, 'max_features': 'sqrt'}\n",
      "The R square of Drcision Tree Regression model is: 0.6356336708099337\n",
      "The MAE of Decision Tree Regression model is: 0.4781991275352623\n"
     ]
    }
   ],
   "source": [
    "model = DecisionTreeRegressor(random_state = 0)\n",
    "params = {'max_features':['auto', 'sqrt'], \n",
    "          'max_depth':[i for i in range(3,10)]}\n",
    "grid = GridSearchCV(model,param_grid = params, cv = 5)\n",
    "grid.fit(X,y)\n",
    "print(grid.best_params_)\n",
    "\n",
    "y_pred = grid.predict(X)\n",
    "R2 = grid.score(X,y)\n",
    "MAE = mean_absolute_error(y, y_pred)\n",
    "print(\"The R square of Drcision Tree Regression model is:\", R2)\n",
    "print(\"The MAE of Decision Tree Regression model is:\", MAE)"
   ]
  },
  {
   "cell_type": "markdown",
   "metadata": {},
   "source": [
    "### word embedding"
   ]
  },
  {
   "cell_type": "code",
   "execution_count": 25,
   "metadata": {},
   "outputs": [
    {
     "name": "stderr",
     "output_type": "stream",
     "text": [
      "[nltk_data] Downloading package punkt to\n",
      "[nltk_data]     /Users/guandajiang/nltk_data...\n",
      "[nltk_data]   Package punkt is already up-to-date!\n"
     ]
    },
    {
     "data": {
      "text/plain": [
       "True"
      ]
     },
     "execution_count": 25,
     "metadata": {},
     "output_type": "execute_result"
    }
   ],
   "source": [
    "nltk.download('punkt')"
   ]
  },
  {
   "cell_type": "code",
   "execution_count": 26,
   "metadata": {},
   "outputs": [
    {
     "name": "stderr",
     "output_type": "stream",
     "text": [
      "[nltk_data] Downloading package wordnet to\n",
      "[nltk_data]     /Users/guandajiang/nltk_data...\n",
      "[nltk_data]   Package wordnet is already up-to-date!\n"
     ]
    },
    {
     "data": {
      "text/plain": [
       "True"
      ]
     },
     "execution_count": 26,
     "metadata": {},
     "output_type": "execute_result"
    }
   ],
   "source": [
    "stemmer = SnowballStemmer('english')\n",
    "nltk.download('wordnet')"
   ]
  },
  {
   "cell_type": "code",
   "execution_count": 27,
   "metadata": {},
   "outputs": [],
   "source": [
    "def lemmatize_stemming(text):\n",
    "    return stemmer.stem(WordNetLemmatizer().lemmatize(text, pos='v'))\n",
    "\n",
    "def preprocess(text):\n",
    "    result = []\n",
    "    for token in gensim.utils.simple_preprocess(text):\n",
    "        if token not in gensim.parsing.preprocessing.STOPWORDS:\n",
    "            result.append(lemmatize_stemming(token))\n",
    "    return result"
   ]
  },
  {
   "cell_type": "code",
   "execution_count": 28,
   "metadata": {},
   "outputs": [],
   "source": [
    "data = []\n",
    "for text in range(df_1200.shape[0]):\n",
    "    s = df_1200['reviewText'][text] \n",
    "\n",
    "    # Replaces escape character with space \n",
    "    f = s.replace(\"\\n\", \" \") \n",
    " \n",
    "\n",
    "    # iterate through each sentence in the file \n",
    "    for i in sent_tokenize(f): \n",
    "        temp = [] \n",
    "\n",
    "        # tokenize the sentence into words \n",
    "        for j in word_tokenize(i):\n",
    "            j = lemmatize_stemming(j)\n",
    "            temp.append(j.lower()) \n",
    "\n",
    "        data.append(temp)"
   ]
  },
  {
   "cell_type": "code",
   "execution_count": 29,
   "metadata": {},
   "outputs": [],
   "source": [
    "words = list(itertools.chain.from_iterable(data))"
   ]
  },
  {
   "cell_type": "code",
   "execution_count": 30,
   "metadata": {},
   "outputs": [
    {
     "data": {
      "text/plain": [
       "367781"
      ]
     },
     "execution_count": 30,
     "metadata": {},
     "output_type": "execute_result"
    }
   ],
   "source": [
    "len(words)"
   ]
  },
  {
   "cell_type": "code",
   "execution_count": 31,
   "metadata": {},
   "outputs": [],
   "source": [
    "model1 = gensim.models.Word2Vec(data,min_count = 1,size = 100, window = 5)"
   ]
  },
  {
   "cell_type": "code",
   "execution_count": 32,
   "metadata": {},
   "outputs": [],
   "source": [
    "category = ['color','size', 'qualiti','comfort','price','materi']\n",
    "similarity = defaultdict(list)\n",
    "for i in category:\n",
    "    for j in words:\n",
    "        similarity[i].append(model1.similarity(i,j))"
   ]
  },
  {
   "cell_type": "code",
   "execution_count": 33,
   "metadata": {},
   "outputs": [],
   "source": [
    "df_sim = pd.DataFrame(similarity)\n",
    "df_sim.index = words"
   ]
  },
  {
   "cell_type": "code",
   "execution_count": 34,
   "metadata": {},
   "outputs": [
    {
     "data": {
      "text/html": [
       "<div>\n",
       "<style scoped>\n",
       "    .dataframe tbody tr th:only-of-type {\n",
       "        vertical-align: middle;\n",
       "    }\n",
       "\n",
       "    .dataframe tbody tr th {\n",
       "        vertical-align: top;\n",
       "    }\n",
       "\n",
       "    .dataframe thead th {\n",
       "        text-align: right;\n",
       "    }\n",
       "</style>\n",
       "<table border=\"1\" class=\"dataframe\">\n",
       "  <thead>\n",
       "    <tr style=\"text-align: right;\">\n",
       "      <th></th>\n",
       "      <th>color</th>\n",
       "      <th>size</th>\n",
       "      <th>qualiti</th>\n",
       "      <th>comfort</th>\n",
       "      <th>price</th>\n",
       "      <th>materi</th>\n",
       "    </tr>\n",
       "  </thead>\n",
       "  <tbody>\n",
       "    <tr>\n",
       "      <th>good</th>\n",
       "      <td>0.130726</td>\n",
       "      <td>-0.021617</td>\n",
       "      <td>0.601772</td>\n",
       "      <td>0.666703</td>\n",
       "      <td>0.558682</td>\n",
       "      <td>0.599255</td>\n",
       "    </tr>\n",
       "    <tr>\n",
       "      <th>price</th>\n",
       "      <td>0.417415</td>\n",
       "      <td>0.114226</td>\n",
       "      <td>0.829234</td>\n",
       "      <td>0.381946</td>\n",
       "      <td>1.000000</td>\n",
       "      <td>0.568117</td>\n",
       "    </tr>\n",
       "    <tr>\n",
       "      <th>.</th>\n",
       "      <td>0.142069</td>\n",
       "      <td>0.141743</td>\n",
       "      <td>0.233047</td>\n",
       "      <td>0.223263</td>\n",
       "      <td>0.136451</td>\n",
       "      <td>0.306145</td>\n",
       "    </tr>\n",
       "    <tr>\n",
       "      <th>comfort</th>\n",
       "      <td>0.335236</td>\n",
       "      <td>0.063729</td>\n",
       "      <td>0.543135</td>\n",
       "      <td>1.000000</td>\n",
       "      <td>0.381946</td>\n",
       "      <td>0.692009</td>\n",
       "    </tr>\n",
       "    <tr>\n",
       "      <th>.</th>\n",
       "      <td>0.142069</td>\n",
       "      <td>0.141743</td>\n",
       "      <td>0.233047</td>\n",
       "      <td>0.223263</td>\n",
       "      <td>0.136451</td>\n",
       "      <td>0.306145</td>\n",
       "    </tr>\n",
       "    <tr>\n",
       "      <th>...</th>\n",
       "      <td>...</td>\n",
       "      <td>...</td>\n",
       "      <td>...</td>\n",
       "      <td>...</td>\n",
       "      <td>...</td>\n",
       "      <td>...</td>\n",
       "    </tr>\n",
       "    <tr>\n",
       "      <th>all</th>\n",
       "      <td>0.178531</td>\n",
       "      <td>-0.092414</td>\n",
       "      <td>0.237093</td>\n",
       "      <td>0.220900</td>\n",
       "      <td>0.381846</td>\n",
       "      <td>0.236102</td>\n",
       "    </tr>\n",
       "    <tr>\n",
       "      <th>around</th>\n",
       "      <td>-0.126808</td>\n",
       "      <td>-0.010855</td>\n",
       "      <td>-0.060926</td>\n",
       "      <td>0.023871</td>\n",
       "      <td>-0.026496</td>\n",
       "      <td>0.168089</td>\n",
       "    </tr>\n",
       "    <tr>\n",
       "      <th>great</th>\n",
       "      <td>0.238396</td>\n",
       "      <td>-0.080696</td>\n",
       "      <td>0.526650</td>\n",
       "      <td>0.633136</td>\n",
       "      <td>0.482651</td>\n",
       "      <td>0.482689</td>\n",
       "    </tr>\n",
       "    <tr>\n",
       "      <th>hoodi</th>\n",
       "      <td>0.415866</td>\n",
       "      <td>0.244018</td>\n",
       "      <td>0.455760</td>\n",
       "      <td>0.229640</td>\n",
       "      <td>0.459177</td>\n",
       "      <td>0.405164</td>\n",
       "    </tr>\n",
       "    <tr>\n",
       "      <th>.</th>\n",
       "      <td>0.142069</td>\n",
       "      <td>0.141743</td>\n",
       "      <td>0.233047</td>\n",
       "      <td>0.223263</td>\n",
       "      <td>0.136451</td>\n",
       "      <td>0.306145</td>\n",
       "    </tr>\n",
       "  </tbody>\n",
       "</table>\n",
       "<p>367781 rows × 6 columns</p>\n",
       "</div>"
      ],
      "text/plain": [
       "            color      size   qualiti   comfort     price    materi\n",
       "good     0.130726 -0.021617  0.601772  0.666703  0.558682  0.599255\n",
       "price    0.417415  0.114226  0.829234  0.381946  1.000000  0.568117\n",
       ".        0.142069  0.141743  0.233047  0.223263  0.136451  0.306145\n",
       "comfort  0.335236  0.063729  0.543135  1.000000  0.381946  0.692009\n",
       ".        0.142069  0.141743  0.233047  0.223263  0.136451  0.306145\n",
       "...           ...       ...       ...       ...       ...       ...\n",
       "all      0.178531 -0.092414  0.237093  0.220900  0.381846  0.236102\n",
       "around  -0.126808 -0.010855 -0.060926  0.023871 -0.026496  0.168089\n",
       "great    0.238396 -0.080696  0.526650  0.633136  0.482651  0.482689\n",
       "hoodi    0.415866  0.244018  0.455760  0.229640  0.459177  0.405164\n",
       ".        0.142069  0.141743  0.233047  0.223263  0.136451  0.306145\n",
       "\n",
       "[367781 rows x 6 columns]"
      ]
     },
     "execution_count": 34,
     "metadata": {},
     "output_type": "execute_result"
    }
   ],
   "source": [
    "df_sim"
   ]
  },
  {
   "cell_type": "code",
   "execution_count": 35,
   "metadata": {},
   "outputs": [],
   "source": [
    "list_words = []\n",
    "for i in category:\n",
    "    similar_words = df_sim[i].loc[df_sim[i]>0.6].index\n",
    "    similar_words = np.unique(similar_words)\n",
    "    list_words.append(similar_words)"
   ]
  },
  {
   "cell_type": "code",
   "execution_count": 36,
   "metadata": {},
   "outputs": [],
   "source": [
    "color_words = list_words[0]\n",
    "size_words = list_words[1]\n",
    "quality_words = list_words[2]\n",
    "comfort_words = list_words[3]\n",
    "price_words = list_words[4]\n",
    "material_words = list_words[5]"
   ]
  },
  {
   "cell_type": "code",
   "execution_count": 37,
   "metadata": {},
   "outputs": [],
   "source": [
    "f = open(\"positive_words.txt\", \"r\")\n",
    "pos = f.read().split('\\n')"
   ]
  },
  {
   "cell_type": "code",
   "execution_count": 38,
   "metadata": {},
   "outputs": [],
   "source": [
    "f = open(\"negative_words.txt\", \"r\")\n",
    "neg = f.read().split('\\n')"
   ]
  },
  {
   "cell_type": "code",
   "execution_count": 39,
   "metadata": {},
   "outputs": [],
   "source": [
    "# create a list of globally defined positive and negative words to identify sentiment\n",
    "# sentiment score based on the laxicon neg, pos words\n",
    "def feature_sentiment(sentence, pos, neg):\n",
    "    '''\n",
    "    input: dictionary and sentence\n",
    "    function: appends dictionary with new features if the feature\n",
    "              did not exist previously,then updates sentiment to\n",
    "              each of the new or existing features\n",
    "    output: updated dictionary\n",
    "    '''\n",
    "    sent_dict = dict()\n",
    "    nlp = en_core_web_sm.load()\n",
    "    sentence = nlp(sentence)\n",
    "    opinion_words = neg + pos\n",
    "    debug = 0\n",
    "    \n",
    "    for token in sentence:\n",
    "        # check if the word is an opinion word, then assign sentiment\n",
    "        if token.text in opinion_words:\n",
    "            sentiment = 1 if token.text in pos else -1\n",
    "            # if target is an adverb modifier (i.e. pretty, highly, etc.)\n",
    "            # but happens to be an opinion word, ignore and pass\n",
    "            if (token.dep_ == \"advmod\"):\n",
    "                continue\n",
    "            elif (token.dep_ == \"amod\"):\n",
    "                sent_dict[token.head.text] = sentiment\n",
    "                \n",
    "            # for opinion words that are adjectives, adverbs, verbs...\n",
    "            else:\n",
    "                for child in token.children:\n",
    "                    # if there's a adj modifier (i.e. very, pretty, etc.) add more weight to sentiment\n",
    "                    # This could be better updated for modifiers that either positively or negatively emphasize\n",
    "                    #if ((child.dep_ == \"amod\") or (child.dep_ == \"advmod\")) and (child.text in opinion_words):\n",
    "                        #sentiment *= 1.5\n",
    "                    # check for negation words and flip the sign of sentiment\n",
    "                    if child.dep_ == \"neg\":\n",
    "                        sentiment *= -1\n",
    "                for child in token.children:\n",
    "                    # if verb, check if there's a direct object\n",
    "                    if (token.pos_ == \"VERB\") & (child.dep_ == \"dobj\"):                        \n",
    "                        sent_dict[child.text] = sentiment\n",
    "                        # check for conjugates (a AND b), then add both to dictionary\n",
    "                        subchildren = []\n",
    "                        conj = 0\n",
    "                        for subchild in child.children:\n",
    "                            if subchild.text == \"and\":\n",
    "                                conj=1\n",
    "                            if (conj == 1) and (subchild.text != \"and\"):\n",
    "                                subchildren.append(subchild.text)\n",
    "                                conj = 0\n",
    "                        for subchild in subchildren:\n",
    "                            sent_dict[subchild] = sentiment\n",
    "\n",
    "                # check for negation\n",
    "                for child in token.head.children:\n",
    "                    noun = \"\"\n",
    "                    #if ((child.dep_ == \"amod\") or (child.dep_ == \"advmod\")) and (child.text in opinion_words):\n",
    "                        #sentiment *= 1.5\n",
    "                    # check for negation words and flip the sign of sentiment\n",
    "                    if (child.dep_ == \"neg\"): \n",
    "                        sentiment *= -1\n",
    "                \n",
    "                # check for nouns\n",
    "                for child in token.head.children:\n",
    "                    noun = \"\"\n",
    "                    if (child.pos_ == \"NOUN\") and (child.text not in sent_dict):\n",
    "                        noun = child.text\n",
    "                        # Check for compound nouns\n",
    "                        for subchild in child.children:\n",
    "                            if subchild.dep_ == \"compound\":\n",
    "                                noun = subchild.text + \" \" + noun\n",
    "                        sent_dict[noun] = sentiment\n",
    "                    debug += 1\n",
    "    return sent_dict"
   ]
  },
  {
   "cell_type": "code",
   "execution_count": 49,
   "metadata": {},
   "outputs": [],
   "source": [
    "df_1200['reviewText'] = df_1200['reviewText'].str.lower()"
   ]
  },
  {
   "cell_type": "code",
   "execution_count": 50,
   "metadata": {},
   "outputs": [],
   "source": [
    "sentiment = []\n",
    "for i in df_1200['reviewText']:\n",
    "    sentiment.append(feature_sentiment(i, pos, neg))"
   ]
  },
  {
   "cell_type": "code",
   "execution_count": 51,
   "metadata": {
    "scrolled": true
   },
   "outputs": [],
   "source": [
    "overall_rating = []\n",
    "\n",
    "for i in range(df_1200.shape[0]):\n",
    "    sentiment_dict = {}\n",
    "    \n",
    "    if len(sentiment[i].keys()) != 0:\n",
    "        \n",
    "        for key in sentiment[i].keys():\n",
    "            root = preprocess(key)\n",
    "            \n",
    "            if root in color_words:\n",
    "                sentiment_dict['color'] = sentiment[i][key]\n",
    "                \n",
    "            if root in size_words:\n",
    "                sentiment_dict['size'] = sentiment[i][key]\n",
    "\n",
    "            if root in quality_words:\n",
    "                sentiment_dict['qualiti'] = sentiment[i][key]\n",
    "\n",
    "            if root in comfort_words:\n",
    "                sentiment_dict['comfort'] = sentiment[i][key]\n",
    "\n",
    "            if root in price_words:\n",
    "                sentiment_dict['price'] = sentiment[i][key]\n",
    "\n",
    "            if root in material_words:\n",
    "                sentiment_dict['materi'] = sentiment[i][key]\n",
    "\n",
    "            else:\n",
    "                sentiment_dict['NA'] = 0  \n",
    "        \n",
    "    else:\n",
    "        sentiment_dict['NA'] = 0\n",
    "    \n",
    "    overall_rating.append(sentiment_dict)"
   ]
  },
  {
   "cell_type": "code",
   "execution_count": 52,
   "metadata": {},
   "outputs": [
    {
     "data": {
      "text/html": [
       "<div>\n",
       "<style scoped>\n",
       "    .dataframe tbody tr th:only-of-type {\n",
       "        vertical-align: middle;\n",
       "    }\n",
       "\n",
       "    .dataframe tbody tr th {\n",
       "        vertical-align: top;\n",
       "    }\n",
       "\n",
       "    .dataframe thead th {\n",
       "        text-align: right;\n",
       "    }\n",
       "</style>\n",
       "<table border=\"1\" class=\"dataframe\">\n",
       "  <thead>\n",
       "    <tr style=\"text-align: right;\">\n",
       "      <th></th>\n",
       "      <th>color</th>\n",
       "      <th>comfort</th>\n",
       "      <th>materi</th>\n",
       "      <th>qualiti</th>\n",
       "      <th>price</th>\n",
       "      <th>size</th>\n",
       "    </tr>\n",
       "  </thead>\n",
       "  <tbody>\n",
       "    <tr>\n",
       "      <th>0</th>\n",
       "      <td>1.0</td>\n",
       "      <td>0.0</td>\n",
       "      <td>0.0</td>\n",
       "      <td>0.0</td>\n",
       "      <td>0.0</td>\n",
       "      <td>0.0</td>\n",
       "    </tr>\n",
       "    <tr>\n",
       "      <th>1</th>\n",
       "      <td>0.0</td>\n",
       "      <td>1.0</td>\n",
       "      <td>1.0</td>\n",
       "      <td>0.0</td>\n",
       "      <td>0.0</td>\n",
       "      <td>0.0</td>\n",
       "    </tr>\n",
       "    <tr>\n",
       "      <th>2</th>\n",
       "      <td>1.0</td>\n",
       "      <td>1.0</td>\n",
       "      <td>1.0</td>\n",
       "      <td>1.0</td>\n",
       "      <td>0.0</td>\n",
       "      <td>0.0</td>\n",
       "    </tr>\n",
       "    <tr>\n",
       "      <th>3</th>\n",
       "      <td>0.0</td>\n",
       "      <td>0.0</td>\n",
       "      <td>0.0</td>\n",
       "      <td>0.0</td>\n",
       "      <td>0.0</td>\n",
       "      <td>0.0</td>\n",
       "    </tr>\n",
       "    <tr>\n",
       "      <th>4</th>\n",
       "      <td>0.0</td>\n",
       "      <td>1.0</td>\n",
       "      <td>1.0</td>\n",
       "      <td>0.0</td>\n",
       "      <td>0.0</td>\n",
       "      <td>0.0</td>\n",
       "    </tr>\n",
       "    <tr>\n",
       "      <th>...</th>\n",
       "      <td>...</td>\n",
       "      <td>...</td>\n",
       "      <td>...</td>\n",
       "      <td>...</td>\n",
       "      <td>...</td>\n",
       "      <td>...</td>\n",
       "    </tr>\n",
       "    <tr>\n",
       "      <th>1186</th>\n",
       "      <td>0.0</td>\n",
       "      <td>0.0</td>\n",
       "      <td>0.0</td>\n",
       "      <td>1.0</td>\n",
       "      <td>1.0</td>\n",
       "      <td>0.0</td>\n",
       "    </tr>\n",
       "    <tr>\n",
       "      <th>1187</th>\n",
       "      <td>0.0</td>\n",
       "      <td>0.0</td>\n",
       "      <td>0.0</td>\n",
       "      <td>1.0</td>\n",
       "      <td>1.0</td>\n",
       "      <td>0.0</td>\n",
       "    </tr>\n",
       "    <tr>\n",
       "      <th>1188</th>\n",
       "      <td>0.0</td>\n",
       "      <td>0.0</td>\n",
       "      <td>0.0</td>\n",
       "      <td>0.0</td>\n",
       "      <td>0.0</td>\n",
       "      <td>0.0</td>\n",
       "    </tr>\n",
       "    <tr>\n",
       "      <th>1189</th>\n",
       "      <td>0.0</td>\n",
       "      <td>0.0</td>\n",
       "      <td>0.0</td>\n",
       "      <td>0.0</td>\n",
       "      <td>0.0</td>\n",
       "      <td>0.0</td>\n",
       "    </tr>\n",
       "    <tr>\n",
       "      <th>1190</th>\n",
       "      <td>0.0</td>\n",
       "      <td>0.0</td>\n",
       "      <td>0.0</td>\n",
       "      <td>0.0</td>\n",
       "      <td>0.0</td>\n",
       "      <td>0.0</td>\n",
       "    </tr>\n",
       "  </tbody>\n",
       "</table>\n",
       "<p>1191 rows × 6 columns</p>\n",
       "</div>"
      ],
      "text/plain": [
       "      color  comfort  materi  qualiti  price  size\n",
       "0       1.0      0.0     0.0      0.0    0.0   0.0\n",
       "1       0.0      1.0     1.0      0.0    0.0   0.0\n",
       "2       1.0      1.0     1.0      1.0    0.0   0.0\n",
       "3       0.0      0.0     0.0      0.0    0.0   0.0\n",
       "4       0.0      1.0     1.0      0.0    0.0   0.0\n",
       "...     ...      ...     ...      ...    ...   ...\n",
       "1186    0.0      0.0     0.0      1.0    1.0   0.0\n",
       "1187    0.0      0.0     0.0      1.0    1.0   0.0\n",
       "1188    0.0      0.0     0.0      0.0    0.0   0.0\n",
       "1189    0.0      0.0     0.0      0.0    0.0   0.0\n",
       "1190    0.0      0.0     0.0      0.0    0.0   0.0\n",
       "\n",
       "[1191 rows x 6 columns]"
      ]
     },
     "execution_count": 52,
     "metadata": {},
     "output_type": "execute_result"
    }
   ],
   "source": [
    "rate_by_machine = pd.DataFrame(overall_rating)\n",
    "rate_by_machine = rate_by_machine.drop(columns = 'NA')\n",
    "rate_by_machine = rate_by_machine.fillna(0)\n",
    "rate_by_machine"
   ]
  },
  {
   "cell_type": "markdown",
   "metadata": {},
   "source": [
    "### Evaluation"
   ]
  },
  {
   "cell_type": "code",
   "execution_count": 96,
   "metadata": {},
   "outputs": [],
   "source": [
    "def evaluate(y_true, y_pred, metric, average):\n",
    "    result = defaultdict(list)\n",
    "    for i in category:\n",
    "        result[i].append(metric(y_true[i],y_pred[i], average = average))\n",
    "    \n",
    "    df_result = pd.DataFrame(result)\n",
    "    \n",
    "    return df_result"
   ]
  },
  {
   "cell_type": "code",
   "execution_count": 77,
   "metadata": {},
   "outputs": [],
   "source": [
    "# random\n",
    "random_dict = {}\n",
    "for i in category:\n",
    "    weight = df_1200[i].value_counts(normalize = True)\n",
    "    random_score = random.choices([0,1,-1],\n",
    "                                  weights = [weight.iloc[0],weight.iloc[1],weight.iloc[2]],k=df_1200.shape[0])\n",
    "    random_dict[i] = random_score\n",
    "    \n",
    "df_random = pd.DataFrame(random_dict)"
   ]
  },
  {
   "cell_type": "markdown",
   "metadata": {},
   "source": [
    "**Precision**"
   ]
  },
  {
   "cell_type": "code",
   "execution_count": 97,
   "metadata": {},
   "outputs": [
    {
     "data": {
      "text/html": [
       "<div>\n",
       "<style scoped>\n",
       "    .dataframe tbody tr th:only-of-type {\n",
       "        vertical-align: middle;\n",
       "    }\n",
       "\n",
       "    .dataframe tbody tr th {\n",
       "        vertical-align: top;\n",
       "    }\n",
       "\n",
       "    .dataframe thead th {\n",
       "        text-align: right;\n",
       "    }\n",
       "</style>\n",
       "<table border=\"1\" class=\"dataframe\">\n",
       "  <thead>\n",
       "    <tr style=\"text-align: right;\">\n",
       "      <th></th>\n",
       "      <th>Prediction</th>\n",
       "      <th>Random</th>\n",
       "      <th>difference</th>\n",
       "    </tr>\n",
       "  </thead>\n",
       "  <tbody>\n",
       "    <tr>\n",
       "      <th>color</th>\n",
       "      <td>0.891080</td>\n",
       "      <td>0.717179</td>\n",
       "      <td>0.173901</td>\n",
       "    </tr>\n",
       "    <tr>\n",
       "      <th>size</th>\n",
       "      <td>0.543663</td>\n",
       "      <td>0.362626</td>\n",
       "      <td>0.181037</td>\n",
       "    </tr>\n",
       "    <tr>\n",
       "      <th>qualiti</th>\n",
       "      <td>0.752166</td>\n",
       "      <td>0.633160</td>\n",
       "      <td>0.119007</td>\n",
       "    </tr>\n",
       "    <tr>\n",
       "      <th>comfort</th>\n",
       "      <td>0.658023</td>\n",
       "      <td>0.546517</td>\n",
       "      <td>0.111506</td>\n",
       "    </tr>\n",
       "    <tr>\n",
       "      <th>price</th>\n",
       "      <td>0.795687</td>\n",
       "      <td>0.668947</td>\n",
       "      <td>0.126740</td>\n",
       "    </tr>\n",
       "    <tr>\n",
       "      <th>materi</th>\n",
       "      <td>0.680011</td>\n",
       "      <td>0.585982</td>\n",
       "      <td>0.094029</td>\n",
       "    </tr>\n",
       "  </tbody>\n",
       "</table>\n",
       "</div>"
      ],
      "text/plain": [
       "         Prediction    Random  difference\n",
       "color      0.891080  0.717179    0.173901\n",
       "size       0.543663  0.362626    0.181037\n",
       "qualiti    0.752166  0.633160    0.119007\n",
       "comfort    0.658023  0.546517    0.111506\n",
       "price      0.795687  0.668947    0.126740\n",
       "materi     0.680011  0.585982    0.094029"
      ]
     },
     "execution_count": 97,
     "metadata": {},
     "output_type": "execute_result"
    }
   ],
   "source": [
    "prec = pd.concat([evaluate(X,rate_by_machine,precision_score, 'weighted'),\n",
    "           evaluate(X,df_random,precision_score, 'weighted')]).T\n",
    "prec.columns = ['Prediction','Random']\n",
    "prec['difference'] = prec['Prediction'] - prec['Random']\n",
    "prec"
   ]
  },
  {
   "cell_type": "markdown",
   "metadata": {},
   "source": [
    "**Recall**"
   ]
  },
  {
   "cell_type": "code",
   "execution_count": 87,
   "metadata": {},
   "outputs": [
    {
     "data": {
      "text/html": [
       "<div>\n",
       "<style scoped>\n",
       "    .dataframe tbody tr th:only-of-type {\n",
       "        vertical-align: middle;\n",
       "    }\n",
       "\n",
       "    .dataframe tbody tr th {\n",
       "        vertical-align: top;\n",
       "    }\n",
       "\n",
       "    .dataframe thead th {\n",
       "        text-align: right;\n",
       "    }\n",
       "</style>\n",
       "<table border=\"1\" class=\"dataframe\">\n",
       "  <thead>\n",
       "    <tr style=\"text-align: right;\">\n",
       "      <th></th>\n",
       "      <th>Prediction</th>\n",
       "      <th>Random</th>\n",
       "      <th>difference</th>\n",
       "    </tr>\n",
       "  </thead>\n",
       "  <tbody>\n",
       "    <tr>\n",
       "      <th>color</th>\n",
       "      <td>0.901763</td>\n",
       "      <td>0.717179</td>\n",
       "      <td>0.184585</td>\n",
       "    </tr>\n",
       "    <tr>\n",
       "      <th>size</th>\n",
       "      <td>0.473552</td>\n",
       "      <td>0.362626</td>\n",
       "      <td>0.110926</td>\n",
       "    </tr>\n",
       "    <tr>\n",
       "      <th>qualiti</th>\n",
       "      <td>0.731318</td>\n",
       "      <td>0.633160</td>\n",
       "      <td>0.098159</td>\n",
       "    </tr>\n",
       "    <tr>\n",
       "      <th>comfort</th>\n",
       "      <td>0.680940</td>\n",
       "      <td>0.546517</td>\n",
       "      <td>0.134423</td>\n",
       "    </tr>\n",
       "    <tr>\n",
       "      <th>price</th>\n",
       "      <td>0.790092</td>\n",
       "      <td>0.668947</td>\n",
       "      <td>0.121145</td>\n",
       "    </tr>\n",
       "    <tr>\n",
       "      <th>materi</th>\n",
       "      <td>0.671704</td>\n",
       "      <td>0.585982</td>\n",
       "      <td>0.085722</td>\n",
       "    </tr>\n",
       "  </tbody>\n",
       "</table>\n",
       "</div>"
      ],
      "text/plain": [
       "         Prediction    Random  difference\n",
       "color      0.901763  0.717179    0.184585\n",
       "size       0.473552  0.362626    0.110926\n",
       "qualiti    0.731318  0.633160    0.098159\n",
       "comfort    0.680940  0.546517    0.134423\n",
       "price      0.790092  0.668947    0.121145\n",
       "materi     0.671704  0.585982    0.085722"
      ]
     },
     "execution_count": 87,
     "metadata": {},
     "output_type": "execute_result"
    }
   ],
   "source": [
    "recall = pd.concat([evaluate(X,rate_by_machine,recall_score, 'weighted'),\n",
    "           evaluate(X,df_random,precision_score, 'weighted')]).T\n",
    "recall.columns = ['Prediction','Random']\n",
    "recall['difference'] = recall['Prediction'] - recall['Random']\n",
    "recall"
   ]
  },
  {
   "cell_type": "markdown",
   "metadata": {},
   "source": [
    "**F1 score**"
   ]
  },
  {
   "cell_type": "code",
   "execution_count": 88,
   "metadata": {},
   "outputs": [
    {
     "data": {
      "text/html": [
       "<div>\n",
       "<style scoped>\n",
       "    .dataframe tbody tr th:only-of-type {\n",
       "        vertical-align: middle;\n",
       "    }\n",
       "\n",
       "    .dataframe tbody tr th {\n",
       "        vertical-align: top;\n",
       "    }\n",
       "\n",
       "    .dataframe thead th {\n",
       "        text-align: right;\n",
       "    }\n",
       "</style>\n",
       "<table border=\"1\" class=\"dataframe\">\n",
       "  <thead>\n",
       "    <tr style=\"text-align: right;\">\n",
       "      <th></th>\n",
       "      <th>Prediction</th>\n",
       "      <th>Random</th>\n",
       "      <th>difference</th>\n",
       "    </tr>\n",
       "  </thead>\n",
       "  <tbody>\n",
       "    <tr>\n",
       "      <th>color</th>\n",
       "      <td>0.890934</td>\n",
       "      <td>0.717179</td>\n",
       "      <td>0.173755</td>\n",
       "    </tr>\n",
       "    <tr>\n",
       "      <th>size</th>\n",
       "      <td>0.349154</td>\n",
       "      <td>0.362626</td>\n",
       "      <td>-0.013472</td>\n",
       "    </tr>\n",
       "    <tr>\n",
       "      <th>qualiti</th>\n",
       "      <td>0.733985</td>\n",
       "      <td>0.633160</td>\n",
       "      <td>0.100825</td>\n",
       "    </tr>\n",
       "    <tr>\n",
       "      <th>comfort</th>\n",
       "      <td>0.643395</td>\n",
       "      <td>0.546517</td>\n",
       "      <td>0.096878</td>\n",
       "    </tr>\n",
       "    <tr>\n",
       "      <th>price</th>\n",
       "      <td>0.792785</td>\n",
       "      <td>0.668947</td>\n",
       "      <td>0.123838</td>\n",
       "    </tr>\n",
       "    <tr>\n",
       "      <th>materi</th>\n",
       "      <td>0.669538</td>\n",
       "      <td>0.585982</td>\n",
       "      <td>0.083556</td>\n",
       "    </tr>\n",
       "  </tbody>\n",
       "</table>\n",
       "</div>"
      ],
      "text/plain": [
       "         Prediction    Random  difference\n",
       "color      0.890934  0.717179    0.173755\n",
       "size       0.349154  0.362626   -0.013472\n",
       "qualiti    0.733985  0.633160    0.100825\n",
       "comfort    0.643395  0.546517    0.096878\n",
       "price      0.792785  0.668947    0.123838\n",
       "materi     0.669538  0.585982    0.083556"
      ]
     },
     "execution_count": 88,
     "metadata": {},
     "output_type": "execute_result"
    }
   ],
   "source": [
    "f1 = pd.concat([evaluate(X,rate_by_machine,f1_score, 'weighted'),\n",
    "           evaluate(X,df_random,precision_score, 'weighted')]).T\n",
    "f1.columns = ['Prediction','Random']\n",
    "f1['difference'] = f1['Prediction'] - f1['Random']\n",
    "f1"
   ]
  },
  {
   "cell_type": "markdown",
   "metadata": {},
   "source": [
    "**Accuracy Score**"
   ]
  },
  {
   "cell_type": "code",
   "execution_count": 98,
   "metadata": {},
   "outputs": [],
   "source": [
    "accuracy_random = defaultdict(list)\n",
    "accuracy_machine = defaultdict(list)\n",
    "\n",
    "for i in category:\n",
    "    accuracy_random[i].append(accuracy_score(df_1200[i],df_random[i]))\n",
    "    accuracy_machine[i].append(accuracy_score(df_1200[i],rate_by_machine[i]))"
   ]
  },
  {
   "cell_type": "code",
   "execution_count": 100,
   "metadata": {},
   "outputs": [
    {
     "data": {
      "text/html": [
       "<div>\n",
       "<style scoped>\n",
       "    .dataframe tbody tr th:only-of-type {\n",
       "        vertical-align: middle;\n",
       "    }\n",
       "\n",
       "    .dataframe tbody tr th {\n",
       "        vertical-align: top;\n",
       "    }\n",
       "\n",
       "    .dataframe thead th {\n",
       "        text-align: right;\n",
       "    }\n",
       "</style>\n",
       "<table border=\"1\" class=\"dataframe\">\n",
       "  <thead>\n",
       "    <tr style=\"text-align: right;\">\n",
       "      <th></th>\n",
       "      <th>Prediction</th>\n",
       "      <th>Random</th>\n",
       "      <th>difference</th>\n",
       "    </tr>\n",
       "  </thead>\n",
       "  <tbody>\n",
       "    <tr>\n",
       "      <th>color</th>\n",
       "      <td>0.901763</td>\n",
       "      <td>0.703610</td>\n",
       "      <td>0.198153</td>\n",
       "    </tr>\n",
       "    <tr>\n",
       "      <th>size</th>\n",
       "      <td>0.473552</td>\n",
       "      <td>0.362720</td>\n",
       "      <td>0.110831</td>\n",
       "    </tr>\n",
       "    <tr>\n",
       "      <th>qualiti</th>\n",
       "      <td>0.731318</td>\n",
       "      <td>0.628883</td>\n",
       "      <td>0.102435</td>\n",
       "    </tr>\n",
       "    <tr>\n",
       "      <th>comfort</th>\n",
       "      <td>0.680940</td>\n",
       "      <td>0.539043</td>\n",
       "      <td>0.141898</td>\n",
       "    </tr>\n",
       "    <tr>\n",
       "      <th>price</th>\n",
       "      <td>0.790092</td>\n",
       "      <td>0.652393</td>\n",
       "      <td>0.137699</td>\n",
       "    </tr>\n",
       "    <tr>\n",
       "      <th>materi</th>\n",
       "      <td>0.671704</td>\n",
       "      <td>0.593619</td>\n",
       "      <td>0.078086</td>\n",
       "    </tr>\n",
       "  </tbody>\n",
       "</table>\n",
       "</div>"
      ],
      "text/plain": [
       "         Prediction    Random  difference\n",
       "color      0.901763  0.703610    0.198153\n",
       "size       0.473552  0.362720    0.110831\n",
       "qualiti    0.731318  0.628883    0.102435\n",
       "comfort    0.680940  0.539043    0.141898\n",
       "price      0.790092  0.652393    0.137699\n",
       "materi     0.671704  0.593619    0.078086"
      ]
     },
     "execution_count": 100,
     "metadata": {},
     "output_type": "execute_result"
    }
   ],
   "source": [
    "acc = pd.concat([pd.DataFrame(accuracy_machine),\n",
    "                 pd.DataFrame(accuracy_random)]).T\n",
    "acc.columns = ['Prediction','Random']\n",
    "acc['difference'] = acc['Prediction'] - acc['Random']\n",
    "acc"
   ]
  },
  {
   "cell_type": "markdown",
   "metadata": {},
   "source": [
    "### Significant Test"
   ]
  },
  {
   "cell_type": "code",
   "execution_count": 117,
   "metadata": {},
   "outputs": [
    {
     "data": {
      "text/plain": [
       "Ttest_relResult(statistic=7.549701268243345, pvalue=0.0006460959427428329)"
      ]
     },
     "execution_count": 117,
     "metadata": {},
     "output_type": "execute_result"
    }
   ],
   "source": [
    "# using accuracy score as the skill estimate\n",
    "stats.ttest_rel(acc['Prediction'],acc['Random'])"
   ]
  },
  {
   "cell_type": "code",
   "execution_count": 119,
   "metadata": {},
   "outputs": [
    {
     "data": {
      "text/plain": [
       "Ttest_relResult(statistic=8.60613949743275, pvalue=0.0003494649511813355)"
      ]
     },
     "execution_count": 119,
     "metadata": {},
     "output_type": "execute_result"
    }
   ],
   "source": [
    "# using recall score as the skill estimate\n",
    "stats.ttest_rel(recall['Prediction'],recall['Random'])"
   ]
  },
  {
   "cell_type": "code",
   "execution_count": 120,
   "metadata": {},
   "outputs": [
    {
     "data": {
      "text/plain": [
       "Ttest_relResult(statistic=3.7477640831721537, pvalue=0.013324396849565445)"
      ]
     },
     "execution_count": 120,
     "metadata": {},
     "output_type": "execute_result"
    }
   ],
   "source": [
    "# using f1 score as the skill estimate\n",
    "stats.ttest_rel(f1['Prediction'],f1['Random'])"
   ]
  },
  {
   "cell_type": "markdown",
   "metadata": {},
   "source": [
    "**P-value is really small for metrics accuracy score, precision score and recall score,\\\n",
    "and relatively small for the f1 score, but all of them are lower than the threshold 0.05,\\\n",
    "therefore, we can reject the null hypothesis that there is no significant difference between trained model and random model.**"
   ]
  }
 ],
 "metadata": {
  "kernelspec": {
   "display_name": "Python 3",
   "language": "python",
   "name": "python3"
  },
  "language_info": {
   "codemirror_mode": {
    "name": "ipython",
    "version": 3
   },
   "file_extension": ".py",
   "mimetype": "text/x-python",
   "name": "python",
   "nbconvert_exporter": "python",
   "pygments_lexer": "ipython3",
   "version": "3.7.6"
  }
 },
 "nbformat": 4,
 "nbformat_minor": 4
}
