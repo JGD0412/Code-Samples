{
 "cells": [
  {
   "cell_type": "code",
   "execution_count": 15,
   "metadata": {},
   "outputs": [],
   "source": [
    "import pandas as pd\n",
    "from sklearn.model_selection import train_test_split"
   ]
  },
  {
   "cell_type": "code",
   "execution_count": 2,
   "metadata": {},
   "outputs": [],
   "source": [
    "# get metadata\n",
    "data = pd.read_json('meta_Clothing_Shoes_and_Jewelry.json', lines = True, chunksize = 10000)"
   ]
  },
  {
   "cell_type": "code",
   "execution_count": 3,
   "metadata": {},
   "outputs": [],
   "source": [
    "# filter all product with keyword 'shirt' in its title\n",
    "shirt_meta = pd.DataFrame()\n",
    "for chunk in data:\n",
    "    chunk = chunk.loc[chunk['title'].str.contains('shirt')]\n",
    "    shirt_meta = pd.concat([shirt_meta, chunk])"
   ]
  },
  {
   "cell_type": "code",
   "execution_count": 4,
   "metadata": {},
   "outputs": [],
   "source": [
    "# get shirt product asin\n",
    "shirt_asin = set(shirt_meta['asin'])"
   ]
  },
  {
   "cell_type": "code",
   "execution_count": 5,
   "metadata": {},
   "outputs": [],
   "source": [
    "# get review data\n",
    "data = pd.read_json('Clothing_Shoes_and_Jewelry.json', lines = True, chunksize = 10000)\n",
    "shirt_review = pd.DataFrame()"
   ]
  },
  {
   "cell_type": "code",
   "execution_count": 6,
   "metadata": {},
   "outputs": [],
   "source": [
    "for chunk in data:\n",
    "    chunk = chunk[chunk['asin'].isin(shirt_asin)]\n",
    "    shirt_review = pd.concat([shirt_review, chunk])"
   ]
  },
  {
   "cell_type": "code",
   "execution_count": null,
   "metadata": {},
   "outputs": [],
   "source": [
    "#shirt_review.to_csv('shirt_review.csv')"
   ]
  },
  {
   "cell_type": "code",
   "execution_count": 7,
   "metadata": {},
   "outputs": [],
   "source": [
    "shirt_asin_final = ['B000BRETA4', 'B009OCZ84I', 'B001OQ67XI', \n",
    "                    'B000BRFH1E', 'B00DIX5SVM', 'B009LJW5HM', \n",
    "                    'B004IZVE6W', 'B00KC3DANE', 'B008FV74N2']"
   ]
  },
  {
   "cell_type": "code",
   "execution_count": null,
   "metadata": {},
   "outputs": [],
   "source": [
    "#shirt_meta[shirt_meta['asin'].isin(shirt_asin_final)].to_csv('shirt_meta.csv')"
   ]
  },
  {
   "cell_type": "code",
   "execution_count": 3,
   "metadata": {},
   "outputs": [],
   "source": [
    "df = pd.read_csv('data/shirt_review.csv')"
   ]
  },
  {
   "cell_type": "code",
   "execution_count": 4,
   "metadata": {},
   "outputs": [],
   "source": [
    "top_review = pd.DataFrame(df['asin'].value_counts()).head(10)"
   ]
  },
  {
   "cell_type": "code",
   "execution_count": 5,
   "metadata": {},
   "outputs": [
    {
     "data": {
      "text/plain": [
       "asin    28816\n",
       "dtype: int64"
      ]
     },
     "execution_count": 5,
     "metadata": {},
     "output_type": "execute_result"
    }
   ],
   "source": [
    "top_review[:9].sum() # check number of reviews in top reviewed items"
   ]
  },
  {
   "cell_type": "code",
   "execution_count": 6,
   "metadata": {},
   "outputs": [
    {
     "data": {
      "text/plain": [
       "Index(['B000BRETA4', 'B009OCZ84I', 'B001OQ67XI', 'B000BRFH1E', 'B00DIX5SVM',\n",
       "       'B009LJW5HM', 'B004IZVE6W', 'B00KC3DANE', 'B008FV74N2', 'B0002FHJ66'],\n",
       "      dtype='object')"
      ]
     },
     "execution_count": 6,
     "metadata": {},
     "output_type": "execute_result"
    }
   ],
   "source": [
    "top_review.index # check the isin of top reviewed products"
   ]
  },
  {
   "cell_type": "code",
   "execution_count": 7,
   "metadata": {},
   "outputs": [],
   "source": [
    "meta = pd.read_csv('data/shirt_meta.csv')"
   ]
  },
  {
   "cell_type": "code",
   "execution_count": 8,
   "metadata": {},
   "outputs": [
    {
     "data": {
      "text/html": [
       "<div>\n",
       "<style scoped>\n",
       "    .dataframe tbody tr th:only-of-type {\n",
       "        vertical-align: middle;\n",
       "    }\n",
       "\n",
       "    .dataframe tbody tr th {\n",
       "        vertical-align: top;\n",
       "    }\n",
       "\n",
       "    .dataframe thead th {\n",
       "        text-align: right;\n",
       "    }\n",
       "</style>\n",
       "<table border=\"1\" class=\"dataframe\">\n",
       "  <thead>\n",
       "    <tr style=\"text-align: right;\">\n",
       "      <th></th>\n",
       "      <th>title</th>\n",
       "    </tr>\n",
       "  </thead>\n",
       "  <tbody>\n",
       "    <tr>\n",
       "      <th>0</th>\n",
       "      <td>Hanes Men's Pullover EcoSmart Fleece Hooded Sw...</td>\n",
       "    </tr>\n",
       "    <tr>\n",
       "      <th>1</th>\n",
       "      <td>Hanes Men's Pullover EcoSmart Fleece Hooded Sw...</td>\n",
       "    </tr>\n",
       "    <tr>\n",
       "      <th>2</th>\n",
       "      <td>Gildan G185 Heavy Blend Adult Hooded Sweatshir...</td>\n",
       "    </tr>\n",
       "    <tr>\n",
       "      <th>3</th>\n",
       "      <td>Russell Athletic Men's Dri-Power Fleece Sweats...</td>\n",
       "    </tr>\n",
       "    <tr>\n",
       "      <th>4</th>\n",
       "      <td>Hanes Women's Wear Around Nightshirt</td>\n",
       "    </tr>\n",
       "    <tr>\n",
       "      <th>5</th>\n",
       "      <td>Gildan G185 Heavy Blend Adult Hooded Sweatshirt</td>\n",
       "    </tr>\n",
       "    <tr>\n",
       "      <th>6</th>\n",
       "      <td>Gildan G185 Heavy Blend Adult Hooded Sweatshirt</td>\n",
       "    </tr>\n",
       "    <tr>\n",
       "      <th>7</th>\n",
       "      <td>Vobaga Women's Bird Heart Geometric Print Shor...</td>\n",
       "    </tr>\n",
       "    <tr>\n",
       "      <th>8</th>\n",
       "      <td>Dream USA Men's Casual 3/4 Sleeve Baseball Tsh...</td>\n",
       "    </tr>\n",
       "  </tbody>\n",
       "</table>\n",
       "</div>"
      ],
      "text/plain": [
       "                                               title\n",
       "0  Hanes Men's Pullover EcoSmart Fleece Hooded Sw...\n",
       "1  Hanes Men's Pullover EcoSmart Fleece Hooded Sw...\n",
       "2  Gildan G185 Heavy Blend Adult Hooded Sweatshir...\n",
       "3  Russell Athletic Men's Dri-Power Fleece Sweats...\n",
       "4               Hanes Women's Wear Around Nightshirt\n",
       "5    Gildan G185 Heavy Blend Adult Hooded Sweatshirt\n",
       "6    Gildan G185 Heavy Blend Adult Hooded Sweatshirt\n",
       "7  Vobaga Women's Bird Heart Geometric Print Shor...\n",
       "8  Dream USA Men's Casual 3/4 Sleeve Baseball Tsh..."
      ]
     },
     "execution_count": 8,
     "metadata": {},
     "output_type": "execute_result"
    }
   ],
   "source": [
    "title = pd.DataFrame(meta['title'])\n",
    "title  # check if the top reviewed products are sweatshirt"
   ]
  },
  {
   "cell_type": "code",
   "execution_count": 9,
   "metadata": {},
   "outputs": [],
   "source": [
    "# 4 is Hanes Women's Wear Around Nightshirt\n",
    "# 7 Vobaga Women's Bird Heart Geometric Print Shor..\n",
    "# 8 Dream USA Men's Casual 3/4 Sleeve Baseball Tsh..."
   ]
  },
  {
   "cell_type": "code",
   "execution_count": 10,
   "metadata": {},
   "outputs": [],
   "source": [
    "# choose sweatshirts\n",
    "asin = ['B000BRETA4', 'B009OCZ84I', 'B001OQ67XI', 'B000BRFH1E','B009LJW5HM', 'B004IZVE6W']\n",
    "sweatshirt = df[df['asin'].isin (asin)]\n",
    "#sweatshirt.to_csv('sweatshirt.csv')"
   ]
  },
  {
   "cell_type": "code",
   "execution_count": 11,
   "metadata": {},
   "outputs": [
    {
     "data": {
      "text/plain": [
       "asin\n",
       "B000BRETA4    4.389073\n",
       "B000BRFH1E    4.396355\n",
       "B001OQ67XI    4.413759\n",
       "B004IZVE6W    4.255738\n",
       "B009LJW5HM    4.407365\n",
       "B009OCZ84I    4.418659\n",
       "Name: overall, dtype: float64"
      ]
     },
     "execution_count": 11,
     "metadata": {},
     "output_type": "execute_result"
    }
   ],
   "source": [
    "sweatshirt = sweatshirt[['overall','vote','asin','style','reviewText']]\n",
    "sweatshirt.index = range(0,sweatshirt.shape[0])\n",
    "sweatshirt.groupby('asin')['overall'].mean()  # check average rating of each products"
   ]
  },
  {
   "cell_type": "code",
   "execution_count": 12,
   "metadata": {},
   "outputs": [
    {
     "data": {
      "text/plain": [
       "(21507, 3)"
      ]
     },
     "execution_count": 12,
     "metadata": {},
     "output_type": "execute_result"
    }
   ],
   "source": [
    "X = sweatshirt[['overall','asin','reviewText']]\n",
    "X = X.dropna()\n",
    "X.shape   # there are 21507 reviews"
   ]
  },
  {
   "cell_type": "code",
   "execution_count": 13,
   "metadata": {},
   "outputs": [],
   "source": [
    "df_X = pd.DataFrame(X)\n",
    "\n",
    "# filter reviews with more than 100 characters\n",
    "len_100 = []\n",
    "for i in range(df_X.shape[0]):\n",
    "    if len(df_X['reviewText'].iloc[i])>100:\n",
    "        len_100.append(i)\n",
    "    else:\n",
    "        pass"
   ]
  },
  {
   "cell_type": "code",
   "execution_count": 14,
   "metadata": {},
   "outputs": [],
   "source": [
    "#df_X.iloc[len_100].to_csv('sweatshirt_100words.csv')"
   ]
  },
  {
   "cell_type": "code",
   "execution_count": 16,
   "metadata": {},
   "outputs": [],
   "source": [
    "insample,outsample = train_test_split(df, train_size = 1200/df.shape[0],random_state=42)"
   ]
  },
  {
   "cell_type": "code",
   "execution_count": 17,
   "metadata": {},
   "outputs": [],
   "source": [
    "#insample.to_csv('sweatshirt_sample1200.csv')"
   ]
  },
  {
   "cell_type": "markdown",
   "metadata": {},
   "source": [
    "**This insample dataset is the dataset we used for manually label**"
   ]
  }
 ],
 "metadata": {
  "kernelspec": {
   "display_name": "Python 3",
   "language": "python",
   "name": "python3"
  },
  "language_info": {
   "codemirror_mode": {
    "name": "ipython",
    "version": 3
   },
   "file_extension": ".py",
   "mimetype": "text/x-python",
   "name": "python",
   "nbconvert_exporter": "python",
   "pygments_lexer": "ipython3",
   "version": "3.7.6"
  }
 },
 "nbformat": 4,
 "nbformat_minor": 4
}
