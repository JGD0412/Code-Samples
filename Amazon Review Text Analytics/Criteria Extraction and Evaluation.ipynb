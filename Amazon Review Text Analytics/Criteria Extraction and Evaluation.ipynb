{
 "cells": [
  {
   "cell_type": "code",
   "execution_count": 50,
   "metadata": {},
   "outputs": [],
   "source": [
    "import pandas as pd\n",
    "import numpy as np\n",
    "from sklearn.cluster import KMeans\n",
    "from sklearn.feature_extraction.text import TfidfVectorizer\n",
    "import re\n",
    "from collections import defaultdict\n",
    "from sklearn.linear_model import LinearRegression\n",
    "from sklearn.tree import DecisionTreeRegressor\n",
    "from sklearn.model_selection import GridSearchCV\n",
    "from sklearn.metrics import mean_absolute_error\n",
    "import matplotlib.pyplot as plt"
   ]
  },
  {
   "cell_type": "code",
   "execution_count": 5,
   "metadata": {},
   "outputs": [],
   "source": [
    "df = pd.read_csv('data/sweatshirt.csv')"
   ]
  },
  {
   "cell_type": "code",
   "execution_count": 3,
   "metadata": {},
   "outputs": [],
   "source": [
    "# with rate, vote, verified, asin, reviewText\n",
    "df = df.iloc[:, [2,3,4,7,10]]"
   ]
  },
  {
   "cell_type": "code",
   "execution_count": 4,
   "metadata": {},
   "outputs": [
    {
     "data": {
      "text/html": [
       "<div>\n",
       "<style scoped>\n",
       "    .dataframe tbody tr th:only-of-type {\n",
       "        vertical-align: middle;\n",
       "    }\n",
       "\n",
       "    .dataframe tbody tr th {\n",
       "        vertical-align: top;\n",
       "    }\n",
       "\n",
       "    .dataframe thead th {\n",
       "        text-align: right;\n",
       "    }\n",
       "</style>\n",
       "<table border=\"1\" class=\"dataframe\">\n",
       "  <thead>\n",
       "    <tr style=\"text-align: right;\">\n",
       "      <th></th>\n",
       "      <th>overall</th>\n",
       "      <th>verified</th>\n",
       "      <th>asin</th>\n",
       "      <th>reviewText</th>\n",
       "    </tr>\n",
       "  </thead>\n",
       "  <tbody>\n",
       "    <tr>\n",
       "      <th>0</th>\n",
       "      <td>4</td>\n",
       "      <td>True</td>\n",
       "      <td>B000BRFH1E</td>\n",
       "      <td>Good price.\\nComfortable.\\nArrived on time.\\nI...</td>\n",
       "    </tr>\n",
       "    <tr>\n",
       "      <th>1</th>\n",
       "      <td>4</td>\n",
       "      <td>True</td>\n",
       "      <td>B000BRFH1E</td>\n",
       "      <td>I bought the brown hoodie, thank goodness! It ...</td>\n",
       "    </tr>\n",
       "    <tr>\n",
       "      <th>2</th>\n",
       "      <td>2</td>\n",
       "      <td>True</td>\n",
       "      <td>B000BRFH1E</td>\n",
       "      <td>It was way to small to be a 4x. I gave a 3x in...</td>\n",
       "    </tr>\n",
       "    <tr>\n",
       "      <th>3</th>\n",
       "      <td>5</td>\n",
       "      <td>True</td>\n",
       "      <td>B000BRFH1E</td>\n",
       "      <td>This was Great for a cheeper hoodie. It is har...</td>\n",
       "    </tr>\n",
       "    <tr>\n",
       "      <th>4</th>\n",
       "      <td>3</td>\n",
       "      <td>True</td>\n",
       "      <td>B000BRFH1E</td>\n",
       "      <td>I think I was looking for something that had m...</td>\n",
       "    </tr>\n",
       "    <tr>\n",
       "      <th>...</th>\n",
       "      <td>...</td>\n",
       "      <td>...</td>\n",
       "      <td>...</td>\n",
       "      <td>...</td>\n",
       "    </tr>\n",
       "    <tr>\n",
       "      <th>21538</th>\n",
       "      <td>5</td>\n",
       "      <td>True</td>\n",
       "      <td>B009OCZ84I</td>\n",
       "      <td>Good for price. Doesn't shrink.. XL stays XL s...</td>\n",
       "    </tr>\n",
       "    <tr>\n",
       "      <th>21539</th>\n",
       "      <td>5</td>\n",
       "      <td>True</td>\n",
       "      <td>B009OCZ84I</td>\n",
       "      <td>The sweatshirt is great.  I purchased two  :)</td>\n",
       "    </tr>\n",
       "    <tr>\n",
       "      <th>21540</th>\n",
       "      <td>5</td>\n",
       "      <td>True</td>\n",
       "      <td>B009OCZ84I</td>\n",
       "      <td>Great product</td>\n",
       "    </tr>\n",
       "    <tr>\n",
       "      <th>21541</th>\n",
       "      <td>4</td>\n",
       "      <td>True</td>\n",
       "      <td>B009OCZ84I</td>\n",
       "      <td>My only issue is that its a little tight aroun...</td>\n",
       "    </tr>\n",
       "    <tr>\n",
       "      <th>21542</th>\n",
       "      <td>4</td>\n",
       "      <td>True</td>\n",
       "      <td>B009OCZ84I</td>\n",
       "      <td>Great sweater! very soft!</td>\n",
       "    </tr>\n",
       "  </tbody>\n",
       "</table>\n",
       "<p>21507 rows × 4 columns</p>\n",
       "</div>"
      ],
      "text/plain": [
       "       overall  verified        asin  \\\n",
       "0            4      True  B000BRFH1E   \n",
       "1            4      True  B000BRFH1E   \n",
       "2            2      True  B000BRFH1E   \n",
       "3            5      True  B000BRFH1E   \n",
       "4            3      True  B000BRFH1E   \n",
       "...        ...       ...         ...   \n",
       "21538        5      True  B009OCZ84I   \n",
       "21539        5      True  B009OCZ84I   \n",
       "21540        5      True  B009OCZ84I   \n",
       "21541        4      True  B009OCZ84I   \n",
       "21542        4      True  B009OCZ84I   \n",
       "\n",
       "                                              reviewText  \n",
       "0      Good price.\\nComfortable.\\nArrived on time.\\nI...  \n",
       "1      I bought the brown hoodie, thank goodness! It ...  \n",
       "2      It was way to small to be a 4x. I gave a 3x in...  \n",
       "3      This was Great for a cheeper hoodie. It is har...  \n",
       "4      I think I was looking for something that had m...  \n",
       "...                                                  ...  \n",
       "21538  Good for price. Doesn't shrink.. XL stays XL s...  \n",
       "21539      The sweatshirt is great.  I purchased two  :)  \n",
       "21540                                      Great product  \n",
       "21541  My only issue is that its a little tight aroun...  \n",
       "21542                          Great sweater! very soft!  \n",
       "\n",
       "[21507 rows x 4 columns]"
      ]
     },
     "execution_count": 4,
     "metadata": {},
     "output_type": "execute_result"
    }
   ],
   "source": [
    "df_exclude_vote = df.drop(['vote'], axis = 1)\n",
    "df_exclude_vote.dropna(inplace = True)\n",
    "df_exclude_vote"
   ]
  },
  {
   "cell_type": "code",
   "execution_count": 5,
   "metadata": {},
   "outputs": [],
   "source": [
    "# vectorize\n",
    "review = df_exclude_vote.iloc[:,3]\n",
    "vectorizer = TfidfVectorizer()\n",
    "review_vector = vectorizer.fit_transform(review).todense()"
   ]
  },
  {
   "cell_type": "code",
   "execution_count": 6,
   "metadata": {},
   "outputs": [],
   "source": [
    "#clustering\n",
    "KM = KMeans(n_clusters = 10, random_state = 42)\n",
    "c = KM.fit_predict(review_vector)\n",
    "c = pd.Series(c, name = 'cluster')"
   ]
  },
  {
   "cell_type": "code",
   "execution_count": 7,
   "metadata": {},
   "outputs": [],
   "source": [
    "# combine\n",
    "dfc = pd.DataFrame(review_vector)"
   ]
  },
  {
   "cell_type": "code",
   "execution_count": 8,
   "metadata": {},
   "outputs": [],
   "source": [
    "dfc = pd.concat([dfc,c],axis = 1)"
   ]
  },
  {
   "cell_type": "code",
   "execution_count": 9,
   "metadata": {},
   "outputs": [
    {
     "data": {
      "text/html": [
       "<div>\n",
       "<style scoped>\n",
       "    .dataframe tbody tr th:only-of-type {\n",
       "        vertical-align: middle;\n",
       "    }\n",
       "\n",
       "    .dataframe tbody tr th {\n",
       "        vertical-align: top;\n",
       "    }\n",
       "\n",
       "    .dataframe thead th {\n",
       "        text-align: right;\n",
       "    }\n",
       "</style>\n",
       "<table border=\"1\" class=\"dataframe\">\n",
       "  <thead>\n",
       "    <tr style=\"text-align: right;\">\n",
       "      <th></th>\n",
       "      <th>0</th>\n",
       "      <th>1</th>\n",
       "      <th>2</th>\n",
       "      <th>3</th>\n",
       "      <th>4</th>\n",
       "      <th>5</th>\n",
       "      <th>6</th>\n",
       "      <th>7</th>\n",
       "      <th>8</th>\n",
       "      <th>9</th>\n",
       "      <th>...</th>\n",
       "      <th>6013</th>\n",
       "      <th>6014</th>\n",
       "      <th>6015</th>\n",
       "      <th>6016</th>\n",
       "      <th>6017</th>\n",
       "      <th>6018</th>\n",
       "      <th>6019</th>\n",
       "      <th>6020</th>\n",
       "      <th>6021</th>\n",
       "      <th>cluster</th>\n",
       "    </tr>\n",
       "  </thead>\n",
       "  <tbody>\n",
       "    <tr>\n",
       "      <th>0</th>\n",
       "      <td>0.0</td>\n",
       "      <td>0.0</td>\n",
       "      <td>0.0</td>\n",
       "      <td>0.0</td>\n",
       "      <td>0.0</td>\n",
       "      <td>0.0</td>\n",
       "      <td>0.0</td>\n",
       "      <td>0.0</td>\n",
       "      <td>0.0</td>\n",
       "      <td>0.0</td>\n",
       "      <td>...</td>\n",
       "      <td>0.0</td>\n",
       "      <td>0.0</td>\n",
       "      <td>0.0</td>\n",
       "      <td>0.0</td>\n",
       "      <td>0.0</td>\n",
       "      <td>0.0</td>\n",
       "      <td>0.0</td>\n",
       "      <td>0.0</td>\n",
       "      <td>0.0</td>\n",
       "      <td>2</td>\n",
       "    </tr>\n",
       "    <tr>\n",
       "      <th>1</th>\n",
       "      <td>0.0</td>\n",
       "      <td>0.0</td>\n",
       "      <td>0.0</td>\n",
       "      <td>0.0</td>\n",
       "      <td>0.0</td>\n",
       "      <td>0.0</td>\n",
       "      <td>0.0</td>\n",
       "      <td>0.0</td>\n",
       "      <td>0.0</td>\n",
       "      <td>0.0</td>\n",
       "      <td>...</td>\n",
       "      <td>0.0</td>\n",
       "      <td>0.0</td>\n",
       "      <td>0.0</td>\n",
       "      <td>0.0</td>\n",
       "      <td>0.0</td>\n",
       "      <td>0.0</td>\n",
       "      <td>0.0</td>\n",
       "      <td>0.0</td>\n",
       "      <td>0.0</td>\n",
       "      <td>2</td>\n",
       "    </tr>\n",
       "    <tr>\n",
       "      <th>2</th>\n",
       "      <td>0.0</td>\n",
       "      <td>0.0</td>\n",
       "      <td>0.0</td>\n",
       "      <td>0.0</td>\n",
       "      <td>0.0</td>\n",
       "      <td>0.0</td>\n",
       "      <td>0.0</td>\n",
       "      <td>0.0</td>\n",
       "      <td>0.0</td>\n",
       "      <td>0.0</td>\n",
       "      <td>...</td>\n",
       "      <td>0.0</td>\n",
       "      <td>0.0</td>\n",
       "      <td>0.0</td>\n",
       "      <td>0.0</td>\n",
       "      <td>0.0</td>\n",
       "      <td>0.0</td>\n",
       "      <td>0.0</td>\n",
       "      <td>0.0</td>\n",
       "      <td>0.0</td>\n",
       "      <td>2</td>\n",
       "    </tr>\n",
       "    <tr>\n",
       "      <th>3</th>\n",
       "      <td>0.0</td>\n",
       "      <td>0.0</td>\n",
       "      <td>0.0</td>\n",
       "      <td>0.0</td>\n",
       "      <td>0.0</td>\n",
       "      <td>0.0</td>\n",
       "      <td>0.0</td>\n",
       "      <td>0.0</td>\n",
       "      <td>0.0</td>\n",
       "      <td>0.0</td>\n",
       "      <td>...</td>\n",
       "      <td>0.0</td>\n",
       "      <td>0.0</td>\n",
       "      <td>0.0</td>\n",
       "      <td>0.0</td>\n",
       "      <td>0.0</td>\n",
       "      <td>0.0</td>\n",
       "      <td>0.0</td>\n",
       "      <td>0.0</td>\n",
       "      <td>0.0</td>\n",
       "      <td>2</td>\n",
       "    </tr>\n",
       "    <tr>\n",
       "      <th>4</th>\n",
       "      <td>0.0</td>\n",
       "      <td>0.0</td>\n",
       "      <td>0.0</td>\n",
       "      <td>0.0</td>\n",
       "      <td>0.0</td>\n",
       "      <td>0.0</td>\n",
       "      <td>0.0</td>\n",
       "      <td>0.0</td>\n",
       "      <td>0.0</td>\n",
       "      <td>0.0</td>\n",
       "      <td>...</td>\n",
       "      <td>0.0</td>\n",
       "      <td>0.0</td>\n",
       "      <td>0.0</td>\n",
       "      <td>0.0</td>\n",
       "      <td>0.0</td>\n",
       "      <td>0.0</td>\n",
       "      <td>0.0</td>\n",
       "      <td>0.0</td>\n",
       "      <td>0.0</td>\n",
       "      <td>3</td>\n",
       "    </tr>\n",
       "    <tr>\n",
       "      <th>...</th>\n",
       "      <td>...</td>\n",
       "      <td>...</td>\n",
       "      <td>...</td>\n",
       "      <td>...</td>\n",
       "      <td>...</td>\n",
       "      <td>...</td>\n",
       "      <td>...</td>\n",
       "      <td>...</td>\n",
       "      <td>...</td>\n",
       "      <td>...</td>\n",
       "      <td>...</td>\n",
       "      <td>...</td>\n",
       "      <td>...</td>\n",
       "      <td>...</td>\n",
       "      <td>...</td>\n",
       "      <td>...</td>\n",
       "      <td>...</td>\n",
       "      <td>...</td>\n",
       "      <td>...</td>\n",
       "      <td>...</td>\n",
       "      <td>...</td>\n",
       "    </tr>\n",
       "    <tr>\n",
       "      <th>21502</th>\n",
       "      <td>0.0</td>\n",
       "      <td>0.0</td>\n",
       "      <td>0.0</td>\n",
       "      <td>0.0</td>\n",
       "      <td>0.0</td>\n",
       "      <td>0.0</td>\n",
       "      <td>0.0</td>\n",
       "      <td>0.0</td>\n",
       "      <td>0.0</td>\n",
       "      <td>0.0</td>\n",
       "      <td>...</td>\n",
       "      <td>0.0</td>\n",
       "      <td>0.0</td>\n",
       "      <td>0.0</td>\n",
       "      <td>0.0</td>\n",
       "      <td>0.0</td>\n",
       "      <td>0.0</td>\n",
       "      <td>0.0</td>\n",
       "      <td>0.0</td>\n",
       "      <td>0.0</td>\n",
       "      <td>8</td>\n",
       "    </tr>\n",
       "    <tr>\n",
       "      <th>21503</th>\n",
       "      <td>0.0</td>\n",
       "      <td>0.0</td>\n",
       "      <td>0.0</td>\n",
       "      <td>0.0</td>\n",
       "      <td>0.0</td>\n",
       "      <td>0.0</td>\n",
       "      <td>0.0</td>\n",
       "      <td>0.0</td>\n",
       "      <td>0.0</td>\n",
       "      <td>0.0</td>\n",
       "      <td>...</td>\n",
       "      <td>0.0</td>\n",
       "      <td>0.0</td>\n",
       "      <td>0.0</td>\n",
       "      <td>0.0</td>\n",
       "      <td>0.0</td>\n",
       "      <td>0.0</td>\n",
       "      <td>0.0</td>\n",
       "      <td>0.0</td>\n",
       "      <td>0.0</td>\n",
       "      <td>2</td>\n",
       "    </tr>\n",
       "    <tr>\n",
       "      <th>21504</th>\n",
       "      <td>0.0</td>\n",
       "      <td>0.0</td>\n",
       "      <td>0.0</td>\n",
       "      <td>0.0</td>\n",
       "      <td>0.0</td>\n",
       "      <td>0.0</td>\n",
       "      <td>0.0</td>\n",
       "      <td>0.0</td>\n",
       "      <td>0.0</td>\n",
       "      <td>0.0</td>\n",
       "      <td>...</td>\n",
       "      <td>0.0</td>\n",
       "      <td>0.0</td>\n",
       "      <td>0.0</td>\n",
       "      <td>0.0</td>\n",
       "      <td>0.0</td>\n",
       "      <td>0.0</td>\n",
       "      <td>0.0</td>\n",
       "      <td>0.0</td>\n",
       "      <td>0.0</td>\n",
       "      <td>7</td>\n",
       "    </tr>\n",
       "    <tr>\n",
       "      <th>21505</th>\n",
       "      <td>0.0</td>\n",
       "      <td>0.0</td>\n",
       "      <td>0.0</td>\n",
       "      <td>0.0</td>\n",
       "      <td>0.0</td>\n",
       "      <td>0.0</td>\n",
       "      <td>0.0</td>\n",
       "      <td>0.0</td>\n",
       "      <td>0.0</td>\n",
       "      <td>0.0</td>\n",
       "      <td>...</td>\n",
       "      <td>0.0</td>\n",
       "      <td>0.0</td>\n",
       "      <td>0.0</td>\n",
       "      <td>0.0</td>\n",
       "      <td>0.0</td>\n",
       "      <td>0.0</td>\n",
       "      <td>0.0</td>\n",
       "      <td>0.0</td>\n",
       "      <td>0.0</td>\n",
       "      <td>2</td>\n",
       "    </tr>\n",
       "    <tr>\n",
       "      <th>21506</th>\n",
       "      <td>0.0</td>\n",
       "      <td>0.0</td>\n",
       "      <td>0.0</td>\n",
       "      <td>0.0</td>\n",
       "      <td>0.0</td>\n",
       "      <td>0.0</td>\n",
       "      <td>0.0</td>\n",
       "      <td>0.0</td>\n",
       "      <td>0.0</td>\n",
       "      <td>0.0</td>\n",
       "      <td>...</td>\n",
       "      <td>0.0</td>\n",
       "      <td>0.0</td>\n",
       "      <td>0.0</td>\n",
       "      <td>0.0</td>\n",
       "      <td>0.0</td>\n",
       "      <td>0.0</td>\n",
       "      <td>0.0</td>\n",
       "      <td>0.0</td>\n",
       "      <td>0.0</td>\n",
       "      <td>4</td>\n",
       "    </tr>\n",
       "  </tbody>\n",
       "</table>\n",
       "<p>21507 rows × 6023 columns</p>\n",
       "</div>"
      ],
      "text/plain": [
       "         0    1    2    3    4    5    6    7    8    9  ...  6013  6014  \\\n",
       "0      0.0  0.0  0.0  0.0  0.0  0.0  0.0  0.0  0.0  0.0  ...   0.0   0.0   \n",
       "1      0.0  0.0  0.0  0.0  0.0  0.0  0.0  0.0  0.0  0.0  ...   0.0   0.0   \n",
       "2      0.0  0.0  0.0  0.0  0.0  0.0  0.0  0.0  0.0  0.0  ...   0.0   0.0   \n",
       "3      0.0  0.0  0.0  0.0  0.0  0.0  0.0  0.0  0.0  0.0  ...   0.0   0.0   \n",
       "4      0.0  0.0  0.0  0.0  0.0  0.0  0.0  0.0  0.0  0.0  ...   0.0   0.0   \n",
       "...    ...  ...  ...  ...  ...  ...  ...  ...  ...  ...  ...   ...   ...   \n",
       "21502  0.0  0.0  0.0  0.0  0.0  0.0  0.0  0.0  0.0  0.0  ...   0.0   0.0   \n",
       "21503  0.0  0.0  0.0  0.0  0.0  0.0  0.0  0.0  0.0  0.0  ...   0.0   0.0   \n",
       "21504  0.0  0.0  0.0  0.0  0.0  0.0  0.0  0.0  0.0  0.0  ...   0.0   0.0   \n",
       "21505  0.0  0.0  0.0  0.0  0.0  0.0  0.0  0.0  0.0  0.0  ...   0.0   0.0   \n",
       "21506  0.0  0.0  0.0  0.0  0.0  0.0  0.0  0.0  0.0  0.0  ...   0.0   0.0   \n",
       "\n",
       "       6015  6016  6017  6018  6019  6020  6021  cluster  \n",
       "0       0.0   0.0   0.0   0.0   0.0   0.0   0.0        2  \n",
       "1       0.0   0.0   0.0   0.0   0.0   0.0   0.0        2  \n",
       "2       0.0   0.0   0.0   0.0   0.0   0.0   0.0        2  \n",
       "3       0.0   0.0   0.0   0.0   0.0   0.0   0.0        2  \n",
       "4       0.0   0.0   0.0   0.0   0.0   0.0   0.0        3  \n",
       "...     ...   ...   ...   ...   ...   ...   ...      ...  \n",
       "21502   0.0   0.0   0.0   0.0   0.0   0.0   0.0        8  \n",
       "21503   0.0   0.0   0.0   0.0   0.0   0.0   0.0        2  \n",
       "21504   0.0   0.0   0.0   0.0   0.0   0.0   0.0        7  \n",
       "21505   0.0   0.0   0.0   0.0   0.0   0.0   0.0        2  \n",
       "21506   0.0   0.0   0.0   0.0   0.0   0.0   0.0        4  \n",
       "\n",
       "[21507 rows x 6023 columns]"
      ]
     },
     "execution_count": 9,
     "metadata": {},
     "output_type": "execute_result"
    }
   ],
   "source": [
    "dfc"
   ]
  },
  {
   "cell_type": "code",
   "execution_count": 10,
   "metadata": {},
   "outputs": [],
   "source": [
    "# devide each cluster\n",
    "cluster0_index = dfc.loc[dfc['cluster'] == 0].index\n",
    "cluster1_index = dfc.loc[dfc['cluster'] == 1].index\n",
    "cluster2_index = dfc.loc[dfc['cluster'] == 2].index\n",
    "cluster3_index = dfc.loc[dfc['cluster'] == 3].index\n",
    "cluster4_index = dfc.loc[dfc['cluster'] == 4].index\n",
    "cluster5_index = dfc.loc[dfc['cluster'] == 5].index\n",
    "cluster6_index = dfc.loc[dfc['cluster'] == 6].index\n",
    "cluster7_index = dfc.loc[dfc['cluster'] == 7].index\n",
    "cluster8_index = dfc.loc[dfc['cluster'] == 8].index\n",
    "cluster9_index = dfc.loc[dfc['cluster'] == 9].index"
   ]
  },
  {
   "cell_type": "code",
   "execution_count": 11,
   "metadata": {},
   "outputs": [],
   "source": [
    "cluster0 = review.iloc[cluster0_index].to_frame()\n",
    "cluster1 = review.iloc[cluster1_index].to_frame()\n",
    "cluster2 = review.iloc[cluster2_index].to_frame()\n",
    "cluster3 = review.iloc[cluster3_index].to_frame()\n",
    "cluster4 = review.iloc[cluster4_index].to_frame()\n",
    "cluster5 = review.iloc[cluster5_index].to_frame()\n",
    "cluster6 = review.iloc[cluster6_index].to_frame()\n",
    "cluster7 = review.iloc[cluster7_index].to_frame()\n",
    "cluster8 = review.iloc[cluster8_index].to_frame()\n",
    "cluster9 = review.iloc[cluster9_index].to_frame()"
   ]
  },
  {
   "cell_type": "code",
   "execution_count": 12,
   "metadata": {},
   "outputs": [],
   "source": [
    "cluster_list = [cluster0, cluster1, cluster2,\n",
    "                cluster3, cluster4, cluster5,\n",
    "                cluster6, cluster7, cluster8,\n",
    "                cluster9]"
   ]
  },
  {
   "cell_type": "code",
   "execution_count": 13,
   "metadata": {},
   "outputs": [
    {
     "data": {
      "text/plain": [
       "[[('so', 3.589938163962352),\n",
       "  ('complaints', 3.409811997731833),\n",
       "  ('white', 3.3357040255781114),\n",
       "  ('pictured', 3.315501318260592),\n",
       "  ('when', 3.1757393758854335),\n",
       "  ('bright', 3.141548011137154),\n",
       "  ('satisfied', 2.79077278932561),\n",
       "  ('perfect', 2.7221744729828576),\n",
       "  ('layering', 2.161769730371403),\n",
       "  ('cozy', 1.0)],\n",
       " [('wearing', 3.681021528714291),\n",
       "  ('feels', 3.6528506517475945),\n",
       "  ('its', 3.429707100433385),\n",
       "  ('winter', 3.3651685792958137),\n",
       "  ('soft', 3.211017899468555),\n",
       "  ('sweater', 3.002263085606445),\n",
       "  ('it', 2.9056362499173733),\n",
       "  ('house', 2.866921737736683),\n",
       "  ('im', 1.2935702150770034),\n",
       "  ('my', 1.0)],\n",
       " [('magnificently', 2.1023199717134684),\n",
       "  ('sowed', 2.0547874056976263),\n",
       "  ('attract', 1.9190213752716874),\n",
       "  ('sh', 1.8487922890464756),\n",
       "  ('carrying', 1.8103947149012902),\n",
       "  ('triple', 1.717197225975072),\n",
       "  ('paying', 1.591025249780086),\n",
       "  ('adorable', 1.5574755010983585),\n",
       "  ('feel', 1.3308007767546013),\n",
       "  ('cases', 1.046853979792511)],\n",
       " [('power', 2.3047834399980536),\n",
       "  ('area', 2.2738476397095404),\n",
       "  ('should', 2.2489500880878133),\n",
       "  ('terms', 2.1777738096199184),\n",
       "  ('fingertips', 2.1635622961589576),\n",
       "  ('cactus', 2.074514737089049),\n",
       "  ('3xlt', 2.0702210422143494),\n",
       "  ('lable', 1.965374797588686),\n",
       "  ('first', 1.55273385141045),\n",
       "  ('graveyard', 1.0106352553398312)],\n",
       " [('moved', 2.933505757971469),\n",
       "  ('only', 2.860123212037445),\n",
       "  ('wasn', 2.855417321000033),\n",
       "  ('without', 2.740245934777947),\n",
       "  ('washer', 2.625722506198601),\n",
       "  ('fuzz', 2.1459717587069678),\n",
       "  ('maybe', 2.0061094096848047),\n",
       "  ('daily', 1.5446765412483905),\n",
       "  ('brand', 1.4345174307026665),\n",
       "  ('hoodie', 1.403264887198562)],\n",
       " [('fix', 3.04154226908885),\n",
       "  ('decent', 2.9469836864638372),\n",
       "  ('buying', 2.874488184425684),\n",
       "  ('definitely', 2.8675195151095907),\n",
       "  ('that', 2.585059386638961),\n",
       "  ('seem', 2.386294361119891),\n",
       "  ('waiting', 2.261383711539275),\n",
       "  ('medium', 2.140239328180187),\n",
       "  ('if', 1.1767576648459053),\n",
       "  ('or', 1.165299869224524)],\n",
       " [('loose', 3.927315273087849),\n",
       "  ('white', 3.8059544160835816),\n",
       "  ('days', 3.7237163178466095),\n",
       "  ('once', 3.672423023459059),\n",
       "  ('tad', 3.5111548758629367),\n",
       "  ('just', 3.1128072355236363),\n",
       "  ('shown', 3.0045936508834035),\n",
       "  ('and', 2.5655119319762543),\n",
       "  ('snug', 1.8398415597107487),\n",
       "  ('recommend', 1.0)],\n",
       " [('need', 3.4237811012466692),\n",
       "  ('recommend', 3.3676916345956256),\n",
       "  ('else', 3.2890485072765125),\n",
       "  ('hoody', 3.15551711465199),\n",
       "  ('me', 3.15551711465199),\n",
       "  ('product', 3.0709597266239266),\n",
       "  ('you', 2.9501781879712867),\n",
       "  ('what', 2.8317300375580925),\n",
       "  ('impressed', 2.419197762226836),\n",
       "  ('pick', 1.0)],\n",
       " [('ridiculously', 3.1240730646167587),\n",
       "  ('stated', 3.105168909977606),\n",
       "  ('cleaned', 3.0422703095542865),\n",
       "  ('dead', 3.028300350114086),\n",
       "  ('please', 2.9240965725840833),\n",
       "  ('mix', 2.872334638025494),\n",
       "  ('unbelievably', 2.8297338111357986),\n",
       "  ('budget', 2.8044633976395383),\n",
       "  ('none', 2.7288382247594094),\n",
       "  ('wardrobe', 2.224718842273502)],\n",
       " [('shiry', 3.4087452888224363),\n",
       "  ('like', 3.3955000620724154),\n",
       "  ('confortable', 3.2044448253097064),\n",
       "  ('highly', 3.2044448253097064),\n",
       "  ('fast', 3.1412659236881746),\n",
       "  ('itd', 3.0818425032173744),\n",
       "  ('inexpensive', 2.889951495407269),\n",
       "  ('yup', 2.6448290373742838),\n",
       "  ('working', 2.337161672542246),\n",
       "  ('loose', 1.0)]]"
      ]
     },
     "execution_count": 13,
     "metadata": {},
     "output_type": "execute_result"
    }
   ],
   "source": [
    "def features_idf(cluster):\n",
    "    vectorizer.fit(cluster)\n",
    "    dct = {}\n",
    "    for a, b in zip(vectorizer.vocabulary_,vectorizer.idf_):\n",
    "        dct[a] = b\n",
    "    result = sorted(dct.items(), reverse = True, key = lambda item: item[1])\n",
    "    return result\n",
    "result_list = []\n",
    "for cluster in cluster_list:\n",
    "#     result_list.append(features_idf(cluster['reviewText'])[0:10])\n",
    "    result_list.append(features_idf(cluster['reviewText'])[-10:])\n",
    "result_list"
   ]
  },
  {
   "cell_type": "markdown",
   "metadata": {},
   "source": [
    "# LDA topic model"
   ]
  },
  {
   "cell_type": "code",
   "execution_count": 172,
   "metadata": {},
   "outputs": [
    {
     "name": "stderr",
     "output_type": "stream",
     "text": [
      "[nltk_data] Downloading package wordnet to\n",
      "[nltk_data]     /Users/chenstar/nltk_data...\n",
      "[nltk_data]   Package wordnet is already up-to-date!\n"
     ]
    },
    {
     "data": {
      "text/plain": [
       "True"
      ]
     },
     "execution_count": 172,
     "metadata": {},
     "output_type": "execute_result"
    }
   ],
   "source": [
    "import gensim\n",
    "from gensim.utils import simple_preprocess\n",
    "from gensim.parsing.preprocessing import STOPWORDS\n",
    "from nltk.stem import WordNetLemmatizer, SnowballStemmer\n",
    "stemmer = SnowballStemmer('english')\n",
    "\n",
    "import nltk\n",
    "nltk.download('wordnet')"
   ]
  },
  {
   "cell_type": "markdown",
   "metadata": {},
   "source": [
    "## Tokenization: Split the text into sentences and the sentences into words. Lowercase the words and remove punctuation.\n",
    "## Words that have fewer than 3 characters are removed. \n",
    "## All stopwords are removed. \n",
    "## Words are lemmatized — words in third person are changed to first person and verbs in past and future tenses are changed into present. \n",
    "## Words are stemmed — words are reduced to their root form."
   ]
  },
  {
   "cell_type": "code",
   "execution_count": 257,
   "metadata": {},
   "outputs": [],
   "source": [
    "# preprocessing function\n",
    "def lemmatize_stemming(text):\n",
    "    return stemmer.stem(WordNetLemmatizer().lemmatize(text, pos='v'))\n",
    "\n",
    "\n",
    "def preprocess(text, min_token_size):\n",
    "    result = []\n",
    "    for token in gensim.utils.simple_preprocess(text):\n",
    "        if token not in gensim.parsing.preprocessing.STOPWORDS and len(token) > min_token_size:\n",
    "            result.append(lemmatize_stemming(token))\n",
    "    return result"
   ]
  },
  {
   "cell_type": "code",
   "execution_count": 270,
   "metadata": {},
   "outputs": [],
   "source": [
    "def to_topic(cluster, size, num_of_topics):\n",
    "    cluster_processed = cluster['reviewText'].apply(preprocess, args = (size,)) # preprocess\n",
    "    dct_cluster = gensim.corpora.Dictionary(cluster_processed) # words dictionary\n",
    "    bow_corpus_cluster = [dct_cluster.doc2bow(doc) for doc in cluster_processed] # bag of words corpus\n",
    "    lda_model = gensim.models.LdaMulticore(bow_corpus_cluster, num_topics=num_of_topics, id2word=dct_cluster, passes=2)\n",
    "    return lda_model.print_topics()"
   ]
  },
  {
   "cell_type": "code",
   "execution_count": 278,
   "metadata": {},
   "outputs": [
    {
     "data": {
      "text/plain": [
       "[[(0,\n",
       "   '0.407*\"good\" + 0.106*\"qualiti\" + 0.058*\"price\" + 0.036*\"product\" + 0.034*\"fit\" + 0.024*\"great\" + 0.019*\"look\" + 0.016*\"hoodi\" + 0.014*\"materi\" + 0.013*\"valu\"')],\n",
       " [(0,\n",
       "   '0.433*\"love\" + 0.061*\"great\" + 0.043*\"fit\" + 0.035*\"hoodi\" + 0.034*\"sweatshirt\" + 0.030*\"color\" + 0.026*\"warm\" + 0.022*\"comfi\" + 0.020*\"soft\" + 0.015*\"perfect\"')],\n",
       " [(0,\n",
       "   '0.028*\"hoodi\" + 0.024*\"size\" + 0.020*\"sweatshirt\" + 0.018*\"like\" + 0.018*\"color\" + 0.016*\"order\" + 0.015*\"wear\" + 0.015*\"price\" + 0.015*\"good\" + 0.015*\"great\"')],\n",
       " [(0,\n",
       "   '0.033*\"love\" + 0.030*\"like\" + 0.025*\"fit\" + 0.020*\"wear\" + 0.020*\"size\" + 0.018*\"hoodi\" + 0.018*\"order\" + 0.017*\"perfect\" + 0.016*\"great\" + 0.016*\"buy\"')],\n",
       " [(0,\n",
       "   '0.128*\"comfort\" + 0.080*\"warm\" + 0.069*\"soft\" + 0.038*\"great\" + 0.032*\"fit\" + 0.029*\"hoodi\" + 0.023*\"nice\" + 0.023*\"love\" + 0.022*\"perfect\" + 0.020*\"comfi\"')],\n",
       " [(0,\n",
       "   '0.186*\"expect\" + 0.065*\"fit\" + 0.036*\"great\" + 0.032*\"good\" + 0.026*\"exact\" + 0.024*\"qualiti\" + 0.021*\"soft\" + 0.018*\"hoodi\" + 0.018*\"comfort\" + 0.018*\"price\"')],\n",
       " [(0,\n",
       "   '0.407*\"perfect\" + 0.053*\"great\" + 0.048*\"fit\" + 0.026*\"price\" + 0.022*\"good\" + 0.021*\"qualiti\" + 0.021*\"color\" + 0.020*\"comfort\" + 0.018*\"hoodi\" + 0.017*\"love\"')],\n",
       " [(0,\n",
       "   '0.433*\"great\" + 0.090*\"price\" + 0.042*\"qualiti\" + 0.038*\"fit\" + 0.036*\"sweatshirt\" + 0.035*\"product\" + 0.033*\"hoodi\" + 0.013*\"valu\" + 0.012*\"look\" + 0.011*\"color\"')],\n",
       " [(0,\n",
       "   '0.032*\"great\" + 0.023*\"good\" + 0.021*\"fit\" + 0.021*\"size\" + 0.021*\"hoodi\" + 0.020*\"order\" + 0.019*\"sweatshirt\" + 0.017*\"qualiti\" + 0.016*\"small\" + 0.015*\"perfect\"')],\n",
       " [(0,\n",
       "   '0.335*\"nice\" + 0.046*\"qualiti\" + 0.038*\"hoodi\" + 0.035*\"sweatshirt\" + 0.033*\"price\" + 0.028*\"great\" + 0.027*\"good\" + 0.027*\"warm\" + 0.022*\"color\" + 0.020*\"fit\"')]]"
      ]
     },
     "execution_count": 278,
     "metadata": {},
     "output_type": "execute_result"
    }
   ],
   "source": [
    "clusters_topic_list = []\n",
    "for cluster in cluster_list:\n",
    "    clusters_topic_list.append(to_topic(cluster,3,1))\n",
    "clusters_topic_list"
   ]
  },
  {
   "cell_type": "code",
   "execution_count": 282,
   "metadata": {},
   "outputs": [
    {
     "data": {
      "text/plain": [
       "[(0,\n",
       "  '0.063*\"comfort\" + 0.057*\"soft\" + 0.048*\"warm\" + 0.029*\"like\" + 0.024*\"buy\" + 0.023*\"fit\" + 0.022*\"insid\" + 0.020*\"size\" + 0.017*\"wash\" + 0.017*\"great\"'),\n",
       " (1,\n",
       "  '0.058*\"size\" + 0.055*\"perfect\" + 0.046*\"order\" + 0.037*\"small\" + 0.028*\"hoodi\" + 0.027*\"larg\" + 0.022*\"littl\" + 0.021*\"great\" + 0.020*\"fit\" + 0.019*\"qualiti\"'),\n",
       " (2,\n",
       "  '0.040*\"wear\" + 0.038*\"size\" + 0.034*\"buy\" + 0.033*\"medium\" + 0.032*\"like\" + 0.022*\"fit\" + 0.020*\"larg\" + 0.019*\"small\" + 0.014*\"hoodi\" + 0.011*\"good\"'),\n",
       " (3,\n",
       "  '0.152*\"great\" + 0.035*\"hoodi\" + 0.028*\"price\" + 0.027*\"wash\" + 0.025*\"comfort\" + 0.021*\"heavi\" + 0.021*\"look\" + 0.020*\"sweatshirt\" + 0.016*\"fast\" + 0.015*\"fit\"'),\n",
       " (4,\n",
       "  '0.089*\"love\" + 0.051*\"nice\" + 0.041*\"hoodi\" + 0.027*\"great\" + 0.027*\"wash\" + 0.022*\"excel\" + 0.021*\"good\" + 0.017*\"qualiti\" + 0.014*\"perfect\" + 0.014*\"expect\"'),\n",
       " (5,\n",
       "  '0.048*\"sweatshirt\" + 0.044*\"nice\" + 0.026*\"like\" + 0.025*\"expect\" + 0.024*\"fit\" + 0.022*\"hoodi\" + 0.022*\"price\" + 0.022*\"good\" + 0.016*\"love\" + 0.016*\"wear\"'),\n",
       " (6,\n",
       "  '0.099*\"good\" + 0.055*\"color\" + 0.046*\"qualiti\" + 0.028*\"fit\" + 0.025*\"nice\" + 0.025*\"love\" + 0.020*\"price\" + 0.020*\"sweatshirt\" + 0.018*\"great\" + 0.016*\"hoodi\"'),\n",
       " (7,\n",
       "  '0.027*\"hoodi\" + 0.024*\"like\" + 0.023*\"comfi\" + 0.023*\"fit\" + 0.021*\"great\" + 0.019*\"want\" + 0.019*\"small\" + 0.016*\"buy\" + 0.016*\"size\" + 0.015*\"warm\"'),\n",
       " (8,\n",
       "  '0.068*\"great\" + 0.033*\"love\" + 0.028*\"sweatshirt\" + 0.028*\"order\" + 0.027*\"expect\" + 0.026*\"warm\" + 0.020*\"product\" + 0.020*\"exact\" + 0.018*\"size\" + 0.017*\"color\"'),\n",
       " (9,\n",
       "  '0.044*\"hoodi\" + 0.034*\"price\" + 0.031*\"sweatshirt\" + 0.029*\"great\" + 0.025*\"qualiti\" + 0.020*\"size\" + 0.019*\"heavi\" + 0.016*\"soft\" + 0.016*\"gildan\" + 0.014*\"sweater\"')]"
      ]
     },
     "execution_count": 282,
     "metadata": {},
     "output_type": "execute_result"
    }
   ],
   "source": [
    "to_topic(review.to_frame(),3,10)"
   ]
  },
  {
   "cell_type": "code",
   "execution_count": null,
   "metadata": {},
   "outputs": [],
   "source": [
    "# predictors = ['color', 'size', 'qualiti', 'comfi/comfort', 'price', 'materi']"
   ]
  },
  {
   "cell_type": "markdown",
   "metadata": {},
   "source": [
    "# TF-IDF with Kmeans Clustering"
   ]
  },
  {
   "cell_type": "code",
   "execution_count": 6,
   "metadata": {},
   "outputs": [],
   "source": [
    "X = df[['overall','asin','reviewText']]\n",
    "X = X.dropna()"
   ]
  },
  {
   "cell_type": "code",
   "execution_count": 7,
   "metadata": {},
   "outputs": [],
   "source": [
    "vectorizer = TfidfVectorizer(stop_words = 'english')\n",
    "X_vector = vectorizer.fit_transform(X['reviewText'])"
   ]
  },
  {
   "cell_type": "code",
   "execution_count": 22,
   "metadata": {},
   "outputs": [],
   "source": [
    "X_vector = X_vector.toarray()"
   ]
  },
  {
   "cell_type": "code",
   "execution_count": 23,
   "metadata": {},
   "outputs": [],
   "source": [
    "kmeans = KMeans(n_clusters=10, random_state=0).fit(X_vector)"
   ]
  },
  {
   "cell_type": "code",
   "execution_count": 24,
   "metadata": {},
   "outputs": [],
   "source": [
    "label = kmeans.labels_\n",
    "df1 = pd.DataFrame(X_vector)\n",
    "df1['label'] = label"
   ]
  },
  {
   "cell_type": "code",
   "execution_count": 25,
   "metadata": {},
   "outputs": [],
   "source": [
    "df_feature = pd.DataFrame(vectorizer.get_feature_names())"
   ]
  },
  {
   "cell_type": "code",
   "execution_count": 26,
   "metadata": {},
   "outputs": [],
   "source": [
    "list1 = []\n",
    "for i in range(0,10):\n",
    "    list1.append(df1[df1['label']==i])  # separate each label"
   ]
  },
  {
   "cell_type": "code",
   "execution_count": 27,
   "metadata": {},
   "outputs": [],
   "source": [
    "features = defaultdict(list)\n",
    "for i in range(0,10):\n",
    "    temp = list1[i].drop(columns=['label'])\n",
    "    temp = pd.DataFrame({'tfidf':temp.max()})\n",
    "    temp = temp.sort_values(by='tfidf',ascending=False)\n",
    "    max_tfidf = temp[temp['tfidf']==temp['tfidf'].max()]\n",
    "    for j in max_tfidf.index:\n",
    "        features[i].append(df_feature.iloc[j][0])"
   ]
  },
  {
   "cell_type": "code",
   "execution_count": 28,
   "metadata": {
    "scrolled": false
   },
   "outputs": [
    {
     "data": {
      "text/plain": [
       "['bulky',\n",
       " 'genial',\n",
       " 'thanks',\n",
       " 'right',\n",
       " 'coo',\n",
       " 'thicker',\n",
       " 'hoped',\n",
       " 'returned',\n",
       " 'white',\n",
       " 'thank',\n",
       " 'return',\n",
       " 'add',\n",
       " 'gift',\n",
       " 'hoodie',\n",
       " 'thumbs',\n",
       " 'content',\n",
       " 'hot',\n",
       " 'cool',\n",
       " 'dope',\n",
       " 'wonderful',\n",
       " 'says',\n",
       " 'satisfied',\n",
       " 'amazing',\n",
       " 'alright',\n",
       " 'sweet',\n",
       " 'bs',\n",
       " 'need',\n",
       " 'wish',\n",
       " 'ilikeitalot',\n",
       " 'bueno',\n",
       " 'ripped',\n",
       " 'rip',\n",
       " 'hshshshshsjs',\n",
       " 'advertised',\n",
       " 'noice',\n",
       " 'holes',\n",
       " 'eh',\n",
       " 'want',\n",
       " 'really',\n",
       " 'warming',\n",
       " 'excelent',\n",
       " 'excelente',\n",
       " 'goodb',\n",
       " 'wanted',\n",
       " 'excellence',\n",
       " 'torn',\n",
       " 'excellent',\n",
       " 'comforable',\n",
       " 'vien',\n",
       " 'perefect',\n",
       " 'quality',\n",
       " 'exellent',\n",
       " 'grrreat',\n",
       " 'gusto',\n",
       " 'complaints',\n",
       " 'recomended',\n",
       " 'happy',\n",
       " 'harmless',\n",
       " 'ordering',\n",
       " 'hdufivncvi',\n",
       " 'tthank',\n",
       " 'wavy',\n",
       " 'order',\n",
       " 'orange',\n",
       " 'a1',\n",
       " 'purchase',\n",
       " 'confortable',\n",
       " 'okay',\n",
       " 'buy',\n",
       " 'fuzballs',\n",
       " 'aight',\n",
       " 'awesome',\n",
       " 'lightbweight',\n",
       " 'problems',\n",
       " '10',\n",
       " 'shrink',\n",
       " 'liked',\n",
       " 'soso',\n",
       " 'likes',\n",
       " 'mailbox',\n",
       " 'yup',\n",
       " 'write',\n",
       " 'shrunk',\n",
       " 'wrong',\n",
       " 'soft',\n",
       " 'snuggly',\n",
       " 'shame',\n",
       " 'fits',\n",
       " 'bad',\n",
       " 'dafawsfawsfgsgfg',\n",
       " 'll',\n",
       " 'material',\n",
       " 'prefect',\n",
       " 'decent',\n",
       " 'sizeble',\n",
       " 'lov',\n",
       " 'loved',\n",
       " 'cute',\n",
       " 'short',\n",
       " 'yes',\n",
       " 'described',\n",
       " 'loveit',\n",
       " 'plus',\n",
       " 'kept',\n",
       " 'luv',\n",
       " 'worn',\n",
       " 'just',\n",
       " 'fantastic',\n",
       " 'junkie',\n",
       " 'pleased',\n",
       " 'cozy',\n",
       " 'jhgk',\n",
       " 'fine',\n",
       " 'ssjs',\n",
       " 'worth',\n",
       " 'meh',\n",
       " 'works',\n",
       " 'fit',\n",
       " 'present']"
      ]
     },
     "execution_count": 28,
     "metadata": {},
     "output_type": "execute_result"
    }
   ],
   "source": [
    "features[0] # key features: size, material, comfort,color"
   ]
  },
  {
   "cell_type": "code",
   "execution_count": 29,
   "metadata": {},
   "outputs": [
    {
     "data": {
      "text/plain": [
       "['little', 'large', 'small', 'like', 'big', 'ordered']"
      ]
     },
     "execution_count": 29,
     "metadata": {},
     "output_type": "execute_result"
    }
   ],
   "source": [
    "features[1] # key feature: size"
   ]
  },
  {
   "cell_type": "code",
   "execution_count": 30,
   "metadata": {},
   "outputs": [
    {
     "data": {
      "text/plain": [
       "['comfortable', 'warm']"
      ]
     },
     "execution_count": 30,
     "metadata": {},
     "output_type": "execute_result"
    }
   ],
   "source": [
    "features[2] # key features: comfort, warm"
   ]
  },
  {
   "cell_type": "code",
   "execution_count": 31,
   "metadata": {},
   "outputs": [
    {
     "data": {
      "text/plain": [
       "['expected']"
      ]
     },
     "execution_count": 31,
     "metadata": {},
     "output_type": "execute_result"
    }
   ],
   "source": [
    "features[3]"
   ]
  },
  {
   "cell_type": "code",
   "execution_count": 32,
   "metadata": {},
   "outputs": [
    {
     "data": {
      "text/plain": [
       "['nice']"
      ]
     },
     "execution_count": 32,
     "metadata": {},
     "output_type": "execute_result"
    }
   ],
   "source": [
    "features[4]"
   ]
  },
  {
   "cell_type": "code",
   "execution_count": 33,
   "metadata": {},
   "outputs": [
    {
     "data": {
      "text/plain": [
       "['perfect']"
      ]
     },
     "execution_count": 33,
     "metadata": {},
     "output_type": "execute_result"
    }
   ],
   "source": [
    "features[5]"
   ]
  },
  {
   "cell_type": "code",
   "execution_count": 34,
   "metadata": {},
   "outputs": [
    {
     "data": {
      "text/plain": [
       "['good']"
      ]
     },
     "execution_count": 34,
     "metadata": {},
     "output_type": "execute_result"
    }
   ],
   "source": [
    "features[6]"
   ]
  },
  {
   "cell_type": "code",
   "execution_count": 35,
   "metadata": {},
   "outputs": [
    {
     "data": {
      "text/plain": [
       "['great']"
      ]
     },
     "execution_count": 35,
     "metadata": {},
     "output_type": "execute_result"
    }
   ],
   "source": [
    "features[7]"
   ]
  },
  {
   "cell_type": "code",
   "execution_count": 36,
   "metadata": {},
   "outputs": [
    {
     "data": {
      "text/plain": [
       "['comfy', 'ok']"
      ]
     },
     "execution_count": 36,
     "metadata": {},
     "output_type": "execute_result"
    }
   ],
   "source": [
    "features[8]  # key feature: comfy"
   ]
  },
  {
   "cell_type": "code",
   "execution_count": 37,
   "metadata": {},
   "outputs": [
    {
     "data": {
      "text/plain": [
       "['love']"
      ]
     },
     "execution_count": 37,
     "metadata": {},
     "output_type": "execute_result"
    }
   ],
   "source": [
    "features[9]"
   ]
  },
  {
   "cell_type": "code",
   "execution_count": 38,
   "metadata": {},
   "outputs": [],
   "source": [
    "# features = [size, material, comfort, warm, color]"
   ]
  },
  {
   "cell_type": "markdown",
   "metadata": {},
   "source": [
    "**Therefore, we choos the common features: \"color\",\"size\",\"comfort\",\"material\",\"price\",\"quality\"**"
   ]
  },
  {
   "cell_type": "markdown",
   "metadata": {},
   "source": [
    "# Evaluate the six categories"
   ]
  },
  {
   "cell_type": "code",
   "execution_count": 39,
   "metadata": {},
   "outputs": [],
   "source": [
    "df_1200 = pd.read_csv('data/1200.csv')"
   ]
  },
  {
   "cell_type": "code",
   "execution_count": 40,
   "metadata": {},
   "outputs": [],
   "source": [
    "y = df_1200['overall']\n",
    "X = df_1200.iloc[:,1:7]"
   ]
  },
  {
   "cell_type": "code",
   "execution_count": 45,
   "metadata": {},
   "outputs": [
    {
     "name": "stdout",
     "output_type": "stream",
     "text": [
      "The R square of Linear Regression model is: 0.4882592494730197\n",
      "The MAE of Linear Regression model is: 0.6275222901360613\n"
     ]
    }
   ],
   "source": [
    "lr = LinearRegression()\n",
    "lr.fit(X,y)\n",
    "y_pred = lr.predict(X)\n",
    "R2 = lr.score(X,y)\n",
    "MAE = mean_absolute_error(y, y_pred)\n",
    "print(\"The R square of Linear Regression model is:\", R2)\n",
    "print(\"The MAE of Linear Regression model is:\", MAE)"
   ]
  },
  {
   "cell_type": "code",
   "execution_count": 46,
   "metadata": {},
   "outputs": [
    {
     "name": "stdout",
     "output_type": "stream",
     "text": [
      "{'max_depth': 7, 'max_features': 'sqrt'}\n",
      "The R square of Drcision Tree Regression model is: 0.6356336708099337\n",
      "The MAE of Decision Tree Regression model is: 0.4781991275352623\n"
     ]
    }
   ],
   "source": [
    "model = DecisionTreeRegressor(random_state = 0)\n",
    "params = {'max_features':['auto', 'sqrt'], \n",
    "          'max_depth':[i for i in range(3,10)]}\n",
    "grid = GridSearchCV(model,param_grid = params, cv = 5)\n",
    "grid.fit(X,y)\n",
    "print(grid.best_params_)\n",
    "\n",
    "y_pred = grid.predict(X)\n",
    "R2 = grid.score(X,y)\n",
    "MAE = mean_absolute_error(y, y_pred)\n",
    "print(\"The R square of Drcision Tree Regression model is:\", R2)\n",
    "print(\"The MAE of Decision Tree Regression model is:\", MAE)"
   ]
  },
  {
   "cell_type": "markdown",
   "metadata": {},
   "source": [
    "**Decision Tree Regression model is much better, let''s see the importance level if each category**"
   ]
  },
  {
   "cell_type": "code",
   "execution_count": 47,
   "metadata": {},
   "outputs": [
    {
     "data": {
      "text/plain": [
       "array([0.06381757, 0.47645814, 0.24346849, 0.07615611, 0.02355121,\n",
       "       0.11654849])"
      ]
     },
     "execution_count": 47,
     "metadata": {},
     "output_type": "execute_result"
    }
   ],
   "source": [
    "model = DecisionTreeRegressor(random_state = 0,\n",
    "                              max_features = 'sqrt', \n",
    "                              max_depth=7)\n",
    "model.fit(X,y)\n",
    "model.feature_importances_"
   ]
  },
  {
   "cell_type": "code",
   "execution_count": 48,
   "metadata": {},
   "outputs": [
    {
     "data": {
      "text/html": [
       "<div>\n",
       "<style scoped>\n",
       "    .dataframe tbody tr th:only-of-type {\n",
       "        vertical-align: middle;\n",
       "    }\n",
       "\n",
       "    .dataframe tbody tr th {\n",
       "        vertical-align: top;\n",
       "    }\n",
       "\n",
       "    .dataframe thead th {\n",
       "        text-align: right;\n",
       "    }\n",
       "</style>\n",
       "<table border=\"1\" class=\"dataframe\">\n",
       "  <thead>\n",
       "    <tr style=\"text-align: right;\">\n",
       "      <th></th>\n",
       "      <th>importance</th>\n",
       "    </tr>\n",
       "  </thead>\n",
       "  <tbody>\n",
       "    <tr>\n",
       "      <th>price</th>\n",
       "      <td>2.355121</td>\n",
       "    </tr>\n",
       "    <tr>\n",
       "      <th>color</th>\n",
       "      <td>6.381757</td>\n",
       "    </tr>\n",
       "    <tr>\n",
       "      <th>comfort</th>\n",
       "      <td>7.615611</td>\n",
       "    </tr>\n",
       "    <tr>\n",
       "      <th>materi</th>\n",
       "      <td>11.654849</td>\n",
       "    </tr>\n",
       "    <tr>\n",
       "      <th>qualiti</th>\n",
       "      <td>24.346849</td>\n",
       "    </tr>\n",
       "    <tr>\n",
       "      <th>size</th>\n",
       "      <td>47.645814</td>\n",
       "    </tr>\n",
       "  </tbody>\n",
       "</table>\n",
       "</div>"
      ],
      "text/plain": [
       "         importance\n",
       "price      2.355121\n",
       "color      6.381757\n",
       "comfort    7.615611\n",
       "materi    11.654849\n",
       "qualiti   24.346849\n",
       "size      47.645814"
      ]
     },
     "execution_count": 48,
     "metadata": {},
     "output_type": "execute_result"
    }
   ],
   "source": [
    "df_importance = pd.DataFrame(100*model.feature_importances_,\n",
    "                   index = X.columns,\n",
    "                   columns=['importance'])\n",
    "df_importance = df_importance.sort_values(by = 'importance',axis=0,\n",
    "                      ascending=True)\n",
    "df_importance"
   ]
  },
  {
   "cell_type": "code",
   "execution_count": 52,
   "metadata": {},
   "outputs": [
    {
     "data": {
      "image/png": "[encoded data removed]",
      "text/plain": [
       "<Figure size 432x288 with 1 Axes>"
      ]
     },
     "metadata": {
      "needs_background": "light"
     },
     "output_type": "display_data"
    }
   ],
   "source": [
    "df_importance.plot(kind='barh',color='r',legend = False)\n",
    "plt.xlabel('Importance (%)')\n",
    "plt.ylabel('Feature')\n",
    "plt.grid()"
   ]
  },
  {
   "cell_type": "code",
   "execution_count": null,
   "metadata": {},
   "outputs": [],
   "source": []
  }
 ],
 "metadata": {
  "kernelspec": {
   "display_name": "Python 3",
   "language": "python",
   "name": "python3"
  },
  "language_info": {
   "codemirror_mode": {
    "name": "ipython",
    "version": 3
   },
   "file_extension": ".py",
   "mimetype": "text/x-python",
   "name": "python",
   "nbconvert_exporter": "python",
   "pygments_lexer": "ipython3",
   "version": "3.7.6"
  }
 },
 "nbformat": 4,
 "nbformat_minor": 4
}
